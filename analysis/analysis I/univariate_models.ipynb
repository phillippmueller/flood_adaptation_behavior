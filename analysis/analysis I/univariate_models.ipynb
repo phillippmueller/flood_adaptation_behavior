{
 "cells": [
  {
   "cell_type": "code",
   "execution_count": 1,
   "id": "bf274af7",
   "metadata": {},
   "outputs": [],
   "source": [
    "# analytics\n",
    "import pandas as pd \n",
    "import numpy as np\n",
    "import scipy.stats as stats\n",
    "import statsmodels.formula.api as smf\n",
    "#spatial \n",
    "import osmnx as ox\n",
    "import geopandas as gpd\n",
    "import contextily as cx\n",
    "# plotting \n",
    "import df2img\n",
    "import seaborn as sns\n",
    "import matplotlib.pyplot as plt\n",
    "from matplotlib.colors import LinearSegmentedColormap\n",
    "#settings\n",
    "import warnings\n",
    "\n",
    "#set output to 3 digits\n",
    "pd.set_option(\"display.precision\", 3)\n",
    "#suppress warnings \n",
    "warnings.filterwarnings('ignore')"
   ]
  },
  {
   "cell_type": "code",
   "execution_count": 2,
   "id": "5203c831",
   "metadata": {},
   "outputs": [
    {
     "data": {
      "text/plain": [
       "Index(['id', 'state', 'zipcode', 'geographic_division', 'census_region',\n",
       "       'county', 'experience', 'supplies', 'insured', 'involved',\n",
       "       'learned_routes', 'made_plan', 'made_safer', 'planned_neighbors',\n",
       "       'practiced_drills', 'documents', 'rainy_day', 'alerts',\n",
       "       'family_communication', 'none', 'dont_know', 'age', 'sex', 'education',\n",
       "       'race', 'homeownership', 'income', 'rentmortgage', 'rurality',\n",
       "       'hazard_weight', 'geometry', 'zip_count'],\n",
       "      dtype='object')"
      ]
     },
     "execution_count": 2,
     "metadata": {},
     "output_type": "execute_result"
    }
   ],
   "source": [
    "# import data\n",
    "path = '/Users/philip/Documents/ESE/ESE_thesis/flood_experience/data/export/clean_n.csv'\n",
    "df_n = pd.read_csv(path)\n",
    "df_n.columns"
   ]
  },
  {
   "cell_type": "code",
   "execution_count": 3,
   "id": "2224cb87",
   "metadata": {},
   "outputs": [
    {
     "data": {
      "text/plain": [
       "Index(['id', 'state', 'zipcode', 'geographic_division', 'census_region',\n",
       "       'county', 'awareness', 'perception', 'experience', 'floodzone',\n",
       "       'supplies', 'insured', 'involved', 'learned_routes', 'made_plan',\n",
       "       'made_safer', 'planned_neighbors', 'practiced_drills', 'documents',\n",
       "       'rainy_day', 'alerts', 'family_communication', 'none', 'dont_know',\n",
       "       'age', 'sex', 'education', 'race', 'homeownership', 'income',\n",
       "       'rentmortgage', 'rurality', 'hazard_weight', 'geometry', 'zip_count'],\n",
       "      dtype='object')"
      ]
     },
     "execution_count": 3,
     "metadata": {},
     "output_type": "execute_result"
    }
   ],
   "source": [
    "path = '/Users/philip/Documents/ESE/ESE_thesis/flood_experience/data/export/clean_k.csv'\n",
    "df_k = pd.read_csv(path)\n",
    "df_k.columns"
   ]
  },
  {
   "cell_type": "code",
   "execution_count": 4,
   "id": "ebf88a90",
   "metadata": {},
   "outputs": [],
   "source": [
    "def r_square(model):\n",
    "    # McKelvay-Zavoina\n",
    "    xb = model.predict(linear=True) #fitted latent value\n",
    "    var_xb = np.var(xb,ddof=1) # variance of xb\n",
    "    r2_mz = var_xb / (var_xb + 1) # McKelvay-Zavoina R_2\n",
    "    # McFadden\n",
    "    r2_mf = model.prsquared\n",
    "    return r2_mz\n"
   ]
  },
  {
   "cell_type": "code",
   "execution_count": 5,
   "id": "389e6b21",
   "metadata": {},
   "outputs": [],
   "source": [
    "def probit (functions, determinant, data):\n",
    "    # create a dataframe to capture results \n",
    "    results = pd.DataFrame(columns=['effect', 'p', 'marginal_effect', 'pseudoR_2', 'LLRp','BIC']) \n",
    "    # iterate over functions and compute models and capture results   \n",
    "    for var in functions:\n",
    "        model = smf.probit(formula=var, data=data).fit(disp=0) # run the model\n",
    "        #fill the dataframe columns \n",
    "        results.at[var,'effect'] = model.params[determinant]\n",
    "        results.at[var,'p'] = model.pvalues[determinant]\n",
    "        temporary = model.get_margeff().summary_frame() \n",
    "        results.at[var,'marginal_effect'] = temporary.at[determinant,'dy/dx']\n",
    "        results.at[var,'pseudoR_2'] = r_square(model)\n",
    "        results.at[var,'LLRp'] = model.llr_pvalue\n",
    "        results.at[var,'BIC'] = model.bic\n",
    "    return results"
   ]
  },
  {
   "cell_type": "code",
   "execution_count": 6,
   "id": "9ea7b72a",
   "metadata": {},
   "outputs": [
    {
     "data": {
      "text/plain": [
       "0      1.0\n",
       "1      1.0\n",
       "2      1.0\n",
       "3      1.0\n",
       "4      1.0\n",
       "      ... \n",
       "404    0.0\n",
       "405    0.0\n",
       "406    0.0\n",
       "407    0.0\n",
       "408    0.0\n",
       "Name: perception, Length: 409, dtype: float64"
      ]
     },
     "execution_count": 6,
     "metadata": {},
     "output_type": "execute_result"
    }
   ],
   "source": [
    "df_k.perception"
   ]
  },
  {
   "cell_type": "code",
   "execution_count": 7,
   "id": "3ad34443",
   "metadata": {},
   "outputs": [],
   "source": [
    "perception = [\n",
    "    'made_safer ~ perception',\n",
    "    'documents ~ perception',\n",
    "    'insured ~ perception',\n",
    "    'learned_routes ~ perception',\n",
    "    'supplies ~ perception',\n",
    "    'involved ~ perception',\n",
    "    'made_plan ~ perception',  \n",
    "    'practiced_drills ~ perception', \n",
    "    'alerts ~ perception', \n",
    "    'family_communication ~ perception'\n",
    "]\n",
    "\n",
    "awareness = [\n",
    "    'made_safer ~ awareness',\n",
    "    'documents ~ awareness',\n",
    "    'insured ~ awareness',\n",
    "    'learned_routes ~ awareness',\n",
    "    'supplies ~ awareness',\n",
    "    'involved ~ awareness',\n",
    "    'made_plan ~ awareness', \n",
    "    'practiced_drills ~ awareness', \n",
    "    'alerts ~ awareness', \n",
    "    'family_communication ~ awareness'\n",
    "]\n",
    "\n",
    "experience = [\n",
    "    'made_safer ~ experience',\n",
    "    'documents ~ experience',\n",
    "    'insured ~ experience',\n",
    "    'learned_routes ~ experience',\n",
    "    'supplies ~ experience',\n",
    "    'involved ~ experience',\n",
    "    'made_plan ~ experience', \n",
    "    'practiced_drills ~ experience', \n",
    "    'alerts ~ experience', \n",
    "    'family_communication ~ experience'\n",
    "]\n",
    "\n",
    "floodzone = [\n",
    "    'made_safer ~ floodzone',\n",
    "    'documents ~ floodzone',\n",
    "    'insured ~ floodzone',\n",
    "    'learned_routes ~ floodzone',\n",
    "    'supplies ~ floodzone',\n",
    "    'involved ~ floodzone',\n",
    "    'made_plan ~ floodzone', \n",
    "    'practiced_drills ~ floodzone', \n",
    "    'alerts ~ floodzone', \n",
    "    'family_communication ~ floodzone'\n",
    "]\n",
    "\n",
    "insurance = [\n",
    "    'made_safer ~ insured',\n",
    "    'documents ~ insured',\n",
    "    'learned_routes ~ insured',\n",
    "    'supplies ~ insured',\n",
    "    'involved ~ insured',\n",
    "    'made_plan ~ insured', \n",
    "    'practiced_drills ~ insured', \n",
    "    'alerts ~ insured', \n",
    "    'family_communication ~ insured'\n",
    "]\n",
    "\n",
    "age = [\n",
    "    'made_safer ~ age',\n",
    "    'documents ~ age',\n",
    "    'insured ~ age',\n",
    "    'learned_routes ~ age',\n",
    "    'supplies ~ age',\n",
    "    'involved ~ age',\n",
    "    'made_plan ~ age', \n",
    "    'practiced_drills ~ age', \n",
    "    'alerts ~ age', \n",
    "    'family_communication ~ age'\n",
    "]\n",
    "\n",
    "income = [\n",
    "    'made_safer ~ income',\n",
    "    'documents ~ income',\n",
    "    'insured ~ income',\n",
    "    'learned_routes ~ income',\n",
    "    'supplies ~ income',\n",
    "    'involved ~ income',\n",
    "    'made_plan ~ income', \n",
    "    'practiced_drills ~ income', \n",
    "    'alerts ~ income', \n",
    "    'family_communication ~ income'\n",
    "]\n",
    "\n",
    "sex = [\n",
    "     'made_safer ~ sex',\n",
    "    'documents ~ sex',\n",
    "    'insured ~ sex',\n",
    "    'learned_routes ~ sex',\n",
    "    'supplies ~ sex',\n",
    "    'involved ~ sex',\n",
    "    'made_plan ~ sex', \n",
    "    'practiced_drills ~ sex', \n",
    "    'alerts ~ sex', \n",
    "    'family_communication ~ sex'\n",
    "]\n",
    "\n",
    "education = [\n",
    "    'made_safer ~ education',\n",
    "    'documents ~ education',\n",
    "    'insured ~ education',\n",
    "    'learned_routes ~ education',\n",
    "    'supplies ~ education',\n",
    "    'involved ~ education',\n",
    "    'made_plan ~ education', \n",
    "    'practiced_drills ~ education', \n",
    "    'alerts ~ education', \n",
    "    'family_communication ~ education'\n",
    "]\n",
    "\n",
    "homeownership = [\n",
    "    'made_safer ~ homeownership',\n",
    "    'documents ~ homeownership',\n",
    "    'insured ~ homeownership',\n",
    "    'learned_routes ~ homeownership',\n",
    "    'supplies ~ homeownership',\n",
    "    'involved ~ homeownership',\n",
    "    'made_plan ~ homeownership', \n",
    "    'practiced_drills ~ homeownership', \n",
    "    'alerts ~ homeownership', \n",
    "    'family_communication ~ homeownership'\n",
    "]\n",
    "\n",
    "rentmortgage = [\n",
    "    'made_safer ~ rentmortgage',\n",
    "    'documents ~ rentmortgage',\n",
    "    'insured ~ rentmortgage',\n",
    "    'learned_routes ~ rentmortgage',\n",
    "    'supplies ~ rentmortgage',\n",
    "    'involved ~ rentmortgage',\n",
    "    'made_plan ~ rentmortgage', \n",
    "    'practiced_drills ~ rentmortgage', \n",
    "    'alerts ~ rentmortgage', \n",
    "    'family_communication ~ rentmortgage'\n",
    "]"
   ]
  },
  {
   "cell_type": "code",
   "execution_count": null,
   "id": "3b0bad6c",
   "metadata": {},
   "outputs": [],
   "source": [
    "functions = [\n",
    "    ('perception', perception, df_k),\n",
    "    ('awareness', awareness, df_k),\n",
    "    ('experience', experience, df_n),\n",
    "    ('floodzone', floodzone, df_k),\n",
    "    ('insured', insurance, df_n),\n",
    "    ('age', age, df_n),\n",
    "    ('income', income, df_n),\n",
    "    ('sex', sex, df_n),\n",
    "    ('education', education, df_n),\n",
    "    ('homeownership', homeownership, df_n),\n",
    "    ('rentmortgage', rentmortgage, df_n)\n",
    "]\n",
    "\n",
    "\n",
    "res_list = [] \n",
    "determinant_keys = [] # first level index \n",
    "\n",
    "for determinant, formula_list, data in functions:\n",
    "    res_df = probit(functions=formula_list, determinant=determinant, data=data)\n",
    "    res_list.append(res_df)\n",
    "    determinant_keys.append(determinant)\n",
    "probit_df = pd.concat(res_list, keys = determinant_keys, names = ['Determinant','Function'])\n",
    "probit_df.to_excel('results/probit_univariate.xlsx')\n"
   ]
  },
  {
   "cell_type": "markdown",
   "id": "3e7a3f76",
   "metadata": {},
   "source": [
    "## What is the effect of risk perception on awareness?"
   ]
  },
  {
   "cell_type": "code",
   "execution_count": 9,
   "id": "562a0fd8",
   "metadata": {},
   "outputs": [],
   "source": [
    "functions = ['awareness ~ perception']\n",
    "determinant = 'perception'"
   ]
  },
  {
   "cell_type": "code",
   "execution_count": 10,
   "id": "16069690",
   "metadata": {},
   "outputs": [
    {
     "data": {
      "text/html": [
       "<div>\n",
       "<style scoped>\n",
       "    .dataframe tbody tr th:only-of-type {\n",
       "        vertical-align: middle;\n",
       "    }\n",
       "\n",
       "    .dataframe tbody tr th {\n",
       "        vertical-align: top;\n",
       "    }\n",
       "\n",
       "    .dataframe thead th {\n",
       "        text-align: right;\n",
       "    }\n",
       "</style>\n",
       "<table border=\"1\" class=\"dataframe\">\n",
       "  <thead>\n",
       "    <tr style=\"text-align: right;\">\n",
       "      <th></th>\n",
       "      <th>effect</th>\n",
       "      <th>p</th>\n",
       "      <th>marginal_effect</th>\n",
       "      <th>pseudoR_2</th>\n",
       "      <th>LLRp</th>\n",
       "      <th>BIC</th>\n",
       "    </tr>\n",
       "  </thead>\n",
       "  <tbody>\n",
       "    <tr>\n",
       "      <th>awareness ~ perception</th>\n",
       "      <td>0.675</td>\n",
       "      <td>0.0</td>\n",
       "      <td>0.254</td>\n",
       "      <td>0.102</td>\n",
       "      <td>0.0</td>\n",
       "      <td>549.382</td>\n",
       "    </tr>\n",
       "  </tbody>\n",
       "</table>\n",
       "</div>"
      ],
      "text/plain": [
       "                       effect    p marginal_effect pseudoR_2 LLRp      BIC\n",
       "awareness ~ perception  0.675  0.0           0.254     0.102  0.0  549.382"
      ]
     },
     "execution_count": 10,
     "metadata": {},
     "output_type": "execute_result"
    }
   ],
   "source": [
    "probit(functions=functions, determinant='perception', data=df_k)"
   ]
  }
 ],
 "metadata": {
  "kernelspec": {
   "display_name": "datascience",
   "language": "python",
   "name": "python3"
  },
  "language_info": {
   "codemirror_mode": {
    "name": "ipython",
    "version": 3
   },
   "file_extension": ".py",
   "mimetype": "text/x-python",
   "name": "python",
   "nbconvert_exporter": "python",
   "pygments_lexer": "ipython3",
   "version": "3.11.5"
  }
 },
 "nbformat": 4,
 "nbformat_minor": 5
}
