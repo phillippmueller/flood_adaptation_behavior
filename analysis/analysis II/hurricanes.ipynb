{
 "cells": [
  {
   "cell_type": "code",
   "execution_count": 1,
   "id": "25a1eeb1",
   "metadata": {},
   "outputs": [],
   "source": [
    "# analytics\n",
    "import pandas as pd \n",
    "import numpy as np\n",
    "import scipy.stats as stats\n",
    "import statsmodels.formula.api as smf\n",
    "#spatial \n",
    "import osmnx as ox\n",
    "import geopandas as gpd\n",
    "import contextily as cx\n",
    "# plotting \n",
    "import seaborn as sns\n",
    "import matplotlib.pyplot as plt\n",
    "from matplotlib.colors import LinearSegmentedColormap\n",
    "#settings\n",
    "import warnings\n",
    "\n",
    "# set dataframe outputs to three digits \n",
    "pd.set_option(\"display.precision\", 3)\n",
    "#suppress warnings\n",
    "warnings.filterwarnings('ignore')"
   ]
  },
  {
   "cell_type": "code",
   "execution_count": 2,
   "id": "f7ea8a07",
   "metadata": {},
   "outputs": [
    {
     "data": {
      "text/plain": [
       "Index(['id', 'state', 'zipcode', 'geographic_division', 'census_region',\n",
       "       'county', 'awareness', 'perception', 'experience', 'floodzone',\n",
       "       'supplies', 'insured', 'involved', 'learned_routes', 'made_plan',\n",
       "       'made_safer', 'planned_neighbors', 'practiced_drills', 'documents',\n",
       "       'rainy_day', 'alerts', 'family_communication', 'none', 'dont_know',\n",
       "       'age', 'sex', 'education', 'race', 'homeownership', 'income',\n",
       "       'rentmortgage', 'rurality', 'hazard_weight', 'geometry', 'zip_count'],\n",
       "      dtype='object')"
      ]
     },
     "execution_count": 2,
     "metadata": {},
     "output_type": "execute_result"
    }
   ],
   "source": [
    "#import processed data\n",
    "path = '/Users/philip/Documents/ESE/ESE_thesis/flood_experience/data/export/clean_k.csv'\n",
    "df = pd.read_csv(path)\n",
    "df.columns"
   ]
  },
  {
   "cell_type": "code",
   "execution_count": 3,
   "id": "879b7c7c",
   "metadata": {},
   "outputs": [],
   "source": [
    "# add hurricane dummy \n",
    "df['hurricane'] = np.nan\n",
    "hurricane_state = 'Florida'\n",
    "non_hurricane = ['Washington','Oregon','Pennsylvania']\n",
    "df['hurricane'] = [1 if s in hurricane_state else 0 if s in non_hurricane else np.nan for s in df.state]"
   ]
  },
  {
   "cell_type": "code",
   "execution_count": 4,
   "id": "5688cbd9",
   "metadata": {},
   "outputs": [
    {
     "data": {
      "text/plain": [
       "(270, 36)"
      ]
     },
     "execution_count": 4,
     "metadata": {},
     "output_type": "execute_result"
    }
   ],
   "source": [
    "df = df.dropna()\n",
    "df.shape"
   ]
  },
  {
   "cell_type": "code",
   "execution_count": 5,
   "id": "46b88c36",
   "metadata": {},
   "outputs": [],
   "source": [
    "def r_square(model):\n",
    "    # McKelvay-Zavoina\n",
    "    xb = model.predict(linear=True) #fitted latent value\n",
    "    var_xb = np.var(xb,ddof=1) # variance of xb\n",
    "    r2_mz = var_xb / (var_xb + 1) # McKelvay-Zavoina R_2\n",
    "    # McFadden\n",
    "    r2_mf = model.prsquared\n",
    "    return r2_mz"
   ]
  },
  {
   "cell_type": "code",
   "execution_count": 6,
   "id": "d10f189e",
   "metadata": {},
   "outputs": [],
   "source": [
    "def probit(functions, data):\n",
    "    results_list = []\n",
    "    for func in functions:\n",
    "        model = smf.probit(formula=func, data=data).fit(disp=0)\n",
    "        df_model = pd.DataFrame({\n",
    "            'effect': model.params,               \n",
    "            'p': model.pvalues,    \n",
    "            'pseudoR_2': r_square(model),\n",
    "            'LLPr': model.llr_pvalue,\n",
    "            'BIC': model.bic  \n",
    "        })\n",
    "        df_marginal = model.get_margeff().summary_frame()\n",
    "        df_model = pd.concat([df_model, df_marginal], axis =1)\n",
    "\n",
    "        df_model.index = pd.MultiIndex.from_product([[func], df_model.index], names=['function', 'beta'])\n",
    "        results_list.append(df_model)\n",
    "    results = pd.concat(results_list)\n",
    "    return results"
   ]
  },
  {
   "cell_type": "code",
   "execution_count": 7,
   "id": "42757a31",
   "metadata": {},
   "outputs": [],
   "source": [
    "#duplicate but with logit\n",
    "def logit(functions, data):\n",
    "    results_list = []\n",
    "    for func in functions:\n",
    "        model = smf.logit(formula=func, data=data).fit(disp=0)\n",
    "        marg_effects = model.get_margeff().summary_frame()\n",
    "\n",
    "        df_model = pd.DataFrame({\n",
    "            'effect': model.params,               \n",
    "            'p': model.pvalues,                   \n",
    "            'marginal_effect': marg_effects['dy/dx'],\n",
    "            'pseudoR_2': model.prsquared,\n",
    "            'LLPr': model.llr_pvalue,\n",
    "            'BIC': model.bic  \n",
    "        })\n",
    "        df_model.index = pd.MultiIndex.from_product([[func], df_model.index], names=['function', 'beta'])\n",
    "        results_list.append(df_model)\n",
    "    results = pd.concat(results_list)\n",
    "    return results"
   ]
  },
  {
   "cell_type": "code",
   "execution_count": 8,
   "id": "8d08c7d3",
   "metadata": {},
   "outputs": [],
   "source": [
    "# functions \n",
    "M1 = [\n",
    "    'made_safer ~ hurricane + perception + age + homeownership',\n",
    "    'documents ~ hurricane + perception + age + homeownership',\n",
    "    'learned_routes ~ hurricane + perception + age + homeownership',\n",
    "    'supplies ~ hurricane + perception + age + homeownership',\n",
    "    'involved ~ hurricane + perception + age + homeownership',\n",
    "    'made_plan ~ hurricane + perception + age + homeownership',\n",
    "    'practiced_drills ~ hurricane + perception + age + homeownership',\n",
    "    'alerts ~ hurricane + perception + age + homeownership',\n",
    "    'family_communication ~ hurricane + perception + age + homeownership',\n",
    "    'insured ~ hurricane + perception + age + homeownership'\n",
    "]\n",
    "\n",
    "M2 = [\n",
    "    'made_safer ~ hurricane + awareness + age + homeownership',\n",
    "    'documents ~ hurricane + awareness + age + homeownership',\n",
    "    'learned_routes ~ hurricane + awareness + age + homeownership',\n",
    "    'supplies ~ hurricane + awareness + age + homeownership',\n",
    "    'involved ~ hurricane + awareness + age + homeownership',\n",
    "    'made_plan ~ hurricane + awareness + age + homeownership',\n",
    "    'practiced_drills ~ hurricane + awareness + age + homeownership',\n",
    "    'alerts ~ hurricane + awareness + age + homeownership',\n",
    "    'family_communication ~ hurricane + awareness + age + homeownership',\n",
    "    'insured ~ hurricane + awareness + age + homeownership'\n",
    "]"
   ]
  },
  {
   "cell_type": "code",
   "execution_count": 9,
   "id": "de6c3f87",
   "metadata": {},
   "outputs": [],
   "source": [
    "# probit regression\n",
    "M1 = probit(functions = M1, data = df)\n",
    "M2 = probit(functions = M2, data = df)"
   ]
  },
  {
   "cell_type": "code",
   "execution_count": 10,
   "id": "a395a74d",
   "metadata": {},
   "outputs": [],
   "source": [
    "# store results \n",
    "M1, M2 = M1.round(3), M2.round(3)\n",
    "M1.to_excel('results/M1.xlsx')\n",
    "M2.to_excel('results/M2.xlsx')"
   ]
  },
  {
   "cell_type": "markdown",
   "id": "98ce25ce",
   "metadata": {},
   "source": [
    "### Sensitivity Check: Exclude dummy"
   ]
  },
  {
   "cell_type": "code",
   "execution_count": 11,
   "id": "616b96b5",
   "metadata": {},
   "outputs": [],
   "source": [
    "# functions \n",
    "D1 = [\n",
    "    'made_safer ~ perception + age + homeownership',\n",
    "    'documents ~ perception + age + homeownership',\n",
    "    'learned_routes ~ perception + age + homeownership',\n",
    "    'supplies ~ perception + age + homeownership',\n",
    "    'involved ~ perception + age + homeownership',\n",
    "    'made_plan ~ perception + age + homeownership',\n",
    "    'practiced_drills ~ perception + age + homeownership',\n",
    "    'alerts ~ perception + age + homeownership',\n",
    "    'family_communication ~ perception + age + homeownership',\n",
    "    'insured ~ perception + age + homeownership'\n",
    "]\n",
    "\n",
    "D2 = [\n",
    "    'made_safer ~ awareness + age + homeownership',\n",
    "    'documents ~ awareness + age + homeownership',\n",
    "    'learned_routes ~ awareness + age + homeownership',\n",
    "    'supplies ~ awareness + age + homeownership',\n",
    "    'involved ~ awareness + age + homeownership',\n",
    "    'made_plan ~ awareness + age + homeownership',\n",
    "    'practiced_drills ~ awareness + age + homeownership',\n",
    "    'alerts ~ awareness + age + homeownership',\n",
    "    'family_communication ~ awareness + age + homeownership',\n",
    "    'insured ~ awareness + age + homeownership'\n",
    "]"
   ]
  },
  {
   "cell_type": "code",
   "execution_count": 12,
   "id": "7073829c",
   "metadata": {},
   "outputs": [],
   "source": [
    "# probit regression\n",
    "D1 = probit(functions = D1, data = df)\n",
    "D2 = probit(functions = D2, data = df)"
   ]
  },
  {
   "cell_type": "code",
   "execution_count": 13,
   "id": "97e03beb",
   "metadata": {},
   "outputs": [],
   "source": [
    "# store results \n",
    "D1, D2 = D1.round(3), D2.round(3)\n",
    "D1.to_excel('results/D1.xlsx')\n",
    "D2.to_excel('results/D2.xlsx')"
   ]
  },
  {
   "cell_type": "markdown",
   "id": "e040b9da",
   "metadata": {},
   "source": [
    "### Now including insurance"
   ]
  },
  {
   "cell_type": "code",
   "execution_count": 14,
   "id": "38d0e316",
   "metadata": {},
   "outputs": [],
   "source": [
    "# functions \n",
    "M1 = [\n",
    "    'made_safer ~ hurricane + perception + age + homeownership + insured',\n",
    "    'documents ~ hurricane + perception + age + homeownership + insured',\n",
    "    'learned_routes ~ hurricane + perception + age + homeownership + insured',\n",
    "    'supplies ~ hurricane + perception + age + homeownership + insured',\n",
    "    'involved ~ hurricane + perception + age + homeownership + insured',\n",
    "    'made_plan ~ hurricane + perception + age + homeownership + insured',\n",
    "    'practiced_drills ~ hurricane + perception + age + homeownership + insured',\n",
    "    'alerts ~ hurricane + perception + age + homeownership + insured',\n",
    "    'family_communication ~ hurricane + perception + age + homeownership + insured',\n",
    "]\n",
    "M2 = [\n",
    "    'made_safer ~ hurricane + awareness + age + homeownership + insured',\n",
    "    'documents ~ hurricane + awareness + age + homeownership + insured',\n",
    "    'learned_routes ~ hurricane + awareness + age + homeownership + insured',\n",
    "    'supplies ~ hurricane + awareness + age + homeownership + insured',\n",
    "    'involved ~ hurricane + awareness + age + homeownership + insured',\n",
    "    'made_plan ~ hurricane + awareness + age + homeownership + insured',\n",
    "    'practiced_drills ~ hurricane + awareness + age + homeownership + insured',\n",
    "    'alerts ~ hurricane + awareness + age + homeownership + insured',\n",
    "    'family_communication ~ hurricane + awareness + age + homeownership + insured',\n",
    "]"
   ]
  },
  {
   "cell_type": "code",
   "execution_count": 15,
   "id": "67414c8d",
   "metadata": {},
   "outputs": [],
   "source": [
    "# probit regression\n",
    "M1 = probit(functions = M1, data = df)\n",
    "M2 = probit(functions = M2, data = df)"
   ]
  },
  {
   "cell_type": "code",
   "execution_count": 16,
   "id": "876719df",
   "metadata": {},
   "outputs": [],
   "source": [
    "# store results \n",
    "M1, M2 = M1.round(3), M2.round(3)\n",
    "M1.to_excel('results/M1_insured.xlsx')\n",
    "M2.to_excel('results/M2_insured.xlsx')"
   ]
  }
 ],
 "metadata": {
  "kernelspec": {
   "display_name": "datascience",
   "language": "python",
   "name": "python3"
  },
  "language_info": {
   "codemirror_mode": {
    "name": "ipython",
    "version": 3
   },
   "file_extension": ".py",
   "mimetype": "text/x-python",
   "name": "python",
   "nbconvert_exporter": "python",
   "pygments_lexer": "ipython3",
   "version": "3.11.5"
  }
 },
 "nbformat": 4,
 "nbformat_minor": 5
}
