{
 "cells": [
  {
   "cell_type": "markdown",
   "metadata": {},
   "source": [
    "## Hypothesis: Insurance take-up has a positive effect on preparedness"
   ]
  },
  {
   "cell_type": "code",
   "execution_count": 1,
   "metadata": {},
   "outputs": [],
   "source": [
    "# analytics\n",
    "import pandas as pd \n",
    "import numpy as np\n",
    "import scipy.stats as stats\n",
    "import statsmodels.formula.api as smf\n",
    "#spatial \n",
    "import osmnx as ox\n",
    "import geopandas as gpd\n",
    "import contextily as cx\n",
    "# plotting \n",
    "import seaborn as sns\n",
    "import matplotlib.pyplot as plt\n",
    "from matplotlib.colors import LinearSegmentedColormap\n",
    "#settings\n",
    "import warnings"
   ]
  },
  {
   "cell_type": "code",
   "execution_count": 2,
   "metadata": {},
   "outputs": [
    {
     "data": {
      "text/html": [
       "<div>\n",
       "<style scoped>\n",
       "    .dataframe tbody tr th:only-of-type {\n",
       "        vertical-align: middle;\n",
       "    }\n",
       "\n",
       "    .dataframe tbody tr th {\n",
       "        vertical-align: top;\n",
       "    }\n",
       "\n",
       "    .dataframe thead th {\n",
       "        text-align: right;\n",
       "    }\n",
       "</style>\n",
       "<table border=\"1\" class=\"dataframe\">\n",
       "  <thead>\n",
       "    <tr style=\"text-align: right;\">\n",
       "      <th></th>\n",
       "      <th>id</th>\n",
       "      <th>state</th>\n",
       "      <th>zipcode</th>\n",
       "      <th>geographic_division</th>\n",
       "      <th>census_region</th>\n",
       "      <th>county</th>\n",
       "      <th>experience</th>\n",
       "      <th>supplies</th>\n",
       "      <th>insured</th>\n",
       "      <th>involved</th>\n",
       "      <th>...</th>\n",
       "      <th>sex</th>\n",
       "      <th>education</th>\n",
       "      <th>race</th>\n",
       "      <th>homeownership</th>\n",
       "      <th>income</th>\n",
       "      <th>rentmortgage</th>\n",
       "      <th>rurality</th>\n",
       "      <th>hazard_weight</th>\n",
       "      <th>geometry</th>\n",
       "      <th>zip_count</th>\n",
       "    </tr>\n",
       "  </thead>\n",
       "  <tbody>\n",
       "    <tr>\n",
       "      <th>0</th>\n",
       "      <td>1</td>\n",
       "      <td>Washington</td>\n",
       "      <td>98033</td>\n",
       "      <td>Pacific</td>\n",
       "      <td>West</td>\n",
       "      <td>King</td>\n",
       "      <td>0.0</td>\n",
       "      <td>0</td>\n",
       "      <td>0</td>\n",
       "      <td>1</td>\n",
       "      <td>...</td>\n",
       "      <td>0.0</td>\n",
       "      <td>4</td>\n",
       "      <td>White</td>\n",
       "      <td>1</td>\n",
       "      <td>87500</td>\n",
       "      <td>1250.0</td>\n",
       "      <td>1</td>\n",
       "      <td>0.255097</td>\n",
       "      <td>POLYGON ((-13608075.601186747 6055357.24645823...</td>\n",
       "      <td>1</td>\n",
       "    </tr>\n",
       "    <tr>\n",
       "      <th>1</th>\n",
       "      <td>2</td>\n",
       "      <td>Florida</td>\n",
       "      <td>33950</td>\n",
       "      <td>South Atlantic</td>\n",
       "      <td>South</td>\n",
       "      <td>Charlotte</td>\n",
       "      <td>1.0</td>\n",
       "      <td>0</td>\n",
       "      <td>1</td>\n",
       "      <td>1</td>\n",
       "      <td>...</td>\n",
       "      <td>1.0</td>\n",
       "      <td>5</td>\n",
       "      <td>White</td>\n",
       "      <td>1</td>\n",
       "      <td>175000</td>\n",
       "      <td>3000.0</td>\n",
       "      <td>1</td>\n",
       "      <td>2.836145</td>\n",
       "      <td>POLYGON ((-9139287.781401768 3112400.961508024...</td>\n",
       "      <td>1</td>\n",
       "    </tr>\n",
       "    <tr>\n",
       "      <th>2</th>\n",
       "      <td>3</td>\n",
       "      <td>New Jersey</td>\n",
       "      <td>7031</td>\n",
       "      <td>Middle Atlantic</td>\n",
       "      <td>Northeast</td>\n",
       "      <td>Bergen</td>\n",
       "      <td>1.0</td>\n",
       "      <td>0</td>\n",
       "      <td>0</td>\n",
       "      <td>1</td>\n",
       "      <td>...</td>\n",
       "      <td>1.0</td>\n",
       "      <td>1</td>\n",
       "      <td>White</td>\n",
       "      <td>0</td>\n",
       "      <td>47500</td>\n",
       "      <td>1250.0</td>\n",
       "      <td>1</td>\n",
       "      <td>1.165971</td>\n",
       "      <td>POLYGON ((-8254065.171859486 4980899.960122439...</td>\n",
       "      <td>1</td>\n",
       "    </tr>\n",
       "    <tr>\n",
       "      <th>3</th>\n",
       "      <td>5</td>\n",
       "      <td>Pennsylvania</td>\n",
       "      <td>19148</td>\n",
       "      <td>Middle Atlantic</td>\n",
       "      <td>Northeast</td>\n",
       "      <td>Philadelphia</td>\n",
       "      <td>1.0</td>\n",
       "      <td>0</td>\n",
       "      <td>1</td>\n",
       "      <td>0</td>\n",
       "      <td>...</td>\n",
       "      <td>0.0</td>\n",
       "      <td>4</td>\n",
       "      <td>White</td>\n",
       "      <td>1</td>\n",
       "      <td>125000</td>\n",
       "      <td>1250.0</td>\n",
       "      <td>1</td>\n",
       "      <td>0.624890</td>\n",
       "      <td>POLYGON ((-8368433.592186097 4851218.465580212...</td>\n",
       "      <td>1</td>\n",
       "    </tr>\n",
       "    <tr>\n",
       "      <th>4</th>\n",
       "      <td>7</td>\n",
       "      <td>Florida</td>\n",
       "      <td>32976</td>\n",
       "      <td>South Atlantic</td>\n",
       "      <td>South</td>\n",
       "      <td>Brevard</td>\n",
       "      <td>0.0</td>\n",
       "      <td>1</td>\n",
       "      <td>1</td>\n",
       "      <td>0</td>\n",
       "      <td>...</td>\n",
       "      <td>0.0</td>\n",
       "      <td>2</td>\n",
       "      <td>White</td>\n",
       "      <td>1</td>\n",
       "      <td>20000</td>\n",
       "      <td>250.0</td>\n",
       "      <td>1</td>\n",
       "      <td>0.695075</td>\n",
       "      <td>POLYGON ((-8971557.027329512 3234931.888104651...</td>\n",
       "      <td>1</td>\n",
       "    </tr>\n",
       "  </tbody>\n",
       "</table>\n",
       "<p>5 rows × 32 columns</p>\n",
       "</div>"
      ],
      "text/plain": [
       "   id         state  zipcode geographic_division census_region        county  \\\n",
       "0   1    Washington    98033             Pacific          West          King   \n",
       "1   2       Florida    33950      South Atlantic         South     Charlotte   \n",
       "2   3    New Jersey     7031     Middle Atlantic     Northeast        Bergen   \n",
       "3   5  Pennsylvania    19148     Middle Atlantic     Northeast  Philadelphia   \n",
       "4   7       Florida    32976      South Atlantic         South       Brevard   \n",
       "\n",
       "   experience  supplies  insured  involved  ...  sex  education   race  \\\n",
       "0         0.0         0        0         1  ...  0.0          4  White   \n",
       "1         1.0         0        1         1  ...  1.0          5  White   \n",
       "2         1.0         0        0         1  ...  1.0          1  White   \n",
       "3         1.0         0        1         0  ...  0.0          4  White   \n",
       "4         0.0         1        1         0  ...  0.0          2  White   \n",
       "\n",
       "   homeownership  income  rentmortgage  rurality  hazard_weight  \\\n",
       "0              1   87500        1250.0         1       0.255097   \n",
       "1              1  175000        3000.0         1       2.836145   \n",
       "2              0   47500        1250.0         1       1.165971   \n",
       "3              1  125000        1250.0         1       0.624890   \n",
       "4              1   20000         250.0         1       0.695075   \n",
       "\n",
       "                                            geometry  zip_count  \n",
       "0  POLYGON ((-13608075.601186747 6055357.24645823...          1  \n",
       "1  POLYGON ((-9139287.781401768 3112400.961508024...          1  \n",
       "2  POLYGON ((-8254065.171859486 4980899.960122439...          1  \n",
       "3  POLYGON ((-8368433.592186097 4851218.465580212...          1  \n",
       "4  POLYGON ((-8971557.027329512 3234931.888104651...          1  \n",
       "\n",
       "[5 rows x 32 columns]"
      ]
     },
     "execution_count": 2,
     "metadata": {},
     "output_type": "execute_result"
    }
   ],
   "source": [
    "# import data\n",
    "path = '/Users/philip/Documents/ESE/ESE_thesis/flood_experience/data/export/clean_n.csv'\n",
    "df = pd.read_csv(path)\n",
    "df.head()"
   ]
  },
  {
   "cell_type": "markdown",
   "metadata": {},
   "source": [
    "#### We will go through these outcome variables one by one\n",
    "\n",
    "structural adaptation: \n",
    "- made_safer\n",
    "\n",
    "non-structural adaptation: \n",
    "- learned_rountes\n",
    "- supplies\n",
    "- involved\n",
    "- made_plan\n",
    "- practiced_drills\n",
    "- alerts\n",
    "- family_communication\n"
   ]
  },
  {
   "cell_type": "code",
   "execution_count": 3,
   "metadata": {},
   "outputs": [],
   "source": [
    "# define the regression model \n",
    "def model (function, data):\n",
    "    model = smf.logit(function, data=data).fit()\n",
    "    print(model.summary()) # print model summary\n",
    "    print('BIC:', model.bic) # print BIC additionally to defaults model fit parameters\n",
    "    # print odds ratios for output = 0 and output = 1\n",
    "    print('likelihood of adaptation if household is not insured = ', 1 / (1 + np.exp(-model.params['Intercept'])))\n",
    "    print('likelihood of adaptation if household is insured = ', 1 / (1 + np.exp(-(model.params['Intercept']+model.params['insured']))))\n",
    "\n",
    "    # compute odds ratio\n",
    "    params = model.params\n",
    "    conf = model.conf_int()\n",
    "    odds_ratios = pd.DataFrame({\n",
    "        \"OR\": np.exp(params),\n",
    "        \"Lower CI\": np.exp(conf[0]),\n",
    "        \"Upper CI\": np.exp(conf[1])\n",
    "        })\n",
    "    odds_ratios.index.name = 'Variable'\n",
    "    odds_ratios.reset_index(inplace=True)\n",
    "    # compute marginal effects\n",
    "    marginal_effects = model.get_margeff().summary()\n",
    "\n",
    "    return odds_ratios, marginal_effects \n",
    "    "
   ]
  },
  {
   "cell_type": "code",
   "execution_count": 4,
   "metadata": {},
   "outputs": [],
   "source": [
    "def probit (function, data):\n",
    "    model = smf.probit(function, data=data).fit()\n",
    "    print(model.summary())\n",
    "    print('BIC=', model.bic)\n",
    "    marginal = model.get_margeff().summary()\n",
    "    return marginal"
   ]
  },
  {
   "cell_type": "code",
   "execution_count": 5,
   "metadata": {},
   "outputs": [
    {
     "name": "stdout",
     "output_type": "stream",
     "text": [
      "Optimization terminated successfully.\n",
      "         Current function value: 0.435705\n",
      "         Iterations 6\n",
      "                           Logit Regression Results                           \n",
      "==============================================================================\n",
      "Dep. Variable:             made_safer   No. Observations:                  472\n",
      "Model:                          Logit   Df Residuals:                      470\n",
      "Method:                           MLE   Df Model:                            1\n",
      "Date:                Tue, 08 Apr 2025   Pseudo R-squ.:                 0.08826\n",
      "Time:                        18:03:35   Log-Likelihood:                -205.65\n",
      "converged:                       True   LL-Null:                       -225.56\n",
      "Covariance Type:            nonrobust   LLR p-value:                 2.789e-10\n",
      "==============================================================================\n",
      "                 coef    std err          z      P>|z|      [0.025      0.975]\n",
      "------------------------------------------------------------------------------\n",
      "Intercept     -1.9802      0.159    -12.452      0.000      -2.292      -1.669\n",
      "insured        1.6404      0.257      6.383      0.000       1.137       2.144\n",
      "==============================================================================\n",
      "BIC: 423.6198497807224\n",
      "likelihood of adaptation if household is not insured =  0.12129380053908362\n",
      "likelihood of adaptation if household is insured =  0.4158415841584159\n"
     ]
    }
   ],
   "source": [
    "odds, marg_eff = model('made_safer ~ insured', data=df)"
   ]
  },
  {
   "cell_type": "code",
   "execution_count": 6,
   "metadata": {},
   "outputs": [
    {
     "data": {
      "text/html": [
       "<div>\n",
       "<style scoped>\n",
       "    .dataframe tbody tr th:only-of-type {\n",
       "        vertical-align: middle;\n",
       "    }\n",
       "\n",
       "    .dataframe tbody tr th {\n",
       "        vertical-align: top;\n",
       "    }\n",
       "\n",
       "    .dataframe thead th {\n",
       "        text-align: right;\n",
       "    }\n",
       "</style>\n",
       "<table border=\"1\" class=\"dataframe\">\n",
       "  <thead>\n",
       "    <tr style=\"text-align: right;\">\n",
       "      <th></th>\n",
       "      <th>Variable</th>\n",
       "      <th>OR</th>\n",
       "      <th>Lower CI</th>\n",
       "      <th>Upper CI</th>\n",
       "    </tr>\n",
       "  </thead>\n",
       "  <tbody>\n",
       "    <tr>\n",
       "      <th>0</th>\n",
       "      <td>Intercept</td>\n",
       "      <td>0.138037</td>\n",
       "      <td>0.101072</td>\n",
       "      <td>0.188521</td>\n",
       "    </tr>\n",
       "    <tr>\n",
       "      <th>1</th>\n",
       "      <td>insured</td>\n",
       "      <td>5.157062</td>\n",
       "      <td>3.116338</td>\n",
       "      <td>8.534147</td>\n",
       "    </tr>\n",
       "  </tbody>\n",
       "</table>\n",
       "</div>"
      ],
      "text/plain": [
       "    Variable        OR  Lower CI  Upper CI\n",
       "0  Intercept  0.138037  0.101072  0.188521\n",
       "1    insured  5.157062  3.116338  8.534147"
      ]
     },
     "execution_count": 6,
     "metadata": {},
     "output_type": "execute_result"
    }
   ],
   "source": [
    "odds"
   ]
  },
  {
   "cell_type": "code",
   "execution_count": 7,
   "metadata": {},
   "outputs": [
    {
     "data": {
      "text/html": [
       "<table class=\"simpletable\">\n",
       "<caption>Logit Marginal Effects</caption>\n",
       "<tr>\n",
       "  <th>Dep. Variable:</th> <td>made_safer</td>\n",
       "</tr>\n",
       "<tr>\n",
       "  <th>Method:</th>           <td>dydx</td>   \n",
       "</tr>\n",
       "<tr>\n",
       "  <th>At:</th>              <td>overall</td> \n",
       "</tr>\n",
       "</table>\n",
       "<table class=\"simpletable\">\n",
       "<tr>\n",
       "     <th></th>        <th>dy/dx</th>    <th>std err</th>      <th>z</th>      <th>P>|z|</th>  <th>[0.025</th>    <th>0.975]</th>  \n",
       "</tr>\n",
       "<tr>\n",
       "  <th>insured</th> <td>    0.2227</td> <td>    0.031</td> <td>    7.249</td> <td> 0.000</td> <td>    0.162</td> <td>    0.283</td>\n",
       "</tr>\n",
       "</table>"
      ],
      "text/latex": [
       "\\begin{center}\n",
       "\\begin{tabular}{lc}\n",
       "\\toprule\n",
       "\\textbf{Dep. Variable:} &  made\\_safer    \\\\\n",
       "\\textbf{Method:}        &      dydx       \\\\\n",
       "\\textbf{At:}            &    overall      \\\\\n",
       "\\bottomrule\n",
       "\\end{tabular}\n",
       "\\begin{tabular}{ccccccc}\n",
       "   \\textbf{}     & \\textbf{dy/dx} & \\textbf{std err} & \\textbf{z} & \\textbf{P$> |$z$|$} & \\textbf{[0.025} & \\textbf{0.975]}  \\\\\n",
       "\\midrule\n",
       "\\bottomrule\n",
       "\\end{tabular}\n",
       "\\begin{tabular}{lcccccc}\n",
       "\\textbf{insured} &       0.2227   &        0.031     &     7.249  &         0.000        &        0.162    &        0.283     \\\\\n",
       "\\bottomrule\n",
       "\\end{tabular}\n",
       "%\\caption{Logit Marginal Effects}\n",
       "\\end{center}"
      ],
      "text/plain": [
       "<class 'statsmodels.iolib.summary.Summary'>\n",
       "\"\"\"\n",
       "        Logit Marginal Effects       \n",
       "=====================================\n",
       "Dep. Variable:             made_safer\n",
       "Method:                          dydx\n",
       "At:                           overall\n",
       "==============================================================================\n",
       "                dy/dx    std err          z      P>|z|      [0.025      0.975]\n",
       "------------------------------------------------------------------------------\n",
       "insured        0.2227      0.031      7.249      0.000       0.162       0.283\n",
       "==============================================================================\n",
       "\"\"\""
      ]
     },
     "execution_count": 7,
     "metadata": {},
     "output_type": "execute_result"
    }
   ],
   "source": [
    "marg_eff"
   ]
  },
  {
   "cell_type": "code",
   "execution_count": 8,
   "metadata": {},
   "outputs": [
    {
     "name": "stdout",
     "output_type": "stream",
     "text": [
      "Optimization terminated successfully.\n",
      "         Current function value: 0.452746\n",
      "         Iterations 6\n",
      "                           Logit Regression Results                           \n",
      "==============================================================================\n",
      "Dep. Variable:         learned_routes   No. Observations:                  472\n",
      "Model:                          Logit   Df Residuals:                      470\n",
      "Method:                           MLE   Df Model:                            1\n",
      "Date:                Tue, 08 Apr 2025   Pseudo R-squ.:                  0.1541\n",
      "Time:                        18:03:35   Log-Likelihood:                -213.70\n",
      "converged:                       True   LL-Null:                       -252.64\n",
      "Covariance Type:            nonrobust   LLR p-value:                 1.092e-18\n",
      "==============================================================================\n",
      "                 coef    std err          z      P>|z|      [0.025      0.975]\n",
      "------------------------------------------------------------------------------\n",
      "Intercept     -1.8827      0.153    -12.278      0.000      -2.183      -1.582\n",
      "insured        2.1820      0.253      8.624      0.000       1.686       2.678\n",
      "==============================================================================\n",
      "BIC: 439.706049109351\n",
      "likelihood of adaptation if household is not insured =  0.13207547169811323\n",
      "likelihood of adaptation if household is insured =  0.5742574257425742\n"
     ]
    }
   ],
   "source": [
    "odds, marg_eff = model('learned_routes ~ insured', data=df)"
   ]
  },
  {
   "cell_type": "code",
   "execution_count": 9,
   "metadata": {},
   "outputs": [
    {
     "data": {
      "text/html": [
       "<div>\n",
       "<style scoped>\n",
       "    .dataframe tbody tr th:only-of-type {\n",
       "        vertical-align: middle;\n",
       "    }\n",
       "\n",
       "    .dataframe tbody tr th {\n",
       "        vertical-align: top;\n",
       "    }\n",
       "\n",
       "    .dataframe thead th {\n",
       "        text-align: right;\n",
       "    }\n",
       "</style>\n",
       "<table border=\"1\" class=\"dataframe\">\n",
       "  <thead>\n",
       "    <tr style=\"text-align: right;\">\n",
       "      <th></th>\n",
       "      <th>Variable</th>\n",
       "      <th>OR</th>\n",
       "      <th>Lower CI</th>\n",
       "      <th>Upper CI</th>\n",
       "    </tr>\n",
       "  </thead>\n",
       "  <tbody>\n",
       "    <tr>\n",
       "      <th>0</th>\n",
       "      <td>Intercept</td>\n",
       "      <td>0.152174</td>\n",
       "      <td>0.112672</td>\n",
       "      <td>0.205525</td>\n",
       "    </tr>\n",
       "    <tr>\n",
       "      <th>1</th>\n",
       "      <td>insured</td>\n",
       "      <td>8.863787</td>\n",
       "      <td>5.398363</td>\n",
       "      <td>14.553806</td>\n",
       "    </tr>\n",
       "  </tbody>\n",
       "</table>\n",
       "</div>"
      ],
      "text/plain": [
       "    Variable        OR  Lower CI   Upper CI\n",
       "0  Intercept  0.152174  0.112672   0.205525\n",
       "1    insured  8.863787  5.398363  14.553806"
      ]
     },
     "execution_count": 9,
     "metadata": {},
     "output_type": "execute_result"
    }
   ],
   "source": [
    "odds"
   ]
  },
  {
   "cell_type": "code",
   "execution_count": 10,
   "metadata": {},
   "outputs": [
    {
     "data": {
      "text/html": [
       "<table class=\"simpletable\">\n",
       "<caption>Logit Marginal Effects</caption>\n",
       "<tr>\n",
       "  <th>Dep. Variable:</th> <td>learned_routes</td>\n",
       "</tr>\n",
       "<tr>\n",
       "  <th>Method:</th>             <td>dydx</td>     \n",
       "</tr>\n",
       "<tr>\n",
       "  <th>At:</th>                <td>overall</td>   \n",
       "</tr>\n",
       "</table>\n",
       "<table class=\"simpletable\">\n",
       "<tr>\n",
       "     <th></th>        <th>dy/dx</th>    <th>std err</th>      <th>z</th>      <th>P>|z|</th>  <th>[0.025</th>    <th>0.975]</th>  \n",
       "</tr>\n",
       "<tr>\n",
       "  <th>insured</th> <td>    0.3108</td> <td>    0.025</td> <td>   12.307</td> <td> 0.000</td> <td>    0.261</td> <td>    0.360</td>\n",
       "</tr>\n",
       "</table>"
      ],
      "text/latex": [
       "\\begin{center}\n",
       "\\begin{tabular}{lc}\n",
       "\\toprule\n",
       "\\textbf{Dep. Variable:} & learned\\_routes  \\\\\n",
       "\\textbf{Method:}        &       dydx       \\\\\n",
       "\\textbf{At:}            &     overall      \\\\\n",
       "\\bottomrule\n",
       "\\end{tabular}\n",
       "\\begin{tabular}{ccccccc}\n",
       "   \\textbf{}     & \\textbf{dy/dx} & \\textbf{std err} & \\textbf{z} & \\textbf{P$> |$z$|$} & \\textbf{[0.025} & \\textbf{0.975]}  \\\\\n",
       "\\midrule\n",
       "\\bottomrule\n",
       "\\end{tabular}\n",
       "\\begin{tabular}{lcccccc}\n",
       "\\textbf{insured} &       0.3108   &        0.025     &    12.307  &         0.000        &        0.261    &        0.360     \\\\\n",
       "\\bottomrule\n",
       "\\end{tabular}\n",
       "%\\caption{Logit Marginal Effects}\n",
       "\\end{center}"
      ],
      "text/plain": [
       "<class 'statsmodels.iolib.summary.Summary'>\n",
       "\"\"\"\n",
       "        Logit Marginal Effects       \n",
       "=====================================\n",
       "Dep. Variable:         learned_routes\n",
       "Method:                          dydx\n",
       "At:                           overall\n",
       "==============================================================================\n",
       "                dy/dx    std err          z      P>|z|      [0.025      0.975]\n",
       "------------------------------------------------------------------------------\n",
       "insured        0.3108      0.025     12.307      0.000       0.261       0.360\n",
       "==============================================================================\n",
       "\"\"\""
      ]
     },
     "execution_count": 10,
     "metadata": {},
     "output_type": "execute_result"
    }
   ],
   "source": [
    "marg_eff"
   ]
  },
  {
   "cell_type": "code",
   "execution_count": 11,
   "metadata": {},
   "outputs": [
    {
     "name": "stdout",
     "output_type": "stream",
     "text": [
      "Optimization terminated successfully.\n",
      "         Current function value: 0.488242\n",
      "         Iterations 6\n",
      "                           Logit Regression Results                           \n",
      "==============================================================================\n",
      "Dep. Variable:               supplies   No. Observations:                  472\n",
      "Model:                          Logit   Df Residuals:                      470\n",
      "Method:                           MLE   Df Model:                            1\n",
      "Date:                Tue, 08 Apr 2025   Pseudo R-squ.:                 0.07414\n",
      "Time:                        18:03:35   Log-Likelihood:                -230.45\n",
      "converged:                       True   LL-Null:                       -248.90\n",
      "Covariance Type:            nonrobust   LLR p-value:                 1.240e-09\n",
      "==============================================================================\n",
      "                 coef    std err          z      P>|z|      [0.025      0.975]\n",
      "------------------------------------------------------------------------------\n",
      "Intercept     -1.6858      0.143    -11.792      0.000      -1.966      -1.406\n",
      "insured        1.5071      0.246      6.134      0.000       1.026       1.989\n",
      "==============================================================================\n",
      "BIC: 473.21398747373337\n",
      "likelihood of adaptation if household is not insured =  0.15633423180592995\n",
      "likelihood of adaptation if household is insured =  0.45544554455445546\n"
     ]
    }
   ],
   "source": [
    "odds, marg_eff = model('supplies ~ insured', data=df)"
   ]
  },
  {
   "cell_type": "code",
   "execution_count": 12,
   "metadata": {},
   "outputs": [
    {
     "data": {
      "text/html": [
       "<div>\n",
       "<style scoped>\n",
       "    .dataframe tbody tr th:only-of-type {\n",
       "        vertical-align: middle;\n",
       "    }\n",
       "\n",
       "    .dataframe tbody tr th {\n",
       "        vertical-align: top;\n",
       "    }\n",
       "\n",
       "    .dataframe thead th {\n",
       "        text-align: right;\n",
       "    }\n",
       "</style>\n",
       "<table border=\"1\" class=\"dataframe\">\n",
       "  <thead>\n",
       "    <tr style=\"text-align: right;\">\n",
       "      <th></th>\n",
       "      <th>Variable</th>\n",
       "      <th>OR</th>\n",
       "      <th>Lower CI</th>\n",
       "      <th>Upper CI</th>\n",
       "    </tr>\n",
       "  </thead>\n",
       "  <tbody>\n",
       "    <tr>\n",
       "      <th>0</th>\n",
       "      <td>Intercept</td>\n",
       "      <td>0.185304</td>\n",
       "      <td>0.140023</td>\n",
       "      <td>0.245227</td>\n",
       "    </tr>\n",
       "    <tr>\n",
       "      <th>1</th>\n",
       "      <td>insured</td>\n",
       "      <td>4.513480</td>\n",
       "      <td>2.788629</td>\n",
       "      <td>7.305201</td>\n",
       "    </tr>\n",
       "  </tbody>\n",
       "</table>\n",
       "</div>"
      ],
      "text/plain": [
       "    Variable        OR  Lower CI  Upper CI\n",
       "0  Intercept  0.185304  0.140023  0.245227\n",
       "1    insured  4.513480  2.788629  7.305201"
      ]
     },
     "execution_count": 12,
     "metadata": {},
     "output_type": "execute_result"
    }
   ],
   "source": [
    "odds"
   ]
  },
  {
   "cell_type": "code",
   "execution_count": 13,
   "metadata": {},
   "outputs": [
    {
     "data": {
      "text/html": [
       "<table class=\"simpletable\">\n",
       "<caption>Logit Marginal Effects</caption>\n",
       "<tr>\n",
       "  <th>Dep. Variable:</th> <td>supplies</td>\n",
       "</tr>\n",
       "<tr>\n",
       "  <th>Method:</th>          <td>dydx</td>  \n",
       "</tr>\n",
       "<tr>\n",
       "  <th>At:</th>             <td>overall</td>\n",
       "</tr>\n",
       "</table>\n",
       "<table class=\"simpletable\">\n",
       "<tr>\n",
       "     <th></th>        <th>dy/dx</th>    <th>std err</th>      <th>z</th>      <th>P>|z|</th>  <th>[0.025</th>    <th>0.975]</th>  \n",
       "</tr>\n",
       "<tr>\n",
       "  <th>insured</th> <td>    0.2362</td> <td>    0.033</td> <td>    7.053</td> <td> 0.000</td> <td>    0.171</td> <td>    0.302</td>\n",
       "</tr>\n",
       "</table>"
      ],
      "text/latex": [
       "\\begin{center}\n",
       "\\begin{tabular}{lc}\n",
       "\\toprule\n",
       "\\textbf{Dep. Variable:} &    supplies     \\\\\n",
       "\\textbf{Method:}        &      dydx       \\\\\n",
       "\\textbf{At:}            &    overall      \\\\\n",
       "\\bottomrule\n",
       "\\end{tabular}\n",
       "\\begin{tabular}{ccccccc}\n",
       "   \\textbf{}     & \\textbf{dy/dx} & \\textbf{std err} & \\textbf{z} & \\textbf{P$> |$z$|$} & \\textbf{[0.025} & \\textbf{0.975]}  \\\\\n",
       "\\midrule\n",
       "\\bottomrule\n",
       "\\end{tabular}\n",
       "\\begin{tabular}{lcccccc}\n",
       "\\textbf{insured} &       0.2362   &        0.033     &     7.053  &         0.000        &        0.171    &        0.302     \\\\\n",
       "\\bottomrule\n",
       "\\end{tabular}\n",
       "%\\caption{Logit Marginal Effects}\n",
       "\\end{center}"
      ],
      "text/plain": [
       "<class 'statsmodels.iolib.summary.Summary'>\n",
       "\"\"\"\n",
       "        Logit Marginal Effects       \n",
       "=====================================\n",
       "Dep. Variable:               supplies\n",
       "Method:                          dydx\n",
       "At:                           overall\n",
       "==============================================================================\n",
       "                dy/dx    std err          z      P>|z|      [0.025      0.975]\n",
       "------------------------------------------------------------------------------\n",
       "insured        0.2362      0.033      7.053      0.000       0.171       0.302\n",
       "==============================================================================\n",
       "\"\"\""
      ]
     },
     "execution_count": 13,
     "metadata": {},
     "output_type": "execute_result"
    }
   ],
   "source": [
    "marg_eff"
   ]
  },
  {
   "cell_type": "code",
   "execution_count": 14,
   "metadata": {},
   "outputs": [
    {
     "name": "stdout",
     "output_type": "stream",
     "text": [
      "Optimization terminated successfully.\n",
      "         Current function value: 0.269919\n",
      "         Iterations 7\n",
      "                           Logit Regression Results                           \n",
      "==============================================================================\n",
      "Dep. Variable:               involved   No. Observations:                  472\n",
      "Model:                          Logit   Df Residuals:                      470\n",
      "Method:                           MLE   Df Model:                            1\n",
      "Date:                Tue, 08 Apr 2025   Pseudo R-squ.:                  0.1008\n",
      "Time:                        18:03:35   Log-Likelihood:                -127.40\n",
      "converged:                       True   LL-Null:                       -141.68\n",
      "Covariance Type:            nonrobust   LLR p-value:                 9.061e-08\n",
      "==============================================================================\n",
      "                 coef    std err          z      P>|z|      [0.025      0.975]\n",
      "------------------------------------------------------------------------------\n",
      "Intercept     -2.9761      0.242    -12.316      0.000      -3.450      -2.502\n",
      "insured        1.8103      0.336      5.384      0.000       1.151       2.469\n",
      "==============================================================================\n",
      "BIC: 267.11778252648423\n",
      "likelihood of adaptation if household is not insured =  0.04851752021563342\n",
      "likelihood of adaptation if household is insured =  0.23762376237623764\n"
     ]
    }
   ],
   "source": [
    "odds, marg_eff = model('involved ~ insured', data=df)"
   ]
  },
  {
   "cell_type": "code",
   "execution_count": 15,
   "metadata": {},
   "outputs": [
    {
     "data": {
      "text/html": [
       "<div>\n",
       "<style scoped>\n",
       "    .dataframe tbody tr th:only-of-type {\n",
       "        vertical-align: middle;\n",
       "    }\n",
       "\n",
       "    .dataframe tbody tr th {\n",
       "        vertical-align: top;\n",
       "    }\n",
       "\n",
       "    .dataframe thead th {\n",
       "        text-align: right;\n",
       "    }\n",
       "</style>\n",
       "<table border=\"1\" class=\"dataframe\">\n",
       "  <thead>\n",
       "    <tr style=\"text-align: right;\">\n",
       "      <th></th>\n",
       "      <th>Variable</th>\n",
       "      <th>OR</th>\n",
       "      <th>Lower CI</th>\n",
       "      <th>Upper CI</th>\n",
       "    </tr>\n",
       "  </thead>\n",
       "  <tbody>\n",
       "    <tr>\n",
       "      <th>0</th>\n",
       "      <td>Intercept</td>\n",
       "      <td>0.050992</td>\n",
       "      <td>0.031755</td>\n",
       "      <td>0.081880</td>\n",
       "    </tr>\n",
       "    <tr>\n",
       "      <th>1</th>\n",
       "      <td>insured</td>\n",
       "      <td>6.112554</td>\n",
       "      <td>3.162525</td>\n",
       "      <td>11.814393</td>\n",
       "    </tr>\n",
       "  </tbody>\n",
       "</table>\n",
       "</div>"
      ],
      "text/plain": [
       "    Variable        OR  Lower CI   Upper CI\n",
       "0  Intercept  0.050992  0.031755   0.081880\n",
       "1    insured  6.112554  3.162525  11.814393"
      ]
     },
     "execution_count": 15,
     "metadata": {},
     "output_type": "execute_result"
    }
   ],
   "source": [
    "odds"
   ]
  },
  {
   "cell_type": "code",
   "execution_count": 16,
   "metadata": {},
   "outputs": [
    {
     "data": {
      "text/html": [
       "<table class=\"simpletable\">\n",
       "<caption>Logit Marginal Effects</caption>\n",
       "<tr>\n",
       "  <th>Dep. Variable:</th> <td>involved</td>\n",
       "</tr>\n",
       "<tr>\n",
       "  <th>Method:</th>          <td>dydx</td>  \n",
       "</tr>\n",
       "<tr>\n",
       "  <th>At:</th>             <td>overall</td>\n",
       "</tr>\n",
       "</table>\n",
       "<table class=\"simpletable\">\n",
       "<tr>\n",
       "     <th></th>        <th>dy/dx</th>    <th>std err</th>      <th>z</th>      <th>P>|z|</th>  <th>[0.025</th>    <th>0.975]</th>  \n",
       "</tr>\n",
       "<tr>\n",
       "  <th>insured</th> <td>    0.1359</td> <td>    0.026</td> <td>    5.141</td> <td> 0.000</td> <td>    0.084</td> <td>    0.188</td>\n",
       "</tr>\n",
       "</table>"
      ],
      "text/latex": [
       "\\begin{center}\n",
       "\\begin{tabular}{lc}\n",
       "\\toprule\n",
       "\\textbf{Dep. Variable:} &    involved     \\\\\n",
       "\\textbf{Method:}        &      dydx       \\\\\n",
       "\\textbf{At:}            &    overall      \\\\\n",
       "\\bottomrule\n",
       "\\end{tabular}\n",
       "\\begin{tabular}{ccccccc}\n",
       "   \\textbf{}     & \\textbf{dy/dx} & \\textbf{std err} & \\textbf{z} & \\textbf{P$> |$z$|$} & \\textbf{[0.025} & \\textbf{0.975]}  \\\\\n",
       "\\midrule\n",
       "\\bottomrule\n",
       "\\end{tabular}\n",
       "\\begin{tabular}{lcccccc}\n",
       "\\textbf{insured} &       0.1359   &        0.026     &     5.141  &         0.000        &        0.084    &        0.188     \\\\\n",
       "\\bottomrule\n",
       "\\end{tabular}\n",
       "%\\caption{Logit Marginal Effects}\n",
       "\\end{center}"
      ],
      "text/plain": [
       "<class 'statsmodels.iolib.summary.Summary'>\n",
       "\"\"\"\n",
       "        Logit Marginal Effects       \n",
       "=====================================\n",
       "Dep. Variable:               involved\n",
       "Method:                          dydx\n",
       "At:                           overall\n",
       "==============================================================================\n",
       "                dy/dx    std err          z      P>|z|      [0.025      0.975]\n",
       "------------------------------------------------------------------------------\n",
       "insured        0.1359      0.026      5.141      0.000       0.084       0.188\n",
       "==============================================================================\n",
       "\"\"\""
      ]
     },
     "execution_count": 16,
     "metadata": {},
     "output_type": "execute_result"
    }
   ],
   "source": [
    "marg_eff"
   ]
  },
  {
   "cell_type": "code",
   "execution_count": 17,
   "metadata": {},
   "outputs": [
    {
     "name": "stdout",
     "output_type": "stream",
     "text": [
      "Optimization terminated successfully.\n",
      "         Current function value: 0.499229\n",
      "         Iterations 5\n",
      "                           Logit Regression Results                           \n",
      "==============================================================================\n",
      "Dep. Variable:              made_plan   No. Observations:                  472\n",
      "Model:                          Logit   Df Residuals:                      470\n",
      "Method:                           MLE   Df Model:                            1\n",
      "Date:                Tue, 08 Apr 2025   Pseudo R-squ.:                 0.04845\n",
      "Time:                        18:03:35   Log-Likelihood:                -235.64\n",
      "converged:                       True   LL-Null:                       -247.63\n",
      "Covariance Type:            nonrobust   LLR p-value:                 9.666e-07\n",
      "==============================================================================\n",
      "                 coef    std err          z      P>|z|      [0.025      0.975]\n",
      "------------------------------------------------------------------------------\n",
      "Intercept     -1.6062      0.139    -11.542      0.000      -1.879      -1.333\n",
      "insured        1.2254      0.246      4.985      0.000       0.744       1.707\n",
      "==============================================================================\n",
      "BIC: 483.58640302301905\n",
      "likelihood of adaptation if household is not insured =  0.16711590296495962\n",
      "likelihood of adaptation if household is insured =  0.40594059405940597\n"
     ]
    }
   ],
   "source": [
    "odds, marg_eff = model('made_plan ~ insured', data=df)"
   ]
  },
  {
   "cell_type": "code",
   "execution_count": 18,
   "metadata": {},
   "outputs": [
    {
     "data": {
      "text/html": [
       "<div>\n",
       "<style scoped>\n",
       "    .dataframe tbody tr th:only-of-type {\n",
       "        vertical-align: middle;\n",
       "    }\n",
       "\n",
       "    .dataframe tbody tr th {\n",
       "        vertical-align: top;\n",
       "    }\n",
       "\n",
       "    .dataframe thead th {\n",
       "        text-align: right;\n",
       "    }\n",
       "</style>\n",
       "<table border=\"1\" class=\"dataframe\">\n",
       "  <thead>\n",
       "    <tr style=\"text-align: right;\">\n",
       "      <th></th>\n",
       "      <th>Variable</th>\n",
       "      <th>OR</th>\n",
       "      <th>Lower CI</th>\n",
       "      <th>Upper CI</th>\n",
       "    </tr>\n",
       "  </thead>\n",
       "  <tbody>\n",
       "    <tr>\n",
       "      <th>0</th>\n",
       "      <td>Intercept</td>\n",
       "      <td>0.200647</td>\n",
       "      <td>0.152750</td>\n",
       "      <td>0.263564</td>\n",
       "    </tr>\n",
       "    <tr>\n",
       "      <th>1</th>\n",
       "      <td>insured</td>\n",
       "      <td>3.405645</td>\n",
       "      <td>2.103615</td>\n",
       "      <td>5.513566</td>\n",
       "    </tr>\n",
       "  </tbody>\n",
       "</table>\n",
       "</div>"
      ],
      "text/plain": [
       "    Variable        OR  Lower CI  Upper CI\n",
       "0  Intercept  0.200647  0.152750  0.263564\n",
       "1    insured  3.405645  2.103615  5.513566"
      ]
     },
     "execution_count": 18,
     "metadata": {},
     "output_type": "execute_result"
    }
   ],
   "source": [
    "odds"
   ]
  },
  {
   "cell_type": "code",
   "execution_count": 19,
   "metadata": {},
   "outputs": [
    {
     "data": {
      "text/html": [
       "<table class=\"simpletable\">\n",
       "<caption>Logit Marginal Effects</caption>\n",
       "<tr>\n",
       "  <th>Dep. Variable:</th> <td>made_plan</td>\n",
       "</tr>\n",
       "<tr>\n",
       "  <th>Method:</th>          <td>dydx</td>   \n",
       "</tr>\n",
       "<tr>\n",
       "  <th>At:</th>             <td>overall</td> \n",
       "</tr>\n",
       "</table>\n",
       "<table class=\"simpletable\">\n",
       "<tr>\n",
       "     <th></th>        <th>dy/dx</th>    <th>std err</th>      <th>z</th>      <th>P>|z|</th>  <th>[0.025</th>    <th>0.975]</th>  \n",
       "</tr>\n",
       "<tr>\n",
       "  <th>insured</th> <td>    0.1973</td> <td>    0.036</td> <td>    5.416</td> <td> 0.000</td> <td>    0.126</td> <td>    0.269</td>\n",
       "</tr>\n",
       "</table>"
      ],
      "text/latex": [
       "\\begin{center}\n",
       "\\begin{tabular}{lc}\n",
       "\\toprule\n",
       "\\textbf{Dep. Variable:} &   made\\_plan    \\\\\n",
       "\\textbf{Method:}        &      dydx       \\\\\n",
       "\\textbf{At:}            &    overall      \\\\\n",
       "\\bottomrule\n",
       "\\end{tabular}\n",
       "\\begin{tabular}{ccccccc}\n",
       "   \\textbf{}     & \\textbf{dy/dx} & \\textbf{std err} & \\textbf{z} & \\textbf{P$> |$z$|$} & \\textbf{[0.025} & \\textbf{0.975]}  \\\\\n",
       "\\midrule\n",
       "\\bottomrule\n",
       "\\end{tabular}\n",
       "\\begin{tabular}{lcccccc}\n",
       "\\textbf{insured} &       0.1973   &        0.036     &     5.416  &         0.000        &        0.126    &        0.269     \\\\\n",
       "\\bottomrule\n",
       "\\end{tabular}\n",
       "%\\caption{Logit Marginal Effects}\n",
       "\\end{center}"
      ],
      "text/plain": [
       "<class 'statsmodels.iolib.summary.Summary'>\n",
       "\"\"\"\n",
       "        Logit Marginal Effects       \n",
       "=====================================\n",
       "Dep. Variable:              made_plan\n",
       "Method:                          dydx\n",
       "At:                           overall\n",
       "==============================================================================\n",
       "                dy/dx    std err          z      P>|z|      [0.025      0.975]\n",
       "------------------------------------------------------------------------------\n",
       "insured        0.1973      0.036      5.416      0.000       0.126       0.269\n",
       "==============================================================================\n",
       "\"\"\""
      ]
     },
     "execution_count": 19,
     "metadata": {},
     "output_type": "execute_result"
    }
   ],
   "source": [
    "marg_eff"
   ]
  },
  {
   "cell_type": "code",
   "execution_count": 20,
   "metadata": {},
   "outputs": [
    {
     "name": "stdout",
     "output_type": "stream",
     "text": [
      "Optimization terminated successfully.\n",
      "         Current function value: 0.247886\n",
      "         Iterations 7\n",
      "                           Logit Regression Results                           \n",
      "==============================================================================\n",
      "Dep. Variable:       practiced_drills   No. Observations:                  472\n",
      "Model:                          Logit   Df Residuals:                      470\n",
      "Method:                           MLE   Df Model:                            1\n",
      "Date:                Tue, 08 Apr 2025   Pseudo R-squ.:                  0.1147\n",
      "Time:                        18:03:35   Log-Likelihood:                -117.00\n",
      "converged:                       True   LL-Null:                       -132.16\n",
      "Covariance Type:            nonrobust   LLR p-value:                 3.655e-08\n",
      "==============================================================================\n",
      "                 coef    std err          z      P>|z|      [0.025      0.975]\n",
      "------------------------------------------------------------------------------\n",
      "Intercept     -3.1669      0.264    -12.015      0.000      -3.683      -2.650\n",
      "insured        1.9457      0.355      5.486      0.000       1.251       2.641\n",
      "==============================================================================\n",
      "BIC: 246.31873553179318\n",
      "likelihood of adaptation if household is not insured =  0.04043126684636118\n",
      "likelihood of adaptation if household is insured =  0.22772277227722768\n"
     ]
    }
   ],
   "source": [
    "odds, marg_eff = model('practiced_drills ~ insured', data=df)"
   ]
  },
  {
   "cell_type": "code",
   "execution_count": 21,
   "metadata": {},
   "outputs": [
    {
     "data": {
      "text/html": [
       "<div>\n",
       "<style scoped>\n",
       "    .dataframe tbody tr th:only-of-type {\n",
       "        vertical-align: middle;\n",
       "    }\n",
       "\n",
       "    .dataframe tbody tr th {\n",
       "        vertical-align: top;\n",
       "    }\n",
       "\n",
       "    .dataframe thead th {\n",
       "        text-align: right;\n",
       "    }\n",
       "</style>\n",
       "<table border=\"1\" class=\"dataframe\">\n",
       "  <thead>\n",
       "    <tr style=\"text-align: right;\">\n",
       "      <th></th>\n",
       "      <th>Variable</th>\n",
       "      <th>OR</th>\n",
       "      <th>Lower CI</th>\n",
       "      <th>Upper CI</th>\n",
       "    </tr>\n",
       "  </thead>\n",
       "  <tbody>\n",
       "    <tr>\n",
       "      <th>0</th>\n",
       "      <td>Intercept</td>\n",
       "      <td>0.042135</td>\n",
       "      <td>0.025135</td>\n",
       "      <td>0.070632</td>\n",
       "    </tr>\n",
       "    <tr>\n",
       "      <th>1</th>\n",
       "      <td>insured</td>\n",
       "      <td>6.998291</td>\n",
       "      <td>3.492336</td>\n",
       "      <td>14.023873</td>\n",
       "    </tr>\n",
       "  </tbody>\n",
       "</table>\n",
       "</div>"
      ],
      "text/plain": [
       "    Variable        OR  Lower CI   Upper CI\n",
       "0  Intercept  0.042135  0.025135   0.070632\n",
       "1    insured  6.998291  3.492336  14.023873"
      ]
     },
     "execution_count": 21,
     "metadata": {},
     "output_type": "execute_result"
    }
   ],
   "source": [
    "odds"
   ]
  },
  {
   "cell_type": "code",
   "execution_count": 22,
   "metadata": {},
   "outputs": [
    {
     "data": {
      "text/html": [
       "<table class=\"simpletable\">\n",
       "<caption>Logit Marginal Effects</caption>\n",
       "<tr>\n",
       "  <th>Dep. Variable:</th> <td>practiced_drills</td>\n",
       "</tr>\n",
       "<tr>\n",
       "  <th>Method:</th>              <td>dydx</td>      \n",
       "</tr>\n",
       "<tr>\n",
       "  <th>At:</th>                 <td>overall</td>    \n",
       "</tr>\n",
       "</table>\n",
       "<table class=\"simpletable\">\n",
       "<tr>\n",
       "     <th></th>        <th>dy/dx</th>    <th>std err</th>      <th>z</th>      <th>P>|z|</th>  <th>[0.025</th>    <th>0.975]</th>  \n",
       "</tr>\n",
       "<tr>\n",
       "  <th>insured</th> <td>    0.1326</td> <td>    0.026</td> <td>    5.123</td> <td> 0.000</td> <td>    0.082</td> <td>    0.183</td>\n",
       "</tr>\n",
       "</table>"
      ],
      "text/latex": [
       "\\begin{center}\n",
       "\\begin{tabular}{lc}\n",
       "\\toprule\n",
       "\\textbf{Dep. Variable:} & practiced\\_drills  \\\\\n",
       "\\textbf{Method:}        &        dydx        \\\\\n",
       "\\textbf{At:}            &      overall       \\\\\n",
       "\\bottomrule\n",
       "\\end{tabular}\n",
       "\\begin{tabular}{ccccccc}\n",
       "   \\textbf{}     & \\textbf{dy/dx} & \\textbf{std err} & \\textbf{z} & \\textbf{P$> |$z$|$} & \\textbf{[0.025} & \\textbf{0.975]}  \\\\\n",
       "\\midrule\n",
       "\\bottomrule\n",
       "\\end{tabular}\n",
       "\\begin{tabular}{lcccccc}\n",
       "\\textbf{insured} &       0.1326   &        0.026     &     5.123  &         0.000        &        0.082    &        0.183     \\\\\n",
       "\\bottomrule\n",
       "\\end{tabular}\n",
       "%\\caption{Logit Marginal Effects}\n",
       "\\end{center}"
      ],
      "text/plain": [
       "<class 'statsmodels.iolib.summary.Summary'>\n",
       "\"\"\"\n",
       "        Logit Marginal Effects       \n",
       "=====================================\n",
       "Dep. Variable:       practiced_drills\n",
       "Method:                          dydx\n",
       "At:                           overall\n",
       "==============================================================================\n",
       "                dy/dx    std err          z      P>|z|      [0.025      0.975]\n",
       "------------------------------------------------------------------------------\n",
       "insured        0.1326      0.026      5.123      0.000       0.082       0.183\n",
       "==============================================================================\n",
       "\"\"\""
      ]
     },
     "execution_count": 22,
     "metadata": {},
     "output_type": "execute_result"
    }
   ],
   "source": [
    "marg_eff"
   ]
  },
  {
   "cell_type": "code",
   "execution_count": 23,
   "metadata": {},
   "outputs": [
    {
     "name": "stdout",
     "output_type": "stream",
     "text": [
      "Optimization terminated successfully.\n",
      "         Current function value: 0.425405\n",
      "         Iterations 6\n",
      "                           Logit Regression Results                           \n",
      "==============================================================================\n",
      "Dep. Variable:                 alerts   No. Observations:                  472\n",
      "Model:                          Logit   Df Residuals:                      470\n",
      "Method:                           MLE   Df Model:                            1\n",
      "Date:                Tue, 08 Apr 2025   Pseudo R-squ.:                  0.1213\n",
      "Time:                        18:03:35   Log-Likelihood:                -200.79\n",
      "converged:                       True   LL-Null:                       -228.51\n",
      "Covariance Type:            nonrobust   LLR p-value:                 9.664e-14\n",
      "==============================================================================\n",
      "                 coef    std err          z      P>|z|      [0.025      0.975]\n",
      "------------------------------------------------------------------------------\n",
      "Intercept     -2.0584      0.164    -12.562      0.000      -2.380      -1.737\n",
      "insured        1.9196      0.258      7.436      0.000       1.414       2.426\n",
      "==============================================================================\n",
      "BIC: 413.8958332987176\n",
      "likelihood of adaptation if household is not insured =  0.1132075471698113\n",
      "likelihood of adaptation if household is insured =  0.4653465346534652\n"
     ]
    }
   ],
   "source": [
    "odds, marg_eff = model('alerts ~ insured', data = df)"
   ]
  },
  {
   "cell_type": "code",
   "execution_count": 24,
   "metadata": {},
   "outputs": [
    {
     "data": {
      "text/html": [
       "<div>\n",
       "<style scoped>\n",
       "    .dataframe tbody tr th:only-of-type {\n",
       "        vertical-align: middle;\n",
       "    }\n",
       "\n",
       "    .dataframe tbody tr th {\n",
       "        vertical-align: top;\n",
       "    }\n",
       "\n",
       "    .dataframe thead th {\n",
       "        text-align: right;\n",
       "    }\n",
       "</style>\n",
       "<table border=\"1\" class=\"dataframe\">\n",
       "  <thead>\n",
       "    <tr style=\"text-align: right;\">\n",
       "      <th></th>\n",
       "      <th>Variable</th>\n",
       "      <th>OR</th>\n",
       "      <th>Lower CI</th>\n",
       "      <th>Upper CI</th>\n",
       "    </tr>\n",
       "  </thead>\n",
       "  <tbody>\n",
       "    <tr>\n",
       "      <th>0</th>\n",
       "      <td>Intercept</td>\n",
       "      <td>0.127660</td>\n",
       "      <td>0.092593</td>\n",
       "      <td>0.176006</td>\n",
       "    </tr>\n",
       "    <tr>\n",
       "      <th>1</th>\n",
       "      <td>insured</td>\n",
       "      <td>6.817901</td>\n",
       "      <td>4.110631</td>\n",
       "      <td>11.308184</td>\n",
       "    </tr>\n",
       "  </tbody>\n",
       "</table>\n",
       "</div>"
      ],
      "text/plain": [
       "    Variable        OR  Lower CI   Upper CI\n",
       "0  Intercept  0.127660  0.092593   0.176006\n",
       "1    insured  6.817901  4.110631  11.308184"
      ]
     },
     "execution_count": 24,
     "metadata": {},
     "output_type": "execute_result"
    }
   ],
   "source": [
    "odds"
   ]
  },
  {
   "cell_type": "code",
   "execution_count": 25,
   "metadata": {},
   "outputs": [
    {
     "data": {
      "text/html": [
       "<table class=\"simpletable\">\n",
       "<caption>Logit Marginal Effects</caption>\n",
       "<tr>\n",
       "  <th>Dep. Variable:</th> <td>alerts</td> \n",
       "</tr>\n",
       "<tr>\n",
       "  <th>Method:</th>         <td>dydx</td>  \n",
       "</tr>\n",
       "<tr>\n",
       "  <th>At:</th>            <td>overall</td>\n",
       "</tr>\n",
       "</table>\n",
       "<table class=\"simpletable\">\n",
       "<tr>\n",
       "     <th></th>        <th>dy/dx</th>    <th>std err</th>      <th>z</th>      <th>P>|z|</th>  <th>[0.025</th>    <th>0.975]</th>  \n",
       "</tr>\n",
       "<tr>\n",
       "  <th>insured</th> <td>    0.2537</td> <td>    0.028</td> <td>    9.098</td> <td> 0.000</td> <td>    0.199</td> <td>    0.308</td>\n",
       "</tr>\n",
       "</table>"
      ],
      "text/latex": [
       "\\begin{center}\n",
       "\\begin{tabular}{lc}\n",
       "\\toprule\n",
       "\\textbf{Dep. Variable:} &     alerts      \\\\\n",
       "\\textbf{Method:}        &      dydx       \\\\\n",
       "\\textbf{At:}            &    overall      \\\\\n",
       "\\bottomrule\n",
       "\\end{tabular}\n",
       "\\begin{tabular}{ccccccc}\n",
       "   \\textbf{}     & \\textbf{dy/dx} & \\textbf{std err} & \\textbf{z} & \\textbf{P$> |$z$|$} & \\textbf{[0.025} & \\textbf{0.975]}  \\\\\n",
       "\\midrule\n",
       "\\bottomrule\n",
       "\\end{tabular}\n",
       "\\begin{tabular}{lcccccc}\n",
       "\\textbf{insured} &       0.2537   &        0.028     &     9.098  &         0.000        &        0.199    &        0.308     \\\\\n",
       "\\bottomrule\n",
       "\\end{tabular}\n",
       "%\\caption{Logit Marginal Effects}\n",
       "\\end{center}"
      ],
      "text/plain": [
       "<class 'statsmodels.iolib.summary.Summary'>\n",
       "\"\"\"\n",
       "        Logit Marginal Effects       \n",
       "=====================================\n",
       "Dep. Variable:                 alerts\n",
       "Method:                          dydx\n",
       "At:                           overall\n",
       "==============================================================================\n",
       "                dy/dx    std err          z      P>|z|      [0.025      0.975]\n",
       "------------------------------------------------------------------------------\n",
       "insured        0.2537      0.028      9.098      0.000       0.199       0.308\n",
       "==============================================================================\n",
       "\"\"\""
      ]
     },
     "execution_count": 25,
     "metadata": {},
     "output_type": "execute_result"
    }
   ],
   "source": [
    "marg_eff"
   ]
  },
  {
   "cell_type": "code",
   "execution_count": 26,
   "metadata": {},
   "outputs": [
    {
     "name": "stdout",
     "output_type": "stream",
     "text": [
      "Optimization terminated successfully.\n",
      "         Current function value: 0.287127\n",
      "         Iterations 7\n",
      "                            Logit Regression Results                            \n",
      "================================================================================\n",
      "Dep. Variable:     family_communication   No. Observations:                  472\n",
      "Model:                            Logit   Df Residuals:                      470\n",
      "Method:                             MLE   Df Model:                            1\n",
      "Date:                  Tue, 08 Apr 2025   Pseudo R-squ.:                  0.1267\n",
      "Time:                          18:03:35   Log-Likelihood:                -135.52\n",
      "converged:                         True   LL-Null:                       -155.19\n",
      "Covariance Type:              nonrobust   LLR p-value:                 3.578e-10\n",
      "==============================================================================\n",
      "                 coef    std err          z      P>|z|      [0.025      0.975]\n",
      "------------------------------------------------------------------------------\n",
      "Intercept     -2.9192      0.236    -12.394      0.000      -3.381      -2.458\n",
      "insured        2.0098      0.322      6.237      0.000       1.378       2.641\n",
      "==============================================================================\n",
      "BIC: 283.36212472090995\n",
      "likelihood of adaptation if household is not insured =  0.05121293800539086\n",
      "likelihood of adaptation if household is insured =  0.28712871287128705\n"
     ]
    }
   ],
   "source": [
    "odds, marg_eff = model('family_communication ~ insured', data=df)"
   ]
  },
  {
   "cell_type": "code",
   "execution_count": 27,
   "metadata": {},
   "outputs": [
    {
     "data": {
      "text/html": [
       "<div>\n",
       "<style scoped>\n",
       "    .dataframe tbody tr th:only-of-type {\n",
       "        vertical-align: middle;\n",
       "    }\n",
       "\n",
       "    .dataframe tbody tr th {\n",
       "        vertical-align: top;\n",
       "    }\n",
       "\n",
       "    .dataframe thead th {\n",
       "        text-align: right;\n",
       "    }\n",
       "</style>\n",
       "<table border=\"1\" class=\"dataframe\">\n",
       "  <thead>\n",
       "    <tr style=\"text-align: right;\">\n",
       "      <th></th>\n",
       "      <th>Variable</th>\n",
       "      <th>OR</th>\n",
       "      <th>Lower CI</th>\n",
       "      <th>Upper CI</th>\n",
       "    </tr>\n",
       "  </thead>\n",
       "  <tbody>\n",
       "    <tr>\n",
       "      <th>0</th>\n",
       "      <td>Intercept</td>\n",
       "      <td>0.053977</td>\n",
       "      <td>0.034020</td>\n",
       "      <td>0.085643</td>\n",
       "    </tr>\n",
       "    <tr>\n",
       "      <th>1</th>\n",
       "      <td>insured</td>\n",
       "      <td>7.461988</td>\n",
       "      <td>3.967858</td>\n",
       "      <td>14.033081</td>\n",
       "    </tr>\n",
       "  </tbody>\n",
       "</table>\n",
       "</div>"
      ],
      "text/plain": [
       "    Variable        OR  Lower CI   Upper CI\n",
       "0  Intercept  0.053977  0.034020   0.085643\n",
       "1    insured  7.461988  3.967858  14.033081"
      ]
     },
     "execution_count": 27,
     "metadata": {},
     "output_type": "execute_result"
    }
   ],
   "source": [
    "odds"
   ]
  },
  {
   "cell_type": "code",
   "execution_count": 28,
   "metadata": {},
   "outputs": [
    {
     "data": {
      "text/html": [
       "<table class=\"simpletable\">\n",
       "<caption>Logit Marginal Effects</caption>\n",
       "<tr>\n",
       "  <th>Dep. Variable:</th> <td>family_communication</td>\n",
       "</tr>\n",
       "<tr>\n",
       "  <th>Method:</th>                <td>dydx</td>        \n",
       "</tr>\n",
       "<tr>\n",
       "  <th>At:</th>                   <td>overall</td>      \n",
       "</tr>\n",
       "</table>\n",
       "<table class=\"simpletable\">\n",
       "<tr>\n",
       "     <th></th>        <th>dy/dx</th>    <th>std err</th>      <th>z</th>      <th>P>|z|</th>  <th>[0.025</th>    <th>0.975]</th>  \n",
       "</tr>\n",
       "<tr>\n",
       "  <th>insured</th> <td>    0.1648</td> <td>    0.026</td> <td>    6.229</td> <td> 0.000</td> <td>    0.113</td> <td>    0.217</td>\n",
       "</tr>\n",
       "</table>"
      ],
      "text/latex": [
       "\\begin{center}\n",
       "\\begin{tabular}{lc}\n",
       "\\toprule\n",
       "\\textbf{Dep. Variable:} & family\\_communication  \\\\\n",
       "\\textbf{Method:}        &          dydx          \\\\\n",
       "\\textbf{At:}            &        overall         \\\\\n",
       "\\bottomrule\n",
       "\\end{tabular}\n",
       "\\begin{tabular}{ccccccc}\n",
       "   \\textbf{}     & \\textbf{dy/dx} & \\textbf{std err} & \\textbf{z} & \\textbf{P$> |$z$|$} & \\textbf{[0.025} & \\textbf{0.975]}  \\\\\n",
       "\\midrule\n",
       "\\bottomrule\n",
       "\\end{tabular}\n",
       "\\begin{tabular}{lcccccc}\n",
       "\\textbf{insured} &       0.1648   &        0.026     &     6.229  &         0.000        &        0.113    &        0.217     \\\\\n",
       "\\bottomrule\n",
       "\\end{tabular}\n",
       "%\\caption{Logit Marginal Effects}\n",
       "\\end{center}"
      ],
      "text/plain": [
       "<class 'statsmodels.iolib.summary.Summary'>\n",
       "\"\"\"\n",
       "         Logit Marginal Effects        \n",
       "=======================================\n",
       "Dep. Variable:     family_communication\n",
       "Method:                            dydx\n",
       "At:                             overall\n",
       "==============================================================================\n",
       "                dy/dx    std err          z      P>|z|      [0.025      0.975]\n",
       "------------------------------------------------------------------------------\n",
       "insured        0.1648      0.026      6.229      0.000       0.113       0.217\n",
       "==============================================================================\n",
       "\"\"\""
      ]
     },
     "execution_count": 28,
     "metadata": {},
     "output_type": "execute_result"
    }
   ],
   "source": [
    "marg_eff"
   ]
  },
  {
   "cell_type": "markdown",
   "metadata": {},
   "source": [
    "## Let's repeat with probit"
   ]
  },
  {
   "cell_type": "code",
   "execution_count": 29,
   "metadata": {},
   "outputs": [
    {
     "name": "stdout",
     "output_type": "stream",
     "text": [
      "Optimization terminated successfully.\n",
      "         Current function value: 0.435705\n",
      "         Iterations 5\n",
      "                          Probit Regression Results                           \n",
      "==============================================================================\n",
      "Dep. Variable:             made_safer   No. Observations:                  472\n",
      "Model:                         Probit   Df Residuals:                      470\n",
      "Method:                           MLE   Df Model:                            1\n",
      "Date:                Tue, 08 Apr 2025   Pseudo R-squ.:                 0.08826\n",
      "Time:                        18:03:52   Log-Likelihood:                -205.65\n",
      "converged:                       True   LL-Null:                       -225.56\n",
      "Covariance Type:            nonrobust   LLR p-value:                 2.789e-10\n",
      "==============================================================================\n",
      "                 coef    std err          z      P>|z|      [0.025      0.975]\n",
      "------------------------------------------------------------------------------\n",
      "Intercept     -1.1685      0.084    -13.896      0.000      -1.333      -1.004\n",
      "insured        0.9560      0.151      6.320      0.000       0.660       1.252\n",
      "==============================================================================\n",
      "BIC= 423.6198497807224\n"
     ]
    },
    {
     "data": {
      "text/html": [
       "<table class=\"simpletable\">\n",
       "<caption>Probit Marginal Effects</caption>\n",
       "<tr>\n",
       "  <th>Dep. Variable:</th> <td>made_safer</td>\n",
       "</tr>\n",
       "<tr>\n",
       "  <th>Method:</th>           <td>dydx</td>   \n",
       "</tr>\n",
       "<tr>\n",
       "  <th>At:</th>              <td>overall</td> \n",
       "</tr>\n",
       "</table>\n",
       "<table class=\"simpletable\">\n",
       "<tr>\n",
       "     <th></th>        <th>dy/dx</th>    <th>std err</th>      <th>z</th>      <th>P>|z|</th>  <th>[0.025</th>    <th>0.975]</th>  \n",
       "</tr>\n",
       "<tr>\n",
       "  <th>insured</th> <td>    0.2312</td> <td>    0.033</td> <td>    7.007</td> <td> 0.000</td> <td>    0.167</td> <td>    0.296</td>\n",
       "</tr>\n",
       "</table>"
      ],
      "text/latex": [
       "\\begin{center}\n",
       "\\begin{tabular}{lc}\n",
       "\\toprule\n",
       "\\textbf{Dep. Variable:} &  made\\_safer    \\\\\n",
       "\\textbf{Method:}        &      dydx       \\\\\n",
       "\\textbf{At:}            &    overall      \\\\\n",
       "\\bottomrule\n",
       "\\end{tabular}\n",
       "\\begin{tabular}{ccccccc}\n",
       "   \\textbf{}     & \\textbf{dy/dx} & \\textbf{std err} & \\textbf{z} & \\textbf{P$> |$z$|$} & \\textbf{[0.025} & \\textbf{0.975]}  \\\\\n",
       "\\midrule\n",
       "\\bottomrule\n",
       "\\end{tabular}\n",
       "\\begin{tabular}{lcccccc}\n",
       "\\textbf{insured} &       0.2312   &        0.033     &     7.007  &         0.000        &        0.167    &        0.296     \\\\\n",
       "\\bottomrule\n",
       "\\end{tabular}\n",
       "%\\caption{Probit Marginal Effects}\n",
       "\\end{center}"
      ],
      "text/plain": [
       "<class 'statsmodels.iolib.summary.Summary'>\n",
       "\"\"\"\n",
       "       Probit Marginal Effects       \n",
       "=====================================\n",
       "Dep. Variable:             made_safer\n",
       "Method:                          dydx\n",
       "At:                           overall\n",
       "==============================================================================\n",
       "                dy/dx    std err          z      P>|z|      [0.025      0.975]\n",
       "------------------------------------------------------------------------------\n",
       "insured        0.2312      0.033      7.007      0.000       0.167       0.296\n",
       "==============================================================================\n",
       "\"\"\""
      ]
     },
     "execution_count": 29,
     "metadata": {},
     "output_type": "execute_result"
    }
   ],
   "source": [
    "probit('made_safer ~ insured', data=df)"
   ]
  },
  {
   "cell_type": "code",
   "execution_count": 30,
   "metadata": {},
   "outputs": [
    {
     "name": "stdout",
     "output_type": "stream",
     "text": [
      "Optimization terminated successfully.\n",
      "         Current function value: 0.452746\n",
      "         Iterations 5\n",
      "                          Probit Regression Results                           \n",
      "==============================================================================\n",
      "Dep. Variable:         learned_routes   No. Observations:                  472\n",
      "Model:                         Probit   Df Residuals:                      470\n",
      "Method:                           MLE   Df Model:                            1\n",
      "Date:                Tue, 08 Apr 2025   Pseudo R-squ.:                  0.1541\n",
      "Time:                        18:04:14   Log-Likelihood:                -213.70\n",
      "converged:                       True   LL-Null:                       -252.64\n",
      "Covariance Type:            nonrobust   LLR p-value:                 1.092e-18\n",
      "==============================================================================\n",
      "                 coef    std err          z      P>|z|      [0.025      0.975]\n",
      "------------------------------------------------------------------------------\n",
      "Intercept     -1.1166      0.082    -13.586      0.000      -1.278      -0.956\n",
      "insured        1.3039      0.150      8.691      0.000       1.010       1.598\n",
      "==============================================================================\n",
      "BIC= 439.70604910935106\n"
     ]
    },
    {
     "data": {
      "text/html": [
       "<table class=\"simpletable\">\n",
       "<caption>Probit Marginal Effects</caption>\n",
       "<tr>\n",
       "  <th>Dep. Variable:</th> <td>learned_routes</td>\n",
       "</tr>\n",
       "<tr>\n",
       "  <th>Method:</th>             <td>dydx</td>     \n",
       "</tr>\n",
       "<tr>\n",
       "  <th>At:</th>                <td>overall</td>   \n",
       "</tr>\n",
       "</table>\n",
       "<table class=\"simpletable\">\n",
       "<tr>\n",
       "     <th></th>        <th>dy/dx</th>    <th>std err</th>      <th>z</th>      <th>P>|z|</th>  <th>[0.025</th>    <th>0.975]</th>  \n",
       "</tr>\n",
       "<tr>\n",
       "  <th>insured</th> <td>    0.3286</td> <td>    0.029</td> <td>   11.305</td> <td> 0.000</td> <td>    0.272</td> <td>    0.386</td>\n",
       "</tr>\n",
       "</table>"
      ],
      "text/latex": [
       "\\begin{center}\n",
       "\\begin{tabular}{lc}\n",
       "\\toprule\n",
       "\\textbf{Dep. Variable:} & learned\\_routes  \\\\\n",
       "\\textbf{Method:}        &       dydx       \\\\\n",
       "\\textbf{At:}            &     overall      \\\\\n",
       "\\bottomrule\n",
       "\\end{tabular}\n",
       "\\begin{tabular}{ccccccc}\n",
       "   \\textbf{}     & \\textbf{dy/dx} & \\textbf{std err} & \\textbf{z} & \\textbf{P$> |$z$|$} & \\textbf{[0.025} & \\textbf{0.975]}  \\\\\n",
       "\\midrule\n",
       "\\bottomrule\n",
       "\\end{tabular}\n",
       "\\begin{tabular}{lcccccc}\n",
       "\\textbf{insured} &       0.3286   &        0.029     &    11.305  &         0.000        &        0.272    &        0.386     \\\\\n",
       "\\bottomrule\n",
       "\\end{tabular}\n",
       "%\\caption{Probit Marginal Effects}\n",
       "\\end{center}"
      ],
      "text/plain": [
       "<class 'statsmodels.iolib.summary.Summary'>\n",
       "\"\"\"\n",
       "       Probit Marginal Effects       \n",
       "=====================================\n",
       "Dep. Variable:         learned_routes\n",
       "Method:                          dydx\n",
       "At:                           overall\n",
       "==============================================================================\n",
       "                dy/dx    std err          z      P>|z|      [0.025      0.975]\n",
       "------------------------------------------------------------------------------\n",
       "insured        0.3286      0.029     11.305      0.000       0.272       0.386\n",
       "==============================================================================\n",
       "\"\"\""
      ]
     },
     "execution_count": 30,
     "metadata": {},
     "output_type": "execute_result"
    }
   ],
   "source": [
    "probit('learned_routes ~ insured', data=df)"
   ]
  },
  {
   "cell_type": "code",
   "execution_count": 31,
   "metadata": {},
   "outputs": [
    {
     "name": "stdout",
     "output_type": "stream",
     "text": [
      "Optimization terminated successfully.\n",
      "         Current function value: 0.488242\n",
      "         Iterations 5\n",
      "                          Probit Regression Results                           \n",
      "==============================================================================\n",
      "Dep. Variable:               supplies   No. Observations:                  472\n",
      "Model:                         Probit   Df Residuals:                      470\n",
      "Method:                           MLE   Df Model:                            1\n",
      "Date:                Tue, 08 Apr 2025   Pseudo R-squ.:                 0.07414\n",
      "Time:                        18:04:19   Log-Likelihood:                -230.45\n",
      "converged:                       True   LL-Null:                       -248.90\n",
      "Covariance Type:            nonrobust   LLR p-value:                 1.240e-09\n",
      "==============================================================================\n",
      "                 coef    std err          z      P>|z|      [0.025      0.975]\n",
      "------------------------------------------------------------------------------\n",
      "Intercept     -1.0096      0.079    -12.832      0.000      -1.164      -0.855\n",
      "insured        0.8977      0.148      6.078      0.000       0.608       1.187\n",
      "==============================================================================\n",
      "BIC= 473.21398747373337\n"
     ]
    },
    {
     "data": {
      "text/html": [
       "<table class=\"simpletable\">\n",
       "<caption>Probit Marginal Effects</caption>\n",
       "<tr>\n",
       "  <th>Dep. Variable:</th> <td>supplies</td>\n",
       "</tr>\n",
       "<tr>\n",
       "  <th>Method:</th>          <td>dydx</td>  \n",
       "</tr>\n",
       "<tr>\n",
       "  <th>At:</th>             <td>overall</td>\n",
       "</tr>\n",
       "</table>\n",
       "<table class=\"simpletable\">\n",
       "<tr>\n",
       "     <th></th>        <th>dy/dx</th>    <th>std err</th>      <th>z</th>      <th>P>|z|</th>  <th>[0.025</th>    <th>0.975]</th>  \n",
       "</tr>\n",
       "<tr>\n",
       "  <th>insured</th> <td>    0.2453</td> <td>    0.036</td> <td>    6.789</td> <td> 0.000</td> <td>    0.174</td> <td>    0.316</td>\n",
       "</tr>\n",
       "</table>"
      ],
      "text/latex": [
       "\\begin{center}\n",
       "\\begin{tabular}{lc}\n",
       "\\toprule\n",
       "\\textbf{Dep. Variable:} &    supplies     \\\\\n",
       "\\textbf{Method:}        &      dydx       \\\\\n",
       "\\textbf{At:}            &    overall      \\\\\n",
       "\\bottomrule\n",
       "\\end{tabular}\n",
       "\\begin{tabular}{ccccccc}\n",
       "   \\textbf{}     & \\textbf{dy/dx} & \\textbf{std err} & \\textbf{z} & \\textbf{P$> |$z$|$} & \\textbf{[0.025} & \\textbf{0.975]}  \\\\\n",
       "\\midrule\n",
       "\\bottomrule\n",
       "\\end{tabular}\n",
       "\\begin{tabular}{lcccccc}\n",
       "\\textbf{insured} &       0.2453   &        0.036     &     6.789  &         0.000        &        0.174    &        0.316     \\\\\n",
       "\\bottomrule\n",
       "\\end{tabular}\n",
       "%\\caption{Probit Marginal Effects}\n",
       "\\end{center}"
      ],
      "text/plain": [
       "<class 'statsmodels.iolib.summary.Summary'>\n",
       "\"\"\"\n",
       "       Probit Marginal Effects       \n",
       "=====================================\n",
       "Dep. Variable:               supplies\n",
       "Method:                          dydx\n",
       "At:                           overall\n",
       "==============================================================================\n",
       "                dy/dx    std err          z      P>|z|      [0.025      0.975]\n",
       "------------------------------------------------------------------------------\n",
       "insured        0.2453      0.036      6.789      0.000       0.174       0.316\n",
       "==============================================================================\n",
       "\"\"\""
      ]
     },
     "execution_count": 31,
     "metadata": {},
     "output_type": "execute_result"
    }
   ],
   "source": [
    "probit('supplies ~ insured', data=df)"
   ]
  },
  {
   "cell_type": "code",
   "execution_count": 32,
   "metadata": {},
   "outputs": [
    {
     "name": "stdout",
     "output_type": "stream",
     "text": [
      "Optimization terminated successfully.\n",
      "         Current function value: 0.269919\n",
      "         Iterations 6\n",
      "                          Probit Regression Results                           \n",
      "==============================================================================\n",
      "Dep. Variable:               involved   No. Observations:                  472\n",
      "Model:                         Probit   Df Residuals:                      470\n",
      "Method:                           MLE   Df Model:                            1\n",
      "Date:                Tue, 08 Apr 2025   Pseudo R-squ.:                  0.1008\n",
      "Time:                        18:04:24   Log-Likelihood:                -127.40\n",
      "converged:                       True   LL-Null:                       -141.68\n",
      "Covariance Type:            nonrobust   LLR p-value:                 9.061e-08\n",
      "==============================================================================\n",
      "                 coef    std err          z      P>|z|      [0.025      0.975]\n",
      "------------------------------------------------------------------------------\n",
      "Intercept     -1.6594      0.111    -14.978      0.000      -1.877      -1.442\n",
      "insured        0.9454      0.176      5.367      0.000       0.600       1.291\n",
      "==============================================================================\n",
      "BIC= 267.11778252648423\n"
     ]
    },
    {
     "data": {
      "text/html": [
       "<table class=\"simpletable\">\n",
       "<caption>Probit Marginal Effects</caption>\n",
       "<tr>\n",
       "  <th>Dep. Variable:</th> <td>involved</td>\n",
       "</tr>\n",
       "<tr>\n",
       "  <th>Method:</th>          <td>dydx</td>  \n",
       "</tr>\n",
       "<tr>\n",
       "  <th>At:</th>             <td>overall</td>\n",
       "</tr>\n",
       "</table>\n",
       "<table class=\"simpletable\">\n",
       "<tr>\n",
       "     <th></th>        <th>dy/dx</th>    <th>std err</th>      <th>z</th>      <th>P>|z|</th>  <th>[0.025</th>    <th>0.975]</th>  \n",
       "</tr>\n",
       "<tr>\n",
       "  <th>insured</th> <td>    0.1374</td> <td>    0.026</td> <td>    5.258</td> <td> 0.000</td> <td>    0.086</td> <td>    0.189</td>\n",
       "</tr>\n",
       "</table>"
      ],
      "text/latex": [
       "\\begin{center}\n",
       "\\begin{tabular}{lc}\n",
       "\\toprule\n",
       "\\textbf{Dep. Variable:} &    involved     \\\\\n",
       "\\textbf{Method:}        &      dydx       \\\\\n",
       "\\textbf{At:}            &    overall      \\\\\n",
       "\\bottomrule\n",
       "\\end{tabular}\n",
       "\\begin{tabular}{ccccccc}\n",
       "   \\textbf{}     & \\textbf{dy/dx} & \\textbf{std err} & \\textbf{z} & \\textbf{P$> |$z$|$} & \\textbf{[0.025} & \\textbf{0.975]}  \\\\\n",
       "\\midrule\n",
       "\\bottomrule\n",
       "\\end{tabular}\n",
       "\\begin{tabular}{lcccccc}\n",
       "\\textbf{insured} &       0.1374   &        0.026     &     5.258  &         0.000        &        0.086    &        0.189     \\\\\n",
       "\\bottomrule\n",
       "\\end{tabular}\n",
       "%\\caption{Probit Marginal Effects}\n",
       "\\end{center}"
      ],
      "text/plain": [
       "<class 'statsmodels.iolib.summary.Summary'>\n",
       "\"\"\"\n",
       "       Probit Marginal Effects       \n",
       "=====================================\n",
       "Dep. Variable:               involved\n",
       "Method:                          dydx\n",
       "At:                           overall\n",
       "==============================================================================\n",
       "                dy/dx    std err          z      P>|z|      [0.025      0.975]\n",
       "------------------------------------------------------------------------------\n",
       "insured        0.1374      0.026      5.258      0.000       0.086       0.189\n",
       "==============================================================================\n",
       "\"\"\""
      ]
     },
     "execution_count": 32,
     "metadata": {},
     "output_type": "execute_result"
    }
   ],
   "source": [
    "probit('involved ~ insured', data=df)"
   ]
  },
  {
   "cell_type": "code",
   "execution_count": 33,
   "metadata": {},
   "outputs": [
    {
     "name": "stdout",
     "output_type": "stream",
     "text": [
      "Optimization terminated successfully.\n",
      "         Current function value: 0.499229\n",
      "         Iterations 5\n",
      "                          Probit Regression Results                           \n",
      "==============================================================================\n",
      "Dep. Variable:              made_plan   No. Observations:                  472\n",
      "Model:                         Probit   Df Residuals:                      470\n",
      "Method:                           MLE   Df Model:                            1\n",
      "Date:                Tue, 08 Apr 2025   Pseudo R-squ.:                 0.04845\n",
      "Time:                        18:04:30   Log-Likelihood:                -235.64\n",
      "converged:                       True   LL-Null:                       -247.63\n",
      "Covariance Type:            nonrobust   LLR p-value:                 9.666e-07\n",
      "==============================================================================\n",
      "                 coef    std err          z      P>|z|      [0.025      0.975]\n",
      "------------------------------------------------------------------------------\n",
      "Intercept     -0.9656      0.077    -12.478      0.000      -1.117      -0.814\n",
      "insured        0.7276      0.148      4.921      0.000       0.438       1.017\n",
      "==============================================================================\n",
      "BIC= 483.58640302301905\n"
     ]
    },
    {
     "data": {
      "text/html": [
       "<table class=\"simpletable\">\n",
       "<caption>Probit Marginal Effects</caption>\n",
       "<tr>\n",
       "  <th>Dep. Variable:</th> <td>made_plan</td>\n",
       "</tr>\n",
       "<tr>\n",
       "  <th>Method:</th>          <td>dydx</td>   \n",
       "</tr>\n",
       "<tr>\n",
       "  <th>At:</th>             <td>overall</td> \n",
       "</tr>\n",
       "</table>\n",
       "<table class=\"simpletable\">\n",
       "<tr>\n",
       "     <th></th>        <th>dy/dx</th>    <th>std err</th>      <th>z</th>      <th>P>|z|</th>  <th>[0.025</th>    <th>0.975]</th>  \n",
       "</tr>\n",
       "<tr>\n",
       "  <th>insured</th> <td>    0.2035</td> <td>    0.039</td> <td>    5.267</td> <td> 0.000</td> <td>    0.128</td> <td>    0.279</td>\n",
       "</tr>\n",
       "</table>"
      ],
      "text/latex": [
       "\\begin{center}\n",
       "\\begin{tabular}{lc}\n",
       "\\toprule\n",
       "\\textbf{Dep. Variable:} &   made\\_plan    \\\\\n",
       "\\textbf{Method:}        &      dydx       \\\\\n",
       "\\textbf{At:}            &    overall      \\\\\n",
       "\\bottomrule\n",
       "\\end{tabular}\n",
       "\\begin{tabular}{ccccccc}\n",
       "   \\textbf{}     & \\textbf{dy/dx} & \\textbf{std err} & \\textbf{z} & \\textbf{P$> |$z$|$} & \\textbf{[0.025} & \\textbf{0.975]}  \\\\\n",
       "\\midrule\n",
       "\\bottomrule\n",
       "\\end{tabular}\n",
       "\\begin{tabular}{lcccccc}\n",
       "\\textbf{insured} &       0.2035   &        0.039     &     5.267  &         0.000        &        0.128    &        0.279     \\\\\n",
       "\\bottomrule\n",
       "\\end{tabular}\n",
       "%\\caption{Probit Marginal Effects}\n",
       "\\end{center}"
      ],
      "text/plain": [
       "<class 'statsmodels.iolib.summary.Summary'>\n",
       "\"\"\"\n",
       "       Probit Marginal Effects       \n",
       "=====================================\n",
       "Dep. Variable:              made_plan\n",
       "Method:                          dydx\n",
       "At:                           overall\n",
       "==============================================================================\n",
       "                dy/dx    std err          z      P>|z|      [0.025      0.975]\n",
       "------------------------------------------------------------------------------\n",
       "insured        0.2035      0.039      5.267      0.000       0.128       0.279\n",
       "==============================================================================\n",
       "\"\"\""
      ]
     },
     "execution_count": 33,
     "metadata": {},
     "output_type": "execute_result"
    }
   ],
   "source": [
    "probit('made_plan ~ insured', data=df)"
   ]
  },
  {
   "cell_type": "code",
   "execution_count": 34,
   "metadata": {},
   "outputs": [
    {
     "name": "stdout",
     "output_type": "stream",
     "text": [
      "Optimization terminated successfully.\n",
      "         Current function value: 0.247886\n",
      "         Iterations 6\n",
      "                          Probit Regression Results                           \n",
      "==============================================================================\n",
      "Dep. Variable:       practiced_drills   No. Observations:                  472\n",
      "Model:                         Probit   Df Residuals:                      470\n",
      "Method:                           MLE   Df Model:                            1\n",
      "Date:                Tue, 08 Apr 2025   Pseudo R-squ.:                  0.1147\n",
      "Time:                        18:04:35   Log-Likelihood:                -117.00\n",
      "converged:                       True   LL-Null:                       -132.16\n",
      "Covariance Type:            nonrobust   LLR p-value:                 3.655e-08\n",
      "==============================================================================\n",
      "                 coef    std err          z      P>|z|      [0.025      0.975]\n",
      "------------------------------------------------------------------------------\n",
      "Intercept     -1.7457      0.118    -14.839      0.000      -1.976      -1.515\n",
      "insured        0.9993      0.181      5.506      0.000       0.644       1.355\n",
      "==============================================================================\n",
      "BIC= 246.31873553179315\n"
     ]
    },
    {
     "data": {
      "text/html": [
       "<table class=\"simpletable\">\n",
       "<caption>Probit Marginal Effects</caption>\n",
       "<tr>\n",
       "  <th>Dep. Variable:</th> <td>practiced_drills</td>\n",
       "</tr>\n",
       "<tr>\n",
       "  <th>Method:</th>              <td>dydx</td>      \n",
       "</tr>\n",
       "<tr>\n",
       "  <th>At:</th>                 <td>overall</td>    \n",
       "</tr>\n",
       "</table>\n",
       "<table class=\"simpletable\">\n",
       "<tr>\n",
       "     <th></th>        <th>dy/dx</th>    <th>std err</th>      <th>z</th>      <th>P>|z|</th>  <th>[0.025</th>    <th>0.975]</th>  \n",
       "</tr>\n",
       "<tr>\n",
       "  <th>insured</th> <td>    0.1329</td> <td>    0.025</td> <td>    5.296</td> <td> 0.000</td> <td>    0.084</td> <td>    0.182</td>\n",
       "</tr>\n",
       "</table>"
      ],
      "text/latex": [
       "\\begin{center}\n",
       "\\begin{tabular}{lc}\n",
       "\\toprule\n",
       "\\textbf{Dep. Variable:} & practiced\\_drills  \\\\\n",
       "\\textbf{Method:}        &        dydx        \\\\\n",
       "\\textbf{At:}            &      overall       \\\\\n",
       "\\bottomrule\n",
       "\\end{tabular}\n",
       "\\begin{tabular}{ccccccc}\n",
       "   \\textbf{}     & \\textbf{dy/dx} & \\textbf{std err} & \\textbf{z} & \\textbf{P$> |$z$|$} & \\textbf{[0.025} & \\textbf{0.975]}  \\\\\n",
       "\\midrule\n",
       "\\bottomrule\n",
       "\\end{tabular}\n",
       "\\begin{tabular}{lcccccc}\n",
       "\\textbf{insured} &       0.1329   &        0.025     &     5.296  &         0.000        &        0.084    &        0.182     \\\\\n",
       "\\bottomrule\n",
       "\\end{tabular}\n",
       "%\\caption{Probit Marginal Effects}\n",
       "\\end{center}"
      ],
      "text/plain": [
       "<class 'statsmodels.iolib.summary.Summary'>\n",
       "\"\"\"\n",
       "       Probit Marginal Effects       \n",
       "=====================================\n",
       "Dep. Variable:       practiced_drills\n",
       "Method:                          dydx\n",
       "At:                           overall\n",
       "==============================================================================\n",
       "                dy/dx    std err          z      P>|z|      [0.025      0.975]\n",
       "------------------------------------------------------------------------------\n",
       "insured        0.1329      0.025      5.296      0.000       0.084       0.182\n",
       "==============================================================================\n",
       "\"\"\""
      ]
     },
     "execution_count": 34,
     "metadata": {},
     "output_type": "execute_result"
    }
   ],
   "source": [
    "probit('practiced_drills ~ insured', data=df)"
   ]
  },
  {
   "cell_type": "code",
   "execution_count": 35,
   "metadata": {},
   "outputs": [
    {
     "name": "stdout",
     "output_type": "stream",
     "text": [
      "Optimization terminated successfully.\n",
      "         Current function value: 0.425405\n",
      "         Iterations 5\n",
      "                          Probit Regression Results                           \n",
      "==============================================================================\n",
      "Dep. Variable:                 alerts   No. Observations:                  472\n",
      "Model:                         Probit   Df Residuals:                      470\n",
      "Method:                           MLE   Df Model:                            1\n",
      "Date:                Tue, 08 Apr 2025   Pseudo R-squ.:                  0.1213\n",
      "Time:                        18:04:42   Log-Likelihood:                -200.79\n",
      "converged:                       True   LL-Null:                       -228.51\n",
      "Covariance Type:            nonrobust   LLR p-value:                 9.664e-14\n",
      "==============================================================================\n",
      "                 coef    std err          z      P>|z|      [0.025      0.975]\n",
      "------------------------------------------------------------------------------\n",
      "Intercept     -1.2096      0.086    -14.115      0.000      -1.378      -1.042\n",
      "insured        1.1227      0.151      7.412      0.000       0.826       1.420\n",
      "==============================================================================\n",
      "BIC= 413.89583329871755\n"
     ]
    },
    {
     "data": {
      "text/html": [
       "<table class=\"simpletable\">\n",
       "<caption>Probit Marginal Effects</caption>\n",
       "<tr>\n",
       "  <th>Dep. Variable:</th> <td>alerts</td> \n",
       "</tr>\n",
       "<tr>\n",
       "  <th>Method:</th>         <td>dydx</td>  \n",
       "</tr>\n",
       "<tr>\n",
       "  <th>At:</th>            <td>overall</td>\n",
       "</tr>\n",
       "</table>\n",
       "<table class=\"simpletable\">\n",
       "<tr>\n",
       "     <th></th>        <th>dy/dx</th>    <th>std err</th>      <th>z</th>      <th>P>|z|</th>  <th>[0.025</th>    <th>0.975]</th>  \n",
       "</tr>\n",
       "<tr>\n",
       "  <th>insured</th> <td>    0.2649</td> <td>    0.031</td> <td>    8.651</td> <td> 0.000</td> <td>    0.205</td> <td>    0.325</td>\n",
       "</tr>\n",
       "</table>"
      ],
      "text/latex": [
       "\\begin{center}\n",
       "\\begin{tabular}{lc}\n",
       "\\toprule\n",
       "\\textbf{Dep. Variable:} &     alerts      \\\\\n",
       "\\textbf{Method:}        &      dydx       \\\\\n",
       "\\textbf{At:}            &    overall      \\\\\n",
       "\\bottomrule\n",
       "\\end{tabular}\n",
       "\\begin{tabular}{ccccccc}\n",
       "   \\textbf{}     & \\textbf{dy/dx} & \\textbf{std err} & \\textbf{z} & \\textbf{P$> |$z$|$} & \\textbf{[0.025} & \\textbf{0.975]}  \\\\\n",
       "\\midrule\n",
       "\\bottomrule\n",
       "\\end{tabular}\n",
       "\\begin{tabular}{lcccccc}\n",
       "\\textbf{insured} &       0.2649   &        0.031     &     8.651  &         0.000        &        0.205    &        0.325     \\\\\n",
       "\\bottomrule\n",
       "\\end{tabular}\n",
       "%\\caption{Probit Marginal Effects}\n",
       "\\end{center}"
      ],
      "text/plain": [
       "<class 'statsmodels.iolib.summary.Summary'>\n",
       "\"\"\"\n",
       "       Probit Marginal Effects       \n",
       "=====================================\n",
       "Dep. Variable:                 alerts\n",
       "Method:                          dydx\n",
       "At:                           overall\n",
       "==============================================================================\n",
       "                dy/dx    std err          z      P>|z|      [0.025      0.975]\n",
       "------------------------------------------------------------------------------\n",
       "insured        0.2649      0.031      8.651      0.000       0.205       0.325\n",
       "==============================================================================\n",
       "\"\"\""
      ]
     },
     "execution_count": 35,
     "metadata": {},
     "output_type": "execute_result"
    }
   ],
   "source": [
    "probit('alerts ~ insured', data=df)"
   ]
  },
  {
   "cell_type": "code",
   "execution_count": 36,
   "metadata": {},
   "outputs": [
    {
     "name": "stdout",
     "output_type": "stream",
     "text": [
      "Optimization terminated successfully.\n",
      "         Current function value: 0.287127\n",
      "         Iterations 6\n",
      "                           Probit Regression Results                            \n",
      "================================================================================\n",
      "Dep. Variable:     family_communication   No. Observations:                  472\n",
      "Model:                           Probit   Df Residuals:                      470\n",
      "Method:                             MLE   Df Model:                            1\n",
      "Date:                  Tue, 08 Apr 2025   Pseudo R-squ.:                  0.1267\n",
      "Time:                          18:04:48   Log-Likelihood:                -135.52\n",
      "converged:                         True   LL-Null:                       -155.19\n",
      "Covariance Type:              nonrobust   LLR p-value:                 3.578e-10\n",
      "==============================================================================\n",
      "                 coef    std err          z      P>|z|      [0.025      0.975]\n",
      "------------------------------------------------------------------------------\n",
      "Intercept     -1.6332      0.109    -15.002      0.000      -1.847      -1.420\n",
      "insured        1.0714      0.171      6.258      0.000       0.736       1.407\n",
      "==============================================================================\n",
      "BIC= 283.36212472090995\n"
     ]
    },
    {
     "data": {
      "text/html": [
       "<table class=\"simpletable\">\n",
       "<caption>Probit Marginal Effects</caption>\n",
       "<tr>\n",
       "  <th>Dep. Variable:</th> <td>family_communication</td>\n",
       "</tr>\n",
       "<tr>\n",
       "  <th>Method:</th>                <td>dydx</td>        \n",
       "</tr>\n",
       "<tr>\n",
       "  <th>At:</th>                   <td>overall</td>      \n",
       "</tr>\n",
       "</table>\n",
       "<table class=\"simpletable\">\n",
       "<tr>\n",
       "     <th></th>        <th>dy/dx</th>    <th>std err</th>      <th>z</th>      <th>P>|z|</th>  <th>[0.025</th>    <th>0.975]</th>  \n",
       "</tr>\n",
       "<tr>\n",
       "  <th>insured</th> <td>    0.1666</td> <td>    0.026</td> <td>    6.318</td> <td> 0.000</td> <td>    0.115</td> <td>    0.218</td>\n",
       "</tr>\n",
       "</table>"
      ],
      "text/latex": [
       "\\begin{center}\n",
       "\\begin{tabular}{lc}\n",
       "\\toprule\n",
       "\\textbf{Dep. Variable:} & family\\_communication  \\\\\n",
       "\\textbf{Method:}        &          dydx          \\\\\n",
       "\\textbf{At:}            &        overall         \\\\\n",
       "\\bottomrule\n",
       "\\end{tabular}\n",
       "\\begin{tabular}{ccccccc}\n",
       "   \\textbf{}     & \\textbf{dy/dx} & \\textbf{std err} & \\textbf{z} & \\textbf{P$> |$z$|$} & \\textbf{[0.025} & \\textbf{0.975]}  \\\\\n",
       "\\midrule\n",
       "\\bottomrule\n",
       "\\end{tabular}\n",
       "\\begin{tabular}{lcccccc}\n",
       "\\textbf{insured} &       0.1666   &        0.026     &     6.318  &         0.000        &        0.115    &        0.218     \\\\\n",
       "\\bottomrule\n",
       "\\end{tabular}\n",
       "%\\caption{Probit Marginal Effects}\n",
       "\\end{center}"
      ],
      "text/plain": [
       "<class 'statsmodels.iolib.summary.Summary'>\n",
       "\"\"\"\n",
       "        Probit Marginal Effects        \n",
       "=======================================\n",
       "Dep. Variable:     family_communication\n",
       "Method:                            dydx\n",
       "At:                             overall\n",
       "==============================================================================\n",
       "                dy/dx    std err          z      P>|z|      [0.025      0.975]\n",
       "------------------------------------------------------------------------------\n",
       "insured        0.1666      0.026      6.318      0.000       0.115       0.218\n",
       "==============================================================================\n",
       "\"\"\""
      ]
     },
     "execution_count": 36,
     "metadata": {},
     "output_type": "execute_result"
    }
   ],
   "source": [
    "probit('family_communication ~ insured', data=df)"
   ]
  }
 ],
 "metadata": {
  "kernelspec": {
   "display_name": "datascience",
   "language": "python",
   "name": "python3"
  },
  "language_info": {
   "codemirror_mode": {
    "name": "ipython",
    "version": 3
   },
   "file_extension": ".py",
   "mimetype": "text/x-python",
   "name": "python",
   "nbconvert_exporter": "python",
   "pygments_lexer": "ipython3",
   "version": "3.11.5"
  }
 },
 "nbformat": 4,
 "nbformat_minor": 2
}
