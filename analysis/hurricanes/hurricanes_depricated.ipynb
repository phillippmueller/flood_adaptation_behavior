{
 "cells": [
  {
   "cell_type": "code",
   "execution_count": 1,
   "id": "7ca18bda",
   "metadata": {},
   "outputs": [],
   "source": [
    "# analytics\n",
    "import pandas as pd \n",
    "import numpy as np\n",
    "import scipy.stats as stats\n",
    "import statsmodels.formula.api as smf\n",
    "#spatial \n",
    "import osmnx as ox\n",
    "import geopandas as gpd\n",
    "import contextily as cx\n",
    "# plotting \n",
    "import seaborn as sns\n",
    "import matplotlib.pyplot as plt\n",
    "from matplotlib.colors import LinearSegmentedColormap\n",
    "#settings\n",
    "import warnings\n",
    "\n",
    "# set dataframe outputs to three digits \n",
    "pd.set_option(\"display.precision\", 3)\n",
    "#suppress warnings\n",
    "warnings.filterwarnings('ignore')"
   ]
  },
  {
   "cell_type": "markdown",
   "id": "48ca2b38",
   "metadata": {},
   "source": [
    "### Estimation models\n",
    "\n",
    "\n",
    "M1: adaptation ~ perception + X * beta\n",
    "\n",
    "M2: adaptation ~ awareness + X * beta\n",
    "\n",
    "M3: adaptation ~ experience + X * beta\n",
    "\n",
    "M4: adaptation ~ floodzone + X * beta \n",
    "\n",
    "\n",
    "beta = vector (age, homeownership, efficacy, insurance)"
   ]
  },
  {
   "cell_type": "code",
   "execution_count": 2,
   "id": "88d21615",
   "metadata": {},
   "outputs": [
    {
     "data": {
      "text/plain": [
       "(385, 36)"
      ]
     },
     "execution_count": 2,
     "metadata": {},
     "output_type": "execute_result"
    }
   ],
   "source": [
    "#import processed data\n",
    "path = '/Users/philip/Documents/ESE/ESE_thesis/flood_experience/data/export/clean_k.csv'\n",
    "df = pd.read_csv(path)\n",
    "df.shape"
   ]
  },
  {
   "cell_type": "code",
   "execution_count": 3,
   "id": "eaf12378",
   "metadata": {},
   "outputs": [],
   "source": [
    "# add hurricane dummy \n",
    "hurricane_states = ['Florida','Texas','Louisiana','South Carolina','Virginia','Delaware','New York', 'New Jersey']\n",
    "df['hurricane'] = [1 if s in hurricane_states else 0 for s in df.state]"
   ]
  },
  {
   "cell_type": "code",
   "execution_count": 4,
   "id": "16deeeba",
   "metadata": {},
   "outputs": [],
   "source": [
    "def r_square(model):\n",
    "    # McKelvay-Zavoina\n",
    "    xb = model.predict(linear=True) #fitted latent value\n",
    "    var_xb = np.var(xb,ddof=1) # variance of xb\n",
    "    r2_mz = var_xb / (var_xb + 1) # McKelvay-Zavoina R_2\n",
    "    # McFadden\n",
    "    r2_mf = model.prsquared\n",
    "    return r2_mz"
   ]
  },
  {
   "cell_type": "code",
   "execution_count": 5,
   "id": "90a93294",
   "metadata": {},
   "outputs": [],
   "source": [
    "def probit(functions, data):\n",
    "    results_list = []\n",
    "    for func in functions:\n",
    "        model = smf.probit(formula=func, data=data).fit(disp=0)\n",
    "        df_model = pd.DataFrame({\n",
    "            'effect': model.params,               \n",
    "            'p': model.pvalues,    \n",
    "            'pseudoR_2': r_square(model),\n",
    "            'LLPr': model.llr_pvalue,\n",
    "            'BIC': model.bic  \n",
    "        })\n",
    "        df_marginal = model.get_margeff().summary_frame()\n",
    "        df_model = pd.concat([df_model, df_marginal], axis =1)\n",
    "\n",
    "        df_model.index = pd.MultiIndex.from_product([[func], df_model.index], names=['function', 'beta'])\n",
    "        results_list.append(df_model)\n",
    "    results = pd.concat(results_list)\n",
    "    return results"
   ]
  },
  {
   "cell_type": "code",
   "execution_count": 6,
   "id": "a8c940a9",
   "metadata": {},
   "outputs": [],
   "source": [
    "#duplicate but with logit\n",
    "def logit(functions, data):\n",
    "    results_list = []\n",
    "    for func in functions:\n",
    "        model = smf.logit(formula=func, data=data).fit(disp=0)\n",
    "        marg_effects = model.get_margeff().summary_frame()\n",
    "\n",
    "        df_model = pd.DataFrame({\n",
    "            'effect': model.params,               \n",
    "            'p': model.pvalues,                   \n",
    "            'marginal_effect': marg_effects['dy/dx'],\n",
    "            'pseudoR_2': model.prsquared,\n",
    "            'LLPr': model.llr_pvalue,\n",
    "            'BIC': model.bic  \n",
    "        })\n",
    "        df_model.index = pd.MultiIndex.from_product([[func], df_model.index], names=['function', 'beta'])\n",
    "        results_list.append(df_model)\n",
    "    results = pd.concat(results_list)\n",
    "    return results"
   ]
  },
  {
   "cell_type": "code",
   "execution_count": 7,
   "id": "0b7be723",
   "metadata": {},
   "outputs": [],
   "source": [
    "# functions \n",
    "M1 = [\n",
    "    'made_safer ~ hurricane + perception + age + homeownership + efficacy + insured',\n",
    "    'documents ~ hurricane + perception + age + homeownership + efficacy + insured',\n",
    "    'learned_routes ~ hurricane + perception + age + homeownership + efficacy + insured',\n",
    "    'supplies ~ hurricane + perception + age + homeownership + efficacy + insured',\n",
    "    'involved ~ hurricane + perception + age + homeownership + efficacy + insured',\n",
    "    'made_plan ~ hurricane + perception + age + homeownership + efficacy + insured',\n",
    "    'practiced_drills ~ hurricane + perception + age + homeownership + efficacy + insured',\n",
    "    'alerts ~ hurricane + perception + age + homeownership + efficacy + insured',\n",
    "    'family_communication ~ hurricane + perception + age + homeownership + efficacy + insured',\n",
    "]\n",
    "M2 = [\n",
    "    'made_safer ~ hurricane + awareness + age + homeownership + efficacy + insured',\n",
    "    'documents ~ hurricane + awareness + age + homeownership + efficacy + insured',\n",
    "    'learned_routes ~ hurricane + awareness + age + homeownership + efficacy + insured',\n",
    "    'supplies ~ hurricane + awareness + age + homeownership + efficacy + insured',\n",
    "    'involved ~ hurricane + awareness + age + homeownership + efficacy + insured',\n",
    "    'made_plan ~ hurricane + awareness + age + homeownership + efficacy + insured',\n",
    "    'practiced_drills ~ hurricane + awareness + age + homeownership + efficacy + insured',\n",
    "    'alerts ~ hurricane + awareness + age + homeownership + efficacy + insured',\n",
    "    'family_communication ~ hurricane + awareness + age + homeownership + efficacy + insured',\n",
    "]\n",
    "\n",
    "M3 = [\n",
    "    'made_safer ~ hurricane + experience + age + homeownership + efficacy + insured',\n",
    "    'documents ~ hurricane + experience + age + homeownership + efficacy + insured',\n",
    "    'learned_routes ~ hurricane + experience + age + homeownership + efficacy + insured',\n",
    "    'supplies ~ hurricane + experience + age + homeownership + efficacy + insured',\n",
    "    'involved ~ hurricane + experience + age + homeownership + efficacy + insured',\n",
    "    'made_plan ~ hurricane + experience + age + homeownership + efficacy + insured',\n",
    "    'practiced_drills ~ hurricane + experience + age + homeownership + efficacy + insured',\n",
    "    'alerts ~ hurricane + experience + age + homeownership + efficacy + insured',\n",
    "    'family_communication ~ hurricane + experience + age + homeownership + efficacy + insured',\n",
    "]\n",
    "\n",
    "M4 = [\n",
    "    'made_safer ~ hurricane + floodzone + age + homeownership + efficacy + insured',\n",
    "    'documents ~ hurricane + floodzone + age + homeownership + efficacy + insured',\n",
    "    'learned_routes ~ hurricane + floodzone + age + homeownership + efficacy + insured',\n",
    "    'supplies ~ hurricane + floodzone + age + homeownership + efficacy + insured',\n",
    "    'involved ~ hurricane + floodzone + age + homeownership + efficacy + insured',\n",
    "    'made_plan ~ hurricane + floodzone + age + homeownership + efficacy + insured',\n",
    "    'practiced_drills ~ hurricane + floodzone + age + homeownership + efficacy + insured',\n",
    "    'alerts ~ hurricane + floodzone + age + homeownership + efficacy + insured',\n",
    "    'family_communication ~ hurricane + floodzone + age + homeownership + efficacy + insured',\n",
    "]"
   ]
  },
  {
   "cell_type": "code",
   "execution_count": 8,
   "id": "4b1900e4",
   "metadata": {},
   "outputs": [],
   "source": [
    "# probit regression\n",
    "M1 = probit(functions = M1, data = df)\n",
    "M2 = probit(functions = M2, data = df)\n",
    "M3 = probit(functions = M3, data = df)\n",
    "M4 = probit(functions = M4, data = df)"
   ]
  },
  {
   "cell_type": "code",
   "execution_count": 9,
   "id": "70d955a1",
   "metadata": {},
   "outputs": [],
   "source": [
    "# store results \n",
    "M1, M2, M3, M4 = M1.round(3), M2.round(3), M3.round(3), M4.round(3)\n",
    "M1.to_excel('results/M1_probit.xlsx')\n",
    "M2.to_excel('results/M2_probit.xlsx')\n",
    "M3.to_excel('results/M3_probit.xlsx')\n",
    "M4.to_excel('results/M4_probit.xlsx')"
   ]
  },
  {
   "cell_type": "code",
   "execution_count": null,
   "id": "dbf9b44e",
   "metadata": {},
   "outputs": [],
   "source": []
  },
  {
   "cell_type": "markdown",
   "id": "883b5a9f",
   "metadata": {},
   "source": [
    "### Let's repeat without dummy"
   ]
  },
  {
   "cell_type": "code",
   "execution_count": 14,
   "id": "aabfc6f1",
   "metadata": {},
   "outputs": [],
   "source": [
    "# functions \n",
    "M1 = [\n",
    "    'made_safer ~ perception + age + homeownership + efficacy + insured',\n",
    "    'documents ~ perception + age + homeownership + efficacy + insured',\n",
    "    'learned_routes ~ perception + age + homeownership + efficacy + insured',\n",
    "    'supplies ~ perception + age + homeownership + efficacy + insured',\n",
    "    'involved ~ perception + age + homeownership + efficacy + insured',\n",
    "    'made_plan ~ perception + age + homeownership + efficacy + insured',\n",
    "    'practiced_drills ~ perception + age + homeownership + efficacy + insured',\n",
    "    'alerts ~ perception + age + homeownership + efficacy + insured',\n",
    "    'family_communication ~ perception + age + homeownership + efficacy + insured',\n",
    "]\n",
    "M2 = [\n",
    "    'made_safer ~  awareness + age + homeownership + efficacy + insured',\n",
    "    'documents ~ awareness + age + homeownership + efficacy + insured',\n",
    "    'learned_routes ~ awareness + age + homeownership + efficacy + insured',\n",
    "    'supplies ~ awareness + age + homeownership + efficacy + insured',\n",
    "    'involved ~ awareness + age + homeownership + efficacy + insured',\n",
    "    'made_plan ~ awareness + age + homeownership + efficacy + insured',\n",
    "    'practiced_drills ~ awareness + age + homeownership + efficacy + insured',\n",
    "    'alerts ~ awareness + age + homeownership + efficacy + insured',\n",
    "    'family_communication ~ awareness + age + homeownership + efficacy + insured',\n",
    "]\n",
    "\n",
    "M3 = [\n",
    "    'made_safer ~ experience + age + homeownership + efficacy + insured',\n",
    "    'documents ~ experience + age + homeownership + efficacy + insured',\n",
    "    'learned_routes ~ experience + age + homeownership + efficacy + insured',\n",
    "    'supplies ~ experience + age + homeownership + efficacy + insured',\n",
    "    'involved ~ experience + age + homeownership + efficacy + insured',\n",
    "    'made_plan ~ experience + age + homeownership + efficacy + insured',\n",
    "    'practiced_drills ~ experience + age + homeownership + efficacy + insured',\n",
    "    'alerts ~ experience + age + homeownership + efficacy + insured',\n",
    "    'family_communication ~ experience + age + homeownership + efficacy + insured',\n",
    "]\n",
    "\n",
    "M4 = [\n",
    "    'made_safer ~ floodzone + age + homeownership + efficacy + insured',\n",
    "    'documents ~ floodzone + age + homeownership + efficacy + insured',\n",
    "    'learned_routes ~ floodzone + age + homeownership + efficacy + insured',\n",
    "    'supplies ~ floodzone + age + homeownership + efficacy + insured',\n",
    "    'involved ~ floodzone + age + homeownership + efficacy + insured',\n",
    "    'made_plan ~ floodzone + age + homeownership + efficacy + insured',\n",
    "    'practiced_drills ~ floodzone + age + homeownership + efficacy + insured',\n",
    "    'alerts ~ floodzone + age + homeownership + efficacy + insured',\n",
    "    'family_communication ~ floodzone + age + homeownership + efficacy + insured',\n",
    "]"
   ]
  },
  {
   "cell_type": "code",
   "execution_count": 15,
   "id": "cf567c66",
   "metadata": {},
   "outputs": [],
   "source": [
    "# probit regression\n",
    "M1 = probit(functions = M1, data = df)\n",
    "M2 = probit(functions = M2, data = df)\n",
    "M3 = probit(functions = M3, data = df)\n",
    "M4 = probit(functions = M4, data = df)"
   ]
  },
  {
   "cell_type": "code",
   "execution_count": 16,
   "id": "37f0b617",
   "metadata": {},
   "outputs": [],
   "source": [
    "# store results \n",
    "M1, M2, M3, M4 = M1.round(3), M2.round(3), M3.round(3), M4.round(3)\n",
    "M1.to_excel('results/M1_sensitivity.xlsx')\n",
    "M2.to_excel('results/M2_sensitivity.xlsx')\n",
    "M3.to_excel('results/M3_sensitivity.xlsx')\n",
    "M4.to_excel('results/M4_sensitivity.xlsx')"
   ]
  },
  {
   "cell_type": "code",
   "execution_count": null,
   "id": "a8180309",
   "metadata": {},
   "outputs": [],
   "source": []
  }
 ],
 "metadata": {
  "kernelspec": {
   "display_name": "datascience",
   "language": "python",
   "name": "python3"
  },
  "language_info": {
   "codemirror_mode": {
    "name": "ipython",
    "version": 3
   },
   "file_extension": ".py",
   "mimetype": "text/x-python",
   "name": "python",
   "nbconvert_exporter": "python",
   "pygments_lexer": "ipython3",
   "version": "3.11.5"
  }
 },
 "nbformat": 4,
 "nbformat_minor": 5
}
