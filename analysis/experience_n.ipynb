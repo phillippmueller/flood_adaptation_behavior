{
 "cells": [
  {
   "cell_type": "markdown",
   "metadata": {},
   "source": [
    "## Hypothesis: Flood experience has a positive effect on preparedness"
   ]
  },
  {
   "cell_type": "code",
   "execution_count": 1,
   "metadata": {},
   "outputs": [],
   "source": [
    "# analytics\n",
    "import pandas as pd \n",
    "import numpy as np\n",
    "import scipy.stats as stats\n",
    "import statsmodels.formula.api as smf\n",
    "#spatial \n",
    "import osmnx as ox\n",
    "import geopandas as gpd\n",
    "import contextily as cx\n",
    "# plotting \n",
    "import seaborn as sns\n",
    "import matplotlib.pyplot as plt\n",
    "from matplotlib.colors import LinearSegmentedColormap\n",
    "#settings\n",
    "import warnings"
   ]
  },
  {
   "cell_type": "code",
   "execution_count": null,
   "metadata": {},
   "outputs": [
    {
     "data": {
      "text/html": [
       "<div>\n",
       "<style scoped>\n",
       "    .dataframe tbody tr th:only-of-type {\n",
       "        vertical-align: middle;\n",
       "    }\n",
       "\n",
       "    .dataframe tbody tr th {\n",
       "        vertical-align: top;\n",
       "    }\n",
       "\n",
       "    .dataframe thead th {\n",
       "        text-align: right;\n",
       "    }\n",
       "</style>\n",
       "<table border=\"1\" class=\"dataframe\">\n",
       "  <thead>\n",
       "    <tr style=\"text-align: right;\">\n",
       "      <th></th>\n",
       "      <th>id</th>\n",
       "      <th>state</th>\n",
       "      <th>zipcode</th>\n",
       "      <th>geographic_division</th>\n",
       "      <th>census_region</th>\n",
       "      <th>county</th>\n",
       "      <th>experience</th>\n",
       "      <th>supplies</th>\n",
       "      <th>insured</th>\n",
       "      <th>involved</th>\n",
       "      <th>...</th>\n",
       "      <th>sex</th>\n",
       "      <th>education</th>\n",
       "      <th>race</th>\n",
       "      <th>homeownership</th>\n",
       "      <th>income</th>\n",
       "      <th>rentmortgage</th>\n",
       "      <th>rurality</th>\n",
       "      <th>hazard_weight</th>\n",
       "      <th>geometry</th>\n",
       "      <th>zip_count</th>\n",
       "    </tr>\n",
       "  </thead>\n",
       "  <tbody>\n",
       "    <tr>\n",
       "      <th>0</th>\n",
       "      <td>1</td>\n",
       "      <td>Washington</td>\n",
       "      <td>98033</td>\n",
       "      <td>Pacific</td>\n",
       "      <td>West</td>\n",
       "      <td>King</td>\n",
       "      <td>0.0</td>\n",
       "      <td>0</td>\n",
       "      <td>0</td>\n",
       "      <td>1</td>\n",
       "      <td>...</td>\n",
       "      <td>0.0</td>\n",
       "      <td>4</td>\n",
       "      <td>White</td>\n",
       "      <td>1</td>\n",
       "      <td>87500</td>\n",
       "      <td>1250.0</td>\n",
       "      <td>1</td>\n",
       "      <td>0.255097</td>\n",
       "      <td>POLYGON ((-13608075.601186747 6055357.24645823...</td>\n",
       "      <td>1</td>\n",
       "    </tr>\n",
       "    <tr>\n",
       "      <th>1</th>\n",
       "      <td>2</td>\n",
       "      <td>Florida</td>\n",
       "      <td>33950</td>\n",
       "      <td>South Atlantic</td>\n",
       "      <td>South</td>\n",
       "      <td>Charlotte</td>\n",
       "      <td>1.0</td>\n",
       "      <td>0</td>\n",
       "      <td>1</td>\n",
       "      <td>1</td>\n",
       "      <td>...</td>\n",
       "      <td>1.0</td>\n",
       "      <td>5</td>\n",
       "      <td>White</td>\n",
       "      <td>1</td>\n",
       "      <td>175000</td>\n",
       "      <td>3000.0</td>\n",
       "      <td>1</td>\n",
       "      <td>2.836145</td>\n",
       "      <td>POLYGON ((-9139287.781401768 3112400.961508024...</td>\n",
       "      <td>1</td>\n",
       "    </tr>\n",
       "    <tr>\n",
       "      <th>2</th>\n",
       "      <td>3</td>\n",
       "      <td>New Jersey</td>\n",
       "      <td>7031</td>\n",
       "      <td>Middle Atlantic</td>\n",
       "      <td>Northeast</td>\n",
       "      <td>Bergen</td>\n",
       "      <td>1.0</td>\n",
       "      <td>0</td>\n",
       "      <td>0</td>\n",
       "      <td>1</td>\n",
       "      <td>...</td>\n",
       "      <td>1.0</td>\n",
       "      <td>1</td>\n",
       "      <td>White</td>\n",
       "      <td>0</td>\n",
       "      <td>47500</td>\n",
       "      <td>1250.0</td>\n",
       "      <td>1</td>\n",
       "      <td>1.165971</td>\n",
       "      <td>POLYGON ((-8254065.171859486 4980899.960122439...</td>\n",
       "      <td>1</td>\n",
       "    </tr>\n",
       "    <tr>\n",
       "      <th>3</th>\n",
       "      <td>5</td>\n",
       "      <td>Pennsylvania</td>\n",
       "      <td>19148</td>\n",
       "      <td>Middle Atlantic</td>\n",
       "      <td>Northeast</td>\n",
       "      <td>Philadelphia</td>\n",
       "      <td>1.0</td>\n",
       "      <td>0</td>\n",
       "      <td>1</td>\n",
       "      <td>0</td>\n",
       "      <td>...</td>\n",
       "      <td>0.0</td>\n",
       "      <td>4</td>\n",
       "      <td>White</td>\n",
       "      <td>1</td>\n",
       "      <td>125000</td>\n",
       "      <td>1250.0</td>\n",
       "      <td>1</td>\n",
       "      <td>0.624890</td>\n",
       "      <td>POLYGON ((-8368433.592186097 4851218.465580212...</td>\n",
       "      <td>1</td>\n",
       "    </tr>\n",
       "    <tr>\n",
       "      <th>4</th>\n",
       "      <td>7</td>\n",
       "      <td>Florida</td>\n",
       "      <td>32976</td>\n",
       "      <td>South Atlantic</td>\n",
       "      <td>South</td>\n",
       "      <td>Brevard</td>\n",
       "      <td>0.0</td>\n",
       "      <td>1</td>\n",
       "      <td>1</td>\n",
       "      <td>0</td>\n",
       "      <td>...</td>\n",
       "      <td>0.0</td>\n",
       "      <td>2</td>\n",
       "      <td>White</td>\n",
       "      <td>1</td>\n",
       "      <td>20000</td>\n",
       "      <td>250.0</td>\n",
       "      <td>1</td>\n",
       "      <td>0.695075</td>\n",
       "      <td>POLYGON ((-8971557.027329512 3234931.888104651...</td>\n",
       "      <td>1</td>\n",
       "    </tr>\n",
       "  </tbody>\n",
       "</table>\n",
       "<p>5 rows × 32 columns</p>\n",
       "</div>"
      ],
      "text/plain": [
       "   id         state  zipcode geographic_division census_region        county  \\\n",
       "0   1    Washington    98033             Pacific          West          King   \n",
       "1   2       Florida    33950      South Atlantic         South     Charlotte   \n",
       "2   3    New Jersey     7031     Middle Atlantic     Northeast        Bergen   \n",
       "3   5  Pennsylvania    19148     Middle Atlantic     Northeast  Philadelphia   \n",
       "4   7       Florida    32976      South Atlantic         South       Brevard   \n",
       "\n",
       "   experience  supplies  insured  involved  ...  sex  education   race  \\\n",
       "0         0.0         0        0         1  ...  0.0          4  White   \n",
       "1         1.0         0        1         1  ...  1.0          5  White   \n",
       "2         1.0         0        0         1  ...  1.0          1  White   \n",
       "3         1.0         0        1         0  ...  0.0          4  White   \n",
       "4         0.0         1        1         0  ...  0.0          2  White   \n",
       "\n",
       "   homeownership  income  rentmortgage  rurality  hazard_weight  \\\n",
       "0              1   87500        1250.0         1       0.255097   \n",
       "1              1  175000        3000.0         1       2.836145   \n",
       "2              0   47500        1250.0         1       1.165971   \n",
       "3              1  125000        1250.0         1       0.624890   \n",
       "4              1   20000         250.0         1       0.695075   \n",
       "\n",
       "                                            geometry  zip_count  \n",
       "0  POLYGON ((-13608075.601186747 6055357.24645823...          1  \n",
       "1  POLYGON ((-9139287.781401768 3112400.961508024...          1  \n",
       "2  POLYGON ((-8254065.171859486 4980899.960122439...          1  \n",
       "3  POLYGON ((-8368433.592186097 4851218.465580212...          1  \n",
       "4  POLYGON ((-8971557.027329512 3234931.888104651...          1  \n",
       "\n",
       "[5 rows x 32 columns]"
      ]
     },
     "execution_count": 3,
     "metadata": {},
     "output_type": "execute_result"
    }
   ],
   "source": [
    "# import data\n",
    "path = '/Users/philip/Documents/ESE/ESE_thesis/flood_experience/data/export/clean_n.csv'\n",
    "df = pd.read_csv(path)\n",
    "df.head()"
   ]
  },
  {
   "cell_type": "code",
   "execution_count": 60,
   "metadata": {},
   "outputs": [
    {
     "data": {
      "text/plain": [
       "Index(['id', 'state', 'zipcode', 'geographic_division', 'census_region',\n",
       "       'county', 'experience', 'supplies', 'insured', 'involved',\n",
       "       'learned_routes', 'made_plan', 'made_safer', 'planned_neighbors',\n",
       "       'practiced_drills', 'documents', 'rainy_day', 'alerts',\n",
       "       'family_communication', 'none', 'dont_know', 'age', 'sex', 'education',\n",
       "       'race', 'homeownership', 'income', 'rentmortgage', 'rurality',\n",
       "       'hazard_weight', 'geometry', 'zip_count'],\n",
       "      dtype='object')"
      ]
     },
     "execution_count": 60,
     "metadata": {},
     "output_type": "execute_result"
    }
   ],
   "source": [
    "df.columns"
   ]
  },
  {
   "cell_type": "markdown",
   "metadata": {},
   "source": [
    "#### We will go through these outcome variables one by one\n",
    "\n",
    "structural adaptation: \n",
    "- made_safer\n",
    "\n",
    "non-structural adaptation: \n",
    "- insurance\n",
    "- learned_rountes\n",
    "- supplies\n",
    "- involved\n",
    "- made_plan\n",
    "- practiced_drills\n",
    "- alerts\n",
    "- family_communication\n"
   ]
  },
  {
   "cell_type": "code",
   "execution_count": 85,
   "metadata": {},
   "outputs": [],
   "source": [
    "def model (function, data):\n",
    "    model = smf.logit(function, data=data).fit()\n",
    "    print(model.summary()) # print model summary\n",
    "    print('BIC:', model.bic) # print BIC additionally to defaults model fit parameters\n",
    "    # print odds ratios for output = 0 and output = 1\n",
    "    print('likelihood of adaptation when there is no flood experience = ', 1 / (1 + np.exp(-model.params['Intercept'])))\n",
    "    print('likelihood of adaptation when there is flood experience = ', 1 / (1 + np.exp(-(model.params['Intercept']+model.params['experience']))))\n",
    "\n",
    "    # compute odds ratio\n",
    "    params = model.params\n",
    "    conf = model.conf_int()\n",
    "    odds_ratios = pd.DataFrame({\n",
    "        \"OR\": np.exp(params),\n",
    "        \"Lower CI\": np.exp(conf[0]),\n",
    "        \"Upper CI\": np.exp(conf[1])\n",
    "        })\n",
    "    odds_ratios.index.name = 'Variable'\n",
    "    odds_ratios.reset_index(inplace=True)\n",
    "    # compute marginal effects\n",
    "    marginal_effects = model.get_margeff().summary()\n",
    "\n",
    "    return odds_ratios, marginal_effects \n",
    "    "
   ]
  },
  {
   "cell_type": "code",
   "execution_count": 94,
   "metadata": {},
   "outputs": [
    {
     "name": "stdout",
     "output_type": "stream",
     "text": [
      "Optimization terminated successfully.\n",
      "         Current function value: 0.466982\n",
      "         Iterations 6\n",
      "                           Logit Regression Results                           \n",
      "==============================================================================\n",
      "Dep. Variable:             made_safer   No. Observations:                  472\n",
      "Model:                          Logit   Df Residuals:                      470\n",
      "Method:                           MLE   Df Model:                            1\n",
      "Date:                Mon, 07 Apr 2025   Pseudo R-squ.:                 0.02281\n",
      "Time:                        15:50:11   Log-Likelihood:                -220.42\n",
      "converged:                       True   LL-Null:                       -225.56\n",
      "Covariance Type:            nonrobust   LLR p-value:                  0.001337\n",
      "==============================================================================\n",
      "                 coef    std err          z      P>|z|      [0.025      0.975]\n",
      "------------------------------------------------------------------------------\n",
      "Intercept     -1.7483      0.152    -11.523      0.000      -2.046      -1.451\n",
      "experience     0.8101      0.248      3.262      0.001       0.323       1.297\n",
      "==============================================================================\n",
      "BIC: 453.14534063974526\n",
      "likelihood of adaptation when there is no flood experience =  0.1482558139534885\n",
      "likelihood of adaptation when there is flood experience =  0.28125\n"
     ]
    }
   ],
   "source": [
    "odds, marg_eff = model('made_safer ~ experience', data=df)"
   ]
  },
  {
   "cell_type": "code",
   "execution_count": 95,
   "metadata": {},
   "outputs": [
    {
     "data": {
      "text/html": [
       "<div>\n",
       "<style scoped>\n",
       "    .dataframe tbody tr th:only-of-type {\n",
       "        vertical-align: middle;\n",
       "    }\n",
       "\n",
       "    .dataframe tbody tr th {\n",
       "        vertical-align: top;\n",
       "    }\n",
       "\n",
       "    .dataframe thead th {\n",
       "        text-align: right;\n",
       "    }\n",
       "</style>\n",
       "<table border=\"1\" class=\"dataframe\">\n",
       "  <thead>\n",
       "    <tr style=\"text-align: right;\">\n",
       "      <th></th>\n",
       "      <th>Variable</th>\n",
       "      <th>OR</th>\n",
       "      <th>Lower CI</th>\n",
       "      <th>Upper CI</th>\n",
       "    </tr>\n",
       "  </thead>\n",
       "  <tbody>\n",
       "    <tr>\n",
       "      <th>0</th>\n",
       "      <td>Intercept</td>\n",
       "      <td>0.174061</td>\n",
       "      <td>0.129286</td>\n",
       "      <td>0.234343</td>\n",
       "    </tr>\n",
       "    <tr>\n",
       "      <th>1</th>\n",
       "      <td>experience</td>\n",
       "      <td>2.248082</td>\n",
       "      <td>1.381760</td>\n",
       "      <td>3.657561</td>\n",
       "    </tr>\n",
       "  </tbody>\n",
       "</table>\n",
       "</div>"
      ],
      "text/plain": [
       "     Variable        OR  Lower CI  Upper CI\n",
       "0   Intercept  0.174061  0.129286  0.234343\n",
       "1  experience  2.248082  1.381760  3.657561"
      ]
     },
     "execution_count": 95,
     "metadata": {},
     "output_type": "execute_result"
    }
   ],
   "source": [
    "odds"
   ]
  },
  {
   "cell_type": "code",
   "execution_count": 96,
   "metadata": {},
   "outputs": [
    {
     "data": {
      "text/html": [
       "<table class=\"simpletable\">\n",
       "<caption>Logit Marginal Effects</caption>\n",
       "<tr>\n",
       "  <th>Dep. Variable:</th> <td>made_safer</td>\n",
       "</tr>\n",
       "<tr>\n",
       "  <th>Method:</th>           <td>dydx</td>   \n",
       "</tr>\n",
       "<tr>\n",
       "  <th>At:</th>              <td>overall</td> \n",
       "</tr>\n",
       "</table>\n",
       "<table class=\"simpletable\">\n",
       "<tr>\n",
       "       <th></th>         <th>dy/dx</th>    <th>std err</th>      <th>z</th>      <th>P>|z|</th>  <th>[0.025</th>    <th>0.975]</th>  \n",
       "</tr>\n",
       "<tr>\n",
       "  <th>experience</th> <td>    0.1190</td> <td>    0.036</td> <td>    3.333</td> <td> 0.001</td> <td>    0.049</td> <td>    0.189</td>\n",
       "</tr>\n",
       "</table>"
      ],
      "text/latex": [
       "\\begin{center}\n",
       "\\begin{tabular}{lc}\n",
       "\\toprule\n",
       "\\textbf{Dep. Variable:} &  made\\_safer    \\\\\n",
       "\\textbf{Method:}        &      dydx       \\\\\n",
       "\\textbf{At:}            &    overall      \\\\\n",
       "\\bottomrule\n",
       "\\end{tabular}\n",
       "\\begin{tabular}{ccccccc}\n",
       "     \\textbf{}      & \\textbf{dy/dx} & \\textbf{std err} & \\textbf{z} & \\textbf{P$> |$z$|$} & \\textbf{[0.025} & \\textbf{0.975]}  \\\\\n",
       "\\midrule\n",
       "\\bottomrule\n",
       "\\end{tabular}\n",
       "\\begin{tabular}{lcccccc}\n",
       "\\textbf{experience} &       0.1190   &        0.036     &     3.333  &         0.001        &        0.049    &        0.189     \\\\\n",
       "\\bottomrule\n",
       "\\end{tabular}\n",
       "%\\caption{Logit Marginal Effects}\n",
       "\\end{center}"
      ],
      "text/plain": [
       "<class 'statsmodels.iolib.summary.Summary'>\n",
       "\"\"\"\n",
       "        Logit Marginal Effects       \n",
       "=====================================\n",
       "Dep. Variable:             made_safer\n",
       "Method:                          dydx\n",
       "At:                           overall\n",
       "==============================================================================\n",
       "                dy/dx    std err          z      P>|z|      [0.025      0.975]\n",
       "------------------------------------------------------------------------------\n",
       "experience     0.1190      0.036      3.333      0.001       0.049       0.189\n",
       "==============================================================================\n",
       "\"\"\""
      ]
     },
     "execution_count": 96,
     "metadata": {},
     "output_type": "execute_result"
    }
   ],
   "source": [
    "marg_eff"
   ]
  },
  {
   "cell_type": "code",
   "execution_count": 97,
   "metadata": {},
   "outputs": [
    {
     "name": "stdout",
     "output_type": "stream",
     "text": [
      "Optimization terminated successfully.\n",
      "         Current function value: 0.499629\n",
      "         Iterations 6\n",
      "                           Logit Regression Results                           \n",
      "==============================================================================\n",
      "Dep. Variable:                insured   No. Observations:                  472\n",
      "Model:                          Logit   Df Residuals:                      470\n",
      "Method:                           MLE   Df Model:                            1\n",
      "Date:                Mon, 07 Apr 2025   Pseudo R-squ.:                 0.03767\n",
      "Time:                        15:50:22   Log-Likelihood:                -235.82\n",
      "converged:                       True   LL-Null:                       -245.06\n",
      "Covariance Type:            nonrobust   LLR p-value:                 1.733e-05\n",
      "==============================================================================\n",
      "                 coef    std err          z      P>|z|      [0.025      0.975]\n",
      "------------------------------------------------------------------------------\n",
      "Intercept     -1.6376      0.146    -11.213      0.000      -1.924      -1.351\n",
      "experience     1.0254      0.236      4.349      0.000       0.563       1.488\n",
      "==============================================================================\n",
      "BIC: 483.9633749132855\n",
      "likelihood of adaptation when there is no flood experience =  0.16279069767441834\n",
      "likelihood of adaptation when there is flood experience =  0.35156249999999994\n"
     ]
    }
   ],
   "source": [
    "odds, marg_eff = model('insured ~ experience', data=df)"
   ]
  },
  {
   "cell_type": "code",
   "execution_count": 98,
   "metadata": {},
   "outputs": [
    {
     "data": {
      "text/html": [
       "<div>\n",
       "<style scoped>\n",
       "    .dataframe tbody tr th:only-of-type {\n",
       "        vertical-align: middle;\n",
       "    }\n",
       "\n",
       "    .dataframe tbody tr th {\n",
       "        vertical-align: top;\n",
       "    }\n",
       "\n",
       "    .dataframe thead th {\n",
       "        text-align: right;\n",
       "    }\n",
       "</style>\n",
       "<table border=\"1\" class=\"dataframe\">\n",
       "  <thead>\n",
       "    <tr style=\"text-align: right;\">\n",
       "      <th></th>\n",
       "      <th>Variable</th>\n",
       "      <th>OR</th>\n",
       "      <th>Lower CI</th>\n",
       "      <th>Upper CI</th>\n",
       "    </tr>\n",
       "  </thead>\n",
       "  <tbody>\n",
       "    <tr>\n",
       "      <th>0</th>\n",
       "      <td>Intercept</td>\n",
       "      <td>0.194444</td>\n",
       "      <td>0.146043</td>\n",
       "      <td>0.258887</td>\n",
       "    </tr>\n",
       "    <tr>\n",
       "      <th>1</th>\n",
       "      <td>experience</td>\n",
       "      <td>2.788296</td>\n",
       "      <td>1.756422</td>\n",
       "      <td>4.426382</td>\n",
       "    </tr>\n",
       "  </tbody>\n",
       "</table>\n",
       "</div>"
      ],
      "text/plain": [
       "     Variable        OR  Lower CI  Upper CI\n",
       "0   Intercept  0.194444  0.146043  0.258887\n",
       "1  experience  2.788296  1.756422  4.426382"
      ]
     },
     "execution_count": 98,
     "metadata": {},
     "output_type": "execute_result"
    }
   ],
   "source": [
    "odds"
   ]
  },
  {
   "cell_type": "code",
   "execution_count": 99,
   "metadata": {},
   "outputs": [
    {
     "data": {
      "text/html": [
       "<table class=\"simpletable\">\n",
       "<caption>Logit Marginal Effects</caption>\n",
       "<tr>\n",
       "  <th>Dep. Variable:</th> <td>insured</td>\n",
       "</tr>\n",
       "<tr>\n",
       "  <th>Method:</th>         <td>dydx</td>  \n",
       "</tr>\n",
       "<tr>\n",
       "  <th>At:</th>            <td>overall</td>\n",
       "</tr>\n",
       "</table>\n",
       "<table class=\"simpletable\">\n",
       "<tr>\n",
       "       <th></th>         <th>dy/dx</th>    <th>std err</th>      <th>z</th>      <th>P>|z|</th>  <th>[0.025</th>    <th>0.975]</th>  \n",
       "</tr>\n",
       "<tr>\n",
       "  <th>experience</th> <td>    0.1652</td> <td>    0.036</td> <td>    4.597</td> <td> 0.000</td> <td>    0.095</td> <td>    0.236</td>\n",
       "</tr>\n",
       "</table>"
      ],
      "text/latex": [
       "\\begin{center}\n",
       "\\begin{tabular}{lc}\n",
       "\\toprule\n",
       "\\textbf{Dep. Variable:} &    insured      \\\\\n",
       "\\textbf{Method:}        &      dydx       \\\\\n",
       "\\textbf{At:}            &    overall      \\\\\n",
       "\\bottomrule\n",
       "\\end{tabular}\n",
       "\\begin{tabular}{ccccccc}\n",
       "     \\textbf{}      & \\textbf{dy/dx} & \\textbf{std err} & \\textbf{z} & \\textbf{P$> |$z$|$} & \\textbf{[0.025} & \\textbf{0.975]}  \\\\\n",
       "\\midrule\n",
       "\\bottomrule\n",
       "\\end{tabular}\n",
       "\\begin{tabular}{lcccccc}\n",
       "\\textbf{experience} &       0.1652   &        0.036     &     4.597  &         0.000        &        0.095    &        0.236     \\\\\n",
       "\\bottomrule\n",
       "\\end{tabular}\n",
       "%\\caption{Logit Marginal Effects}\n",
       "\\end{center}"
      ],
      "text/plain": [
       "<class 'statsmodels.iolib.summary.Summary'>\n",
       "\"\"\"\n",
       "        Logit Marginal Effects       \n",
       "=====================================\n",
       "Dep. Variable:                insured\n",
       "Method:                          dydx\n",
       "At:                           overall\n",
       "==============================================================================\n",
       "                dy/dx    std err          z      P>|z|      [0.025      0.975]\n",
       "------------------------------------------------------------------------------\n",
       "experience     0.1652      0.036      4.597      0.000       0.095       0.236\n",
       "==============================================================================\n",
       "\"\"\""
      ]
     },
     "execution_count": 99,
     "metadata": {},
     "output_type": "execute_result"
    }
   ],
   "source": [
    "marg_eff"
   ]
  },
  {
   "cell_type": "code",
   "execution_count": 100,
   "metadata": {},
   "outputs": [
    {
     "name": "stdout",
     "output_type": "stream",
     "text": [
      "Optimization terminated successfully.\n",
      "         Current function value: 0.500705\n",
      "         Iterations 6\n",
      "                           Logit Regression Results                           \n",
      "==============================================================================\n",
      "Dep. Variable:         learned_routes   No. Observations:                  472\n",
      "Model:                          Logit   Df Residuals:                      470\n",
      "Method:                           MLE   Df Model:                            1\n",
      "Date:                Mon, 07 Apr 2025   Pseudo R-squ.:                 0.06454\n",
      "Time:                        15:50:59   Log-Likelihood:                -236.33\n",
      "converged:                       True   LL-Null:                       -252.64\n",
      "Covariance Type:            nonrobust   LLR p-value:                 1.125e-08\n",
      "==============================================================================\n",
      "                 coef    std err          z      P>|z|      [0.025      0.975]\n",
      "------------------------------------------------------------------------------\n",
      "Intercept     -1.6809      0.148    -11.341      0.000      -1.971      -1.390\n",
      "experience     1.3337      0.233      5.730      0.000       0.878       1.790\n",
      "==============================================================================\n",
      "BIC: 484.9797935828765\n",
      "likelihood of adaptation when there is no flood experience =  0.15697674418604668\n",
      "likelihood of adaptation when there is flood experience =  0.4140625\n"
     ]
    }
   ],
   "source": [
    "odds, marg_eff = model('learned_routes ~experience', data=df)"
   ]
  },
  {
   "cell_type": "code",
   "execution_count": 101,
   "metadata": {},
   "outputs": [
    {
     "data": {
      "text/html": [
       "<div>\n",
       "<style scoped>\n",
       "    .dataframe tbody tr th:only-of-type {\n",
       "        vertical-align: middle;\n",
       "    }\n",
       "\n",
       "    .dataframe tbody tr th {\n",
       "        vertical-align: top;\n",
       "    }\n",
       "\n",
       "    .dataframe thead th {\n",
       "        text-align: right;\n",
       "    }\n",
       "</style>\n",
       "<table border=\"1\" class=\"dataframe\">\n",
       "  <thead>\n",
       "    <tr style=\"text-align: right;\">\n",
       "      <th></th>\n",
       "      <th>Variable</th>\n",
       "      <th>OR</th>\n",
       "      <th>Lower CI</th>\n",
       "      <th>Upper CI</th>\n",
       "    </tr>\n",
       "  </thead>\n",
       "  <tbody>\n",
       "    <tr>\n",
       "      <th>0</th>\n",
       "      <td>Intercept</td>\n",
       "      <td>0.186207</td>\n",
       "      <td>0.139264</td>\n",
       "      <td>0.248974</td>\n",
       "    </tr>\n",
       "    <tr>\n",
       "      <th>1</th>\n",
       "      <td>experience</td>\n",
       "      <td>3.795062</td>\n",
       "      <td>2.404971</td>\n",
       "      <td>5.988634</td>\n",
       "    </tr>\n",
       "  </tbody>\n",
       "</table>\n",
       "</div>"
      ],
      "text/plain": [
       "     Variable        OR  Lower CI  Upper CI\n",
       "0   Intercept  0.186207  0.139264  0.248974\n",
       "1  experience  3.795062  2.404971  5.988634"
      ]
     },
     "execution_count": 101,
     "metadata": {},
     "output_type": "execute_result"
    }
   ],
   "source": [
    "odds"
   ]
  },
  {
   "cell_type": "code",
   "execution_count": 102,
   "metadata": {},
   "outputs": [
    {
     "data": {
      "text/html": [
       "<table class=\"simpletable\">\n",
       "<caption>Logit Marginal Effects</caption>\n",
       "<tr>\n",
       "  <th>Dep. Variable:</th> <td>learned_routes</td>\n",
       "</tr>\n",
       "<tr>\n",
       "  <th>Method:</th>             <td>dydx</td>     \n",
       "</tr>\n",
       "<tr>\n",
       "  <th>At:</th>                <td>overall</td>   \n",
       "</tr>\n",
       "</table>\n",
       "<table class=\"simpletable\">\n",
       "<tr>\n",
       "       <th></th>         <th>dy/dx</th>    <th>std err</th>      <th>z</th>      <th>P>|z|</th>  <th>[0.025</th>    <th>0.975]</th>  \n",
       "</tr>\n",
       "<tr>\n",
       "  <th>experience</th> <td>    0.2164</td> <td>    0.034</td> <td>    6.429</td> <td> 0.000</td> <td>    0.150</td> <td>    0.282</td>\n",
       "</tr>\n",
       "</table>"
      ],
      "text/latex": [
       "\\begin{center}\n",
       "\\begin{tabular}{lc}\n",
       "\\toprule\n",
       "\\textbf{Dep. Variable:} & learned\\_routes  \\\\\n",
       "\\textbf{Method:}        &       dydx       \\\\\n",
       "\\textbf{At:}            &     overall      \\\\\n",
       "\\bottomrule\n",
       "\\end{tabular}\n",
       "\\begin{tabular}{ccccccc}\n",
       "     \\textbf{}      & \\textbf{dy/dx} & \\textbf{std err} & \\textbf{z} & \\textbf{P$> |$z$|$} & \\textbf{[0.025} & \\textbf{0.975]}  \\\\\n",
       "\\midrule\n",
       "\\bottomrule\n",
       "\\end{tabular}\n",
       "\\begin{tabular}{lcccccc}\n",
       "\\textbf{experience} &       0.2164   &        0.034     &     6.429  &         0.000        &        0.150    &        0.282     \\\\\n",
       "\\bottomrule\n",
       "\\end{tabular}\n",
       "%\\caption{Logit Marginal Effects}\n",
       "\\end{center}"
      ],
      "text/plain": [
       "<class 'statsmodels.iolib.summary.Summary'>\n",
       "\"\"\"\n",
       "        Logit Marginal Effects       \n",
       "=====================================\n",
       "Dep. Variable:         learned_routes\n",
       "Method:                          dydx\n",
       "At:                           overall\n",
       "==============================================================================\n",
       "                dy/dx    std err          z      P>|z|      [0.025      0.975]\n",
       "------------------------------------------------------------------------------\n",
       "experience     0.2164      0.034      6.429      0.000       0.150       0.282\n",
       "==============================================================================\n",
       "\"\"\""
      ]
     },
     "execution_count": 102,
     "metadata": {},
     "output_type": "execute_result"
    }
   ],
   "source": [
    "marg_eff"
   ]
  },
  {
   "cell_type": "code",
   "execution_count": 103,
   "metadata": {},
   "outputs": [
    {
     "name": "stdout",
     "output_type": "stream",
     "text": [
      "Optimization terminated successfully.\n",
      "         Current function value: 0.480375\n",
      "         Iterations 6\n",
      "                           Logit Regression Results                           \n",
      "==============================================================================\n",
      "Dep. Variable:               supplies   No. Observations:                  472\n",
      "Model:                          Logit   Df Residuals:                      470\n",
      "Method:                           MLE   Df Model:                            1\n",
      "Date:                Mon, 07 Apr 2025   Pseudo R-squ.:                 0.08905\n",
      "Time:                        15:51:29   Log-Likelihood:                -226.74\n",
      "converged:                       True   LL-Null:                       -248.90\n",
      "Covariance Type:            nonrobust   LLR p-value:                 2.771e-11\n",
      "==============================================================================\n",
      "                 coef    std err          z      P>|z|      [0.025      0.975]\n",
      "------------------------------------------------------------------------------\n",
      "Intercept     -1.8192      0.156    -11.691      0.000      -2.124      -1.514\n",
      "experience     1.5678      0.237      6.628      0.000       1.104       2.031\n",
      "==============================================================================\n",
      "BIC: 465.78776129984135\n",
      "likelihood of adaptation when there is no flood experience =  0.13953488372093012\n",
      "likelihood of adaptation when there is flood experience =  0.4375\n"
     ]
    }
   ],
   "source": [
    "odds, marg_eff = model('supplies ~ experience', data=df)"
   ]
  },
  {
   "cell_type": "code",
   "execution_count": 104,
   "metadata": {},
   "outputs": [
    {
     "data": {
      "text/html": [
       "<div>\n",
       "<style scoped>\n",
       "    .dataframe tbody tr th:only-of-type {\n",
       "        vertical-align: middle;\n",
       "    }\n",
       "\n",
       "    .dataframe tbody tr th {\n",
       "        vertical-align: top;\n",
       "    }\n",
       "\n",
       "    .dataframe thead th {\n",
       "        text-align: right;\n",
       "    }\n",
       "</style>\n",
       "<table border=\"1\" class=\"dataframe\">\n",
       "  <thead>\n",
       "    <tr style=\"text-align: right;\">\n",
       "      <th></th>\n",
       "      <th>Variable</th>\n",
       "      <th>OR</th>\n",
       "      <th>Lower CI</th>\n",
       "      <th>Upper CI</th>\n",
       "    </tr>\n",
       "  </thead>\n",
       "  <tbody>\n",
       "    <tr>\n",
       "      <th>0</th>\n",
       "      <td>Intercept</td>\n",
       "      <td>0.162162</td>\n",
       "      <td>0.119537</td>\n",
       "      <td>0.219987</td>\n",
       "    </tr>\n",
       "    <tr>\n",
       "      <th>1</th>\n",
       "      <td>experience</td>\n",
       "      <td>4.796296</td>\n",
       "      <td>3.016831</td>\n",
       "      <td>7.625372</td>\n",
       "    </tr>\n",
       "  </tbody>\n",
       "</table>\n",
       "</div>"
      ],
      "text/plain": [
       "     Variable        OR  Lower CI  Upper CI\n",
       "0   Intercept  0.162162  0.119537  0.219987\n",
       "1  experience  4.796296  3.016831  7.625372"
      ]
     },
     "execution_count": 104,
     "metadata": {},
     "output_type": "execute_result"
    }
   ],
   "source": [
    "odds"
   ]
  },
  {
   "cell_type": "code",
   "execution_count": 105,
   "metadata": {},
   "outputs": [
    {
     "data": {
      "text/html": [
       "<table class=\"simpletable\">\n",
       "<caption>Logit Marginal Effects</caption>\n",
       "<tr>\n",
       "  <th>Dep. Variable:</th> <td>supplies</td>\n",
       "</tr>\n",
       "<tr>\n",
       "  <th>Method:</th>          <td>dydx</td>  \n",
       "</tr>\n",
       "<tr>\n",
       "  <th>At:</th>             <td>overall</td>\n",
       "</tr>\n",
       "</table>\n",
       "<table class=\"simpletable\">\n",
       "<tr>\n",
       "       <th></th>         <th>dy/dx</th>    <th>std err</th>      <th>z</th>      <th>P>|z|</th>  <th>[0.025</th>    <th>0.975]</th>  \n",
       "</tr>\n",
       "<tr>\n",
       "  <th>experience</th> <td>    0.2418</td> <td>    0.031</td> <td>    7.793</td> <td> 0.000</td> <td>    0.181</td> <td>    0.303</td>\n",
       "</tr>\n",
       "</table>"
      ],
      "text/latex": [
       "\\begin{center}\n",
       "\\begin{tabular}{lc}\n",
       "\\toprule\n",
       "\\textbf{Dep. Variable:} &    supplies     \\\\\n",
       "\\textbf{Method:}        &      dydx       \\\\\n",
       "\\textbf{At:}            &    overall      \\\\\n",
       "\\bottomrule\n",
       "\\end{tabular}\n",
       "\\begin{tabular}{ccccccc}\n",
       "     \\textbf{}      & \\textbf{dy/dx} & \\textbf{std err} & \\textbf{z} & \\textbf{P$> |$z$|$} & \\textbf{[0.025} & \\textbf{0.975]}  \\\\\n",
       "\\midrule\n",
       "\\bottomrule\n",
       "\\end{tabular}\n",
       "\\begin{tabular}{lcccccc}\n",
       "\\textbf{experience} &       0.2418   &        0.031     &     7.793  &         0.000        &        0.181    &        0.303     \\\\\n",
       "\\bottomrule\n",
       "\\end{tabular}\n",
       "%\\caption{Logit Marginal Effects}\n",
       "\\end{center}"
      ],
      "text/plain": [
       "<class 'statsmodels.iolib.summary.Summary'>\n",
       "\"\"\"\n",
       "        Logit Marginal Effects       \n",
       "=====================================\n",
       "Dep. Variable:               supplies\n",
       "Method:                          dydx\n",
       "At:                           overall\n",
       "==============================================================================\n",
       "                dy/dx    std err          z      P>|z|      [0.025      0.975]\n",
       "------------------------------------------------------------------------------\n",
       "experience     0.2418      0.031      7.793      0.000       0.181       0.303\n",
       "==============================================================================\n",
       "\"\"\""
      ]
     },
     "execution_count": 105,
     "metadata": {},
     "output_type": "execute_result"
    }
   ],
   "source": [
    "marg_eff"
   ]
  },
  {
   "cell_type": "code",
   "execution_count": 106,
   "metadata": {},
   "outputs": [
    {
     "name": "stdout",
     "output_type": "stream",
     "text": [
      "Optimization terminated successfully.\n",
      "         Current function value: 0.273968\n",
      "         Iterations 7\n",
      "                           Logit Regression Results                           \n",
      "==============================================================================\n",
      "Dep. Variable:               involved   No. Observations:                  472\n",
      "Model:                          Logit   Df Residuals:                      470\n",
      "Method:                           MLE   Df Model:                            1\n",
      "Date:                Mon, 07 Apr 2025   Pseudo R-squ.:                 0.08732\n",
      "Time:                        15:52:36   Log-Likelihood:                -129.31\n",
      "converged:                       True   LL-Null:                       -141.68\n",
      "Covariance Type:            nonrobust   LLR p-value:                 6.552e-07\n",
      "==============================================================================\n",
      "                 coef    std err          z      P>|z|      [0.025      0.975]\n",
      "------------------------------------------------------------------------------\n",
      "Intercept     -3.0204      0.256    -11.797      0.000      -3.522      -2.519\n",
      "experience     1.6535      0.337      4.901      0.000       0.992       2.315\n",
      "==============================================================================\n",
      "BIC: 270.93992570871166\n",
      "likelihood of adaptation when there is no flood experience =  0.04651162790697676\n",
      "likelihood of adaptation when there is flood experience =  0.203125\n"
     ]
    }
   ],
   "source": [
    "odds, marg_eff = model('involved ~ experience', data=df)"
   ]
  },
  {
   "cell_type": "code",
   "execution_count": 107,
   "metadata": {},
   "outputs": [
    {
     "data": {
      "text/html": [
       "<div>\n",
       "<style scoped>\n",
       "    .dataframe tbody tr th:only-of-type {\n",
       "        vertical-align: middle;\n",
       "    }\n",
       "\n",
       "    .dataframe tbody tr th {\n",
       "        vertical-align: top;\n",
       "    }\n",
       "\n",
       "    .dataframe thead th {\n",
       "        text-align: right;\n",
       "    }\n",
       "</style>\n",
       "<table border=\"1\" class=\"dataframe\">\n",
       "  <thead>\n",
       "    <tr style=\"text-align: right;\">\n",
       "      <th></th>\n",
       "      <th>Variable</th>\n",
       "      <th>OR</th>\n",
       "      <th>Lower CI</th>\n",
       "      <th>Upper CI</th>\n",
       "    </tr>\n",
       "  </thead>\n",
       "  <tbody>\n",
       "    <tr>\n",
       "      <th>0</th>\n",
       "      <td>Intercept</td>\n",
       "      <td>0.04878</td>\n",
       "      <td>0.029534</td>\n",
       "      <td>0.080570</td>\n",
       "    </tr>\n",
       "    <tr>\n",
       "      <th>1</th>\n",
       "      <td>experience</td>\n",
       "      <td>5.22549</td>\n",
       "      <td>2.697507</td>\n",
       "      <td>10.122587</td>\n",
       "    </tr>\n",
       "  </tbody>\n",
       "</table>\n",
       "</div>"
      ],
      "text/plain": [
       "     Variable       OR  Lower CI   Upper CI\n",
       "0   Intercept  0.04878  0.029534   0.080570\n",
       "1  experience  5.22549  2.697507  10.122587"
      ]
     },
     "execution_count": 107,
     "metadata": {},
     "output_type": "execute_result"
    }
   ],
   "source": [
    "odds"
   ]
  },
  {
   "cell_type": "code",
   "execution_count": 108,
   "metadata": {},
   "outputs": [
    {
     "data": {
      "text/html": [
       "<table class=\"simpletable\">\n",
       "<caption>Logit Marginal Effects</caption>\n",
       "<tr>\n",
       "  <th>Dep. Variable:</th> <td>involved</td>\n",
       "</tr>\n",
       "<tr>\n",
       "  <th>Method:</th>          <td>dydx</td>  \n",
       "</tr>\n",
       "<tr>\n",
       "  <th>At:</th>             <td>overall</td>\n",
       "</tr>\n",
       "</table>\n",
       "<table class=\"simpletable\">\n",
       "<tr>\n",
       "       <th></th>         <th>dy/dx</th>    <th>std err</th>      <th>z</th>      <th>P>|z|</th>  <th>[0.025</th>    <th>0.975]</th>  \n",
       "</tr>\n",
       "<tr>\n",
       "  <th>experience</th> <td>    0.1260</td> <td>    0.027</td> <td>    4.641</td> <td> 0.000</td> <td>    0.073</td> <td>    0.179</td>\n",
       "</tr>\n",
       "</table>"
      ],
      "text/latex": [
       "\\begin{center}\n",
       "\\begin{tabular}{lc}\n",
       "\\toprule\n",
       "\\textbf{Dep. Variable:} &    involved     \\\\\n",
       "\\textbf{Method:}        &      dydx       \\\\\n",
       "\\textbf{At:}            &    overall      \\\\\n",
       "\\bottomrule\n",
       "\\end{tabular}\n",
       "\\begin{tabular}{ccccccc}\n",
       "     \\textbf{}      & \\textbf{dy/dx} & \\textbf{std err} & \\textbf{z} & \\textbf{P$> |$z$|$} & \\textbf{[0.025} & \\textbf{0.975]}  \\\\\n",
       "\\midrule\n",
       "\\bottomrule\n",
       "\\end{tabular}\n",
       "\\begin{tabular}{lcccccc}\n",
       "\\textbf{experience} &       0.1260   &        0.027     &     4.641  &         0.000        &        0.073    &        0.179     \\\\\n",
       "\\bottomrule\n",
       "\\end{tabular}\n",
       "%\\caption{Logit Marginal Effects}\n",
       "\\end{center}"
      ],
      "text/plain": [
       "<class 'statsmodels.iolib.summary.Summary'>\n",
       "\"\"\"\n",
       "        Logit Marginal Effects       \n",
       "=====================================\n",
       "Dep. Variable:               involved\n",
       "Method:                          dydx\n",
       "At:                           overall\n",
       "==============================================================================\n",
       "                dy/dx    std err          z      P>|z|      [0.025      0.975]\n",
       "------------------------------------------------------------------------------\n",
       "experience     0.1260      0.027      4.641      0.000       0.073       0.179\n",
       "==============================================================================\n",
       "\"\"\""
      ]
     },
     "execution_count": 108,
     "metadata": {},
     "output_type": "execute_result"
    }
   ],
   "source": [
    "marg_eff"
   ]
  },
  {
   "cell_type": "code",
   "execution_count": 109,
   "metadata": {},
   "outputs": [
    {
     "name": "stdout",
     "output_type": "stream",
     "text": [
      "Optimization terminated successfully.\n",
      "         Current function value: 0.504336\n",
      "         Iterations 5\n",
      "                           Logit Regression Results                           \n",
      "==============================================================================\n",
      "Dep. Variable:              made_plan   No. Observations:                  472\n",
      "Model:                          Logit   Df Residuals:                      470\n",
      "Method:                           MLE   Df Model:                            1\n",
      "Date:                Mon, 07 Apr 2025   Pseudo R-squ.:                 0.03871\n",
      "Time:                        15:52:53   Log-Likelihood:                -238.05\n",
      "converged:                       True   LL-Null:                       -247.63\n",
      "Covariance Type:            nonrobust   LLR p-value:                 1.194e-05\n",
      "==============================================================================\n",
      "                 coef    std err          z      P>|z|      [0.025      0.975]\n",
      "------------------------------------------------------------------------------\n",
      "Intercept     -1.6164      0.145    -11.147      0.000      -1.901      -1.332\n",
      "experience     1.0384      0.234      4.429      0.000       0.579       1.498\n",
      "==============================================================================\n",
      "BIC: 488.40756439999575\n",
      "likelihood of adaptation when there is no flood experience =  0.16569767441860478\n",
      "likelihood of adaptation when there is flood experience =  0.359375\n"
     ]
    }
   ],
   "source": [
    "odds, marg_eff = model('made_plan ~ experience', data=df)"
   ]
  },
  {
   "cell_type": "code",
   "execution_count": 110,
   "metadata": {},
   "outputs": [
    {
     "data": {
      "text/html": [
       "<div>\n",
       "<style scoped>\n",
       "    .dataframe tbody tr th:only-of-type {\n",
       "        vertical-align: middle;\n",
       "    }\n",
       "\n",
       "    .dataframe tbody tr th {\n",
       "        vertical-align: top;\n",
       "    }\n",
       "\n",
       "    .dataframe thead th {\n",
       "        text-align: right;\n",
       "    }\n",
       "</style>\n",
       "<table border=\"1\" class=\"dataframe\">\n",
       "  <thead>\n",
       "    <tr style=\"text-align: right;\">\n",
       "      <th></th>\n",
       "      <th>Variable</th>\n",
       "      <th>OR</th>\n",
       "      <th>Lower CI</th>\n",
       "      <th>Upper CI</th>\n",
       "    </tr>\n",
       "  </thead>\n",
       "  <tbody>\n",
       "    <tr>\n",
       "      <th>0</th>\n",
       "      <td>Intercept</td>\n",
       "      <td>0.198606</td>\n",
       "      <td>0.149472</td>\n",
       "      <td>0.263892</td>\n",
       "    </tr>\n",
       "    <tr>\n",
       "      <th>1</th>\n",
       "      <td>experience</td>\n",
       "      <td>2.824561</td>\n",
       "      <td>1.784000</td>\n",
       "      <td>4.472057</td>\n",
       "    </tr>\n",
       "  </tbody>\n",
       "</table>\n",
       "</div>"
      ],
      "text/plain": [
       "     Variable        OR  Lower CI  Upper CI\n",
       "0   Intercept  0.198606  0.149472  0.263892\n",
       "1  experience  2.824561  1.784000  4.472057"
      ]
     },
     "execution_count": 110,
     "metadata": {},
     "output_type": "execute_result"
    }
   ],
   "source": [
    "odds"
   ]
  },
  {
   "cell_type": "code",
   "execution_count": 111,
   "metadata": {},
   "outputs": [
    {
     "data": {
      "text/html": [
       "<table class=\"simpletable\">\n",
       "<caption>Logit Marginal Effects</caption>\n",
       "<tr>\n",
       "  <th>Dep. Variable:</th> <td>made_plan</td>\n",
       "</tr>\n",
       "<tr>\n",
       "  <th>Method:</th>          <td>dydx</td>   \n",
       "</tr>\n",
       "<tr>\n",
       "  <th>At:</th>             <td>overall</td> \n",
       "</tr>\n",
       "</table>\n",
       "<table class=\"simpletable\">\n",
       "<tr>\n",
       "       <th></th>         <th>dy/dx</th>    <th>std err</th>      <th>z</th>      <th>P>|z|</th>  <th>[0.025</th>    <th>0.975]</th>  \n",
       "</tr>\n",
       "<tr>\n",
       "  <th>experience</th> <td>    0.1694</td> <td>    0.036</td> <td>    4.700</td> <td> 0.000</td> <td>    0.099</td> <td>    0.240</td>\n",
       "</tr>\n",
       "</table>"
      ],
      "text/latex": [
       "\\begin{center}\n",
       "\\begin{tabular}{lc}\n",
       "\\toprule\n",
       "\\textbf{Dep. Variable:} &   made\\_plan    \\\\\n",
       "\\textbf{Method:}        &      dydx       \\\\\n",
       "\\textbf{At:}            &    overall      \\\\\n",
       "\\bottomrule\n",
       "\\end{tabular}\n",
       "\\begin{tabular}{ccccccc}\n",
       "     \\textbf{}      & \\textbf{dy/dx} & \\textbf{std err} & \\textbf{z} & \\textbf{P$> |$z$|$} & \\textbf{[0.025} & \\textbf{0.975]}  \\\\\n",
       "\\midrule\n",
       "\\bottomrule\n",
       "\\end{tabular}\n",
       "\\begin{tabular}{lcccccc}\n",
       "\\textbf{experience} &       0.1694   &        0.036     &     4.700  &         0.000        &        0.099    &        0.240     \\\\\n",
       "\\bottomrule\n",
       "\\end{tabular}\n",
       "%\\caption{Logit Marginal Effects}\n",
       "\\end{center}"
      ],
      "text/plain": [
       "<class 'statsmodels.iolib.summary.Summary'>\n",
       "\"\"\"\n",
       "        Logit Marginal Effects       \n",
       "=====================================\n",
       "Dep. Variable:              made_plan\n",
       "Method:                          dydx\n",
       "At:                           overall\n",
       "==============================================================================\n",
       "                dy/dx    std err          z      P>|z|      [0.025      0.975]\n",
       "------------------------------------------------------------------------------\n",
       "experience     0.1694      0.036      4.700      0.000       0.099       0.240\n",
       "==============================================================================\n",
       "\"\"\""
      ]
     },
     "execution_count": 111,
     "metadata": {},
     "output_type": "execute_result"
    }
   ],
   "source": [
    "marg_eff"
   ]
  },
  {
   "cell_type": "code",
   "execution_count": 112,
   "metadata": {},
   "outputs": [
    {
     "name": "stdout",
     "output_type": "stream",
     "text": [
      "Optimization terminated successfully.\n",
      "         Current function value: 0.267162\n",
      "         Iterations 7\n",
      "                           Logit Regression Results                           \n",
      "==============================================================================\n",
      "Dep. Variable:       practiced_drills   No. Observations:                  472\n",
      "Model:                          Logit   Df Residuals:                      470\n",
      "Method:                           MLE   Df Model:                            1\n",
      "Date:                Mon, 07 Apr 2025   Pseudo R-squ.:                 0.04588\n",
      "Time:                        15:53:13   Log-Likelihood:                -126.10\n",
      "converged:                       True   LL-Null:                       -132.16\n",
      "Covariance Type:            nonrobust   LLR p-value:                 0.0004967\n",
      "==============================================================================\n",
      "                 coef    std err          z      P>|z|      [0.025      0.975]\n",
      "------------------------------------------------------------------------------\n",
      "Intercept     -2.8965      0.242    -11.963      0.000      -3.371      -2.422\n",
      "experience     1.2101      0.343      3.525      0.000       0.537       1.883\n",
      "==============================================================================\n",
      "BIC: 264.51505387114474\n",
      "likelihood of adaptation when there is no flood experience =  0.05232558139534878\n",
      "likelihood of adaptation when there is flood experience =  0.15625\n"
     ]
    }
   ],
   "source": [
    "odds, marg_eff = model('practiced_drills ~ experience', data=df)"
   ]
  },
  {
   "cell_type": "code",
   "execution_count": 113,
   "metadata": {},
   "outputs": [
    {
     "data": {
      "text/html": [
       "<div>\n",
       "<style scoped>\n",
       "    .dataframe tbody tr th:only-of-type {\n",
       "        vertical-align: middle;\n",
       "    }\n",
       "\n",
       "    .dataframe tbody tr th {\n",
       "        vertical-align: top;\n",
       "    }\n",
       "\n",
       "    .dataframe thead th {\n",
       "        text-align: right;\n",
       "    }\n",
       "</style>\n",
       "<table border=\"1\" class=\"dataframe\">\n",
       "  <thead>\n",
       "    <tr style=\"text-align: right;\">\n",
       "      <th></th>\n",
       "      <th>Variable</th>\n",
       "      <th>OR</th>\n",
       "      <th>Lower CI</th>\n",
       "      <th>Upper CI</th>\n",
       "    </tr>\n",
       "  </thead>\n",
       "  <tbody>\n",
       "    <tr>\n",
       "      <th>0</th>\n",
       "      <td>Intercept</td>\n",
       "      <td>0.055215</td>\n",
       "      <td>0.034353</td>\n",
       "      <td>0.088746</td>\n",
       "    </tr>\n",
       "    <tr>\n",
       "      <th>1</th>\n",
       "      <td>experience</td>\n",
       "      <td>3.353909</td>\n",
       "      <td>1.711196</td>\n",
       "      <td>6.573593</td>\n",
       "    </tr>\n",
       "  </tbody>\n",
       "</table>\n",
       "</div>"
      ],
      "text/plain": [
       "     Variable        OR  Lower CI  Upper CI\n",
       "0   Intercept  0.055215  0.034353  0.088746\n",
       "1  experience  3.353909  1.711196  6.573593"
      ]
     },
     "execution_count": 113,
     "metadata": {},
     "output_type": "execute_result"
    }
   ],
   "source": [
    "odds"
   ]
  },
  {
   "cell_type": "code",
   "execution_count": 114,
   "metadata": {},
   "outputs": [
    {
     "data": {
      "text/html": [
       "<table class=\"simpletable\">\n",
       "<caption>Logit Marginal Effects</caption>\n",
       "<tr>\n",
       "  <th>Dep. Variable:</th> <td>practiced_drills</td>\n",
       "</tr>\n",
       "<tr>\n",
       "  <th>Method:</th>              <td>dydx</td>      \n",
       "</tr>\n",
       "<tr>\n",
       "  <th>At:</th>                 <td>overall</td>    \n",
       "</tr>\n",
       "</table>\n",
       "<table class=\"simpletable\">\n",
       "<tr>\n",
       "       <th></th>         <th>dy/dx</th>    <th>std err</th>      <th>z</th>      <th>P>|z|</th>  <th>[0.025</th>    <th>0.975]</th>  \n",
       "</tr>\n",
       "<tr>\n",
       "  <th>experience</th> <td>    0.0870</td> <td>    0.026</td> <td>    3.349</td> <td> 0.001</td> <td>    0.036</td> <td>    0.138</td>\n",
       "</tr>\n",
       "</table>"
      ],
      "text/latex": [
       "\\begin{center}\n",
       "\\begin{tabular}{lc}\n",
       "\\toprule\n",
       "\\textbf{Dep. Variable:} & practiced\\_drills  \\\\\n",
       "\\textbf{Method:}        &        dydx        \\\\\n",
       "\\textbf{At:}            &      overall       \\\\\n",
       "\\bottomrule\n",
       "\\end{tabular}\n",
       "\\begin{tabular}{ccccccc}\n",
       "     \\textbf{}      & \\textbf{dy/dx} & \\textbf{std err} & \\textbf{z} & \\textbf{P$> |$z$|$} & \\textbf{[0.025} & \\textbf{0.975]}  \\\\\n",
       "\\midrule\n",
       "\\bottomrule\n",
       "\\end{tabular}\n",
       "\\begin{tabular}{lcccccc}\n",
       "\\textbf{experience} &       0.0870   &        0.026     &     3.349  &         0.001        &        0.036    &        0.138     \\\\\n",
       "\\bottomrule\n",
       "\\end{tabular}\n",
       "%\\caption{Logit Marginal Effects}\n",
       "\\end{center}"
      ],
      "text/plain": [
       "<class 'statsmodels.iolib.summary.Summary'>\n",
       "\"\"\"\n",
       "        Logit Marginal Effects       \n",
       "=====================================\n",
       "Dep. Variable:       practiced_drills\n",
       "Method:                          dydx\n",
       "At:                           overall\n",
       "==============================================================================\n",
       "                dy/dx    std err          z      P>|z|      [0.025      0.975]\n",
       "------------------------------------------------------------------------------\n",
       "experience     0.0870      0.026      3.349      0.001       0.036       0.138\n",
       "==============================================================================\n",
       "\"\"\""
      ]
     },
     "execution_count": 114,
     "metadata": {},
     "output_type": "execute_result"
    }
   ],
   "source": [
    "marg_eff"
   ]
  },
  {
   "cell_type": "code",
   "execution_count": 115,
   "metadata": {},
   "outputs": [
    {
     "name": "stdout",
     "output_type": "stream",
     "text": [
      "Optimization terminated successfully.\n",
      "         Current function value: 0.472609\n",
      "         Iterations 6\n",
      "                           Logit Regression Results                           \n",
      "==============================================================================\n",
      "Dep. Variable:                 alerts   No. Observations:                  472\n",
      "Model:                          Logit   Df Residuals:                      470\n",
      "Method:                           MLE   Df Model:                            1\n",
      "Date:                Mon, 07 Apr 2025   Pseudo R-squ.:                 0.02379\n",
      "Time:                        15:53:53   Log-Likelihood:                -223.07\n",
      "converged:                       True   LL-Null:                       -228.51\n",
      "Covariance Type:            nonrobust   LLR p-value:                 0.0009759\n",
      "==============================================================================\n",
      "                 coef    std err          z      P>|z|      [0.025      0.975]\n",
      "------------------------------------------------------------------------------\n",
      "Intercept     -1.7255      0.151    -11.464      0.000      -2.021      -1.431\n",
      "experience     0.8256      0.246      3.352      0.001       0.343       1.308\n",
      "==============================================================================\n",
      "BIC: 458.4572428286068\n",
      "likelihood of adaptation when there is no flood experience =  0.15116279069767435\n",
      "likelihood of adaptation when there is flood experience =  0.28906250000000006\n"
     ]
    }
   ],
   "source": [
    "odds, marg_eff = model('alerts ~ experience', data = df)"
   ]
  },
  {
   "cell_type": "code",
   "execution_count": 116,
   "metadata": {},
   "outputs": [
    {
     "data": {
      "text/html": [
       "<div>\n",
       "<style scoped>\n",
       "    .dataframe tbody tr th:only-of-type {\n",
       "        vertical-align: middle;\n",
       "    }\n",
       "\n",
       "    .dataframe tbody tr th {\n",
       "        vertical-align: top;\n",
       "    }\n",
       "\n",
       "    .dataframe thead th {\n",
       "        text-align: right;\n",
       "    }\n",
       "</style>\n",
       "<table border=\"1\" class=\"dataframe\">\n",
       "  <thead>\n",
       "    <tr style=\"text-align: right;\">\n",
       "      <th></th>\n",
       "      <th>Variable</th>\n",
       "      <th>OR</th>\n",
       "      <th>Lower CI</th>\n",
       "      <th>Upper CI</th>\n",
       "    </tr>\n",
       "  </thead>\n",
       "  <tbody>\n",
       "    <tr>\n",
       "      <th>0</th>\n",
       "      <td>Intercept</td>\n",
       "      <td>0.178082</td>\n",
       "      <td>0.132587</td>\n",
       "      <td>0.239189</td>\n",
       "    </tr>\n",
       "    <tr>\n",
       "      <th>1</th>\n",
       "      <td>experience</td>\n",
       "      <td>2.283178</td>\n",
       "      <td>1.408885</td>\n",
       "      <td>3.700021</td>\n",
       "    </tr>\n",
       "  </tbody>\n",
       "</table>\n",
       "</div>"
      ],
      "text/plain": [
       "     Variable        OR  Lower CI  Upper CI\n",
       "0   Intercept  0.178082  0.132587  0.239189\n",
       "1  experience  2.283178  1.408885  3.700021"
      ]
     },
     "execution_count": 116,
     "metadata": {},
     "output_type": "execute_result"
    }
   ],
   "source": [
    "odds"
   ]
  },
  {
   "cell_type": "code",
   "execution_count": 117,
   "metadata": {},
   "outputs": [
    {
     "data": {
      "text/html": [
       "<table class=\"simpletable\">\n",
       "<caption>Logit Marginal Effects</caption>\n",
       "<tr>\n",
       "  <th>Dep. Variable:</th> <td>alerts</td> \n",
       "</tr>\n",
       "<tr>\n",
       "  <th>Method:</th>         <td>dydx</td>  \n",
       "</tr>\n",
       "<tr>\n",
       "  <th>At:</th>            <td>overall</td>\n",
       "</tr>\n",
       "</table>\n",
       "<table class=\"simpletable\">\n",
       "<tr>\n",
       "       <th></th>         <th>dy/dx</th>    <th>std err</th>      <th>z</th>      <th>P>|z|</th>  <th>[0.025</th>    <th>0.975]</th>  \n",
       "</tr>\n",
       "<tr>\n",
       "  <th>experience</th> <td>    0.1232</td> <td>    0.036</td> <td>    3.434</td> <td> 0.001</td> <td>    0.053</td> <td>    0.194</td>\n",
       "</tr>\n",
       "</table>"
      ],
      "text/latex": [
       "\\begin{center}\n",
       "\\begin{tabular}{lc}\n",
       "\\toprule\n",
       "\\textbf{Dep. Variable:} &     alerts      \\\\\n",
       "\\textbf{Method:}        &      dydx       \\\\\n",
       "\\textbf{At:}            &    overall      \\\\\n",
       "\\bottomrule\n",
       "\\end{tabular}\n",
       "\\begin{tabular}{ccccccc}\n",
       "     \\textbf{}      & \\textbf{dy/dx} & \\textbf{std err} & \\textbf{z} & \\textbf{P$> |$z$|$} & \\textbf{[0.025} & \\textbf{0.975]}  \\\\\n",
       "\\midrule\n",
       "\\bottomrule\n",
       "\\end{tabular}\n",
       "\\begin{tabular}{lcccccc}\n",
       "\\textbf{experience} &       0.1232   &        0.036     &     3.434  &         0.001        &        0.053    &        0.194     \\\\\n",
       "\\bottomrule\n",
       "\\end{tabular}\n",
       "%\\caption{Logit Marginal Effects}\n",
       "\\end{center}"
      ],
      "text/plain": [
       "<class 'statsmodels.iolib.summary.Summary'>\n",
       "\"\"\"\n",
       "        Logit Marginal Effects       \n",
       "=====================================\n",
       "Dep. Variable:                 alerts\n",
       "Method:                          dydx\n",
       "At:                           overall\n",
       "==============================================================================\n",
       "                dy/dx    std err          z      P>|z|      [0.025      0.975]\n",
       "------------------------------------------------------------------------------\n",
       "experience     0.1232      0.036      3.434      0.001       0.053       0.194\n",
       "==============================================================================\n",
       "\"\"\""
      ]
     },
     "execution_count": 117,
     "metadata": {},
     "output_type": "execute_result"
    }
   ],
   "source": [
    "marg_eff"
   ]
  },
  {
   "cell_type": "code",
   "execution_count": 118,
   "metadata": {},
   "outputs": [
    {
     "name": "stdout",
     "output_type": "stream",
     "text": [
      "Optimization terminated successfully.\n",
      "         Current function value: 0.319640\n",
      "         Iterations 6\n",
      "                            Logit Regression Results                            \n",
      "================================================================================\n",
      "Dep. Variable:     family_communication   No. Observations:                  472\n",
      "Model:                            Logit   Df Residuals:                      470\n",
      "Method:                             MLE   Df Model:                            1\n",
      "Date:                  Mon, 07 Apr 2025   Pseudo R-squ.:                 0.02783\n",
      "Time:                          15:54:44   Log-Likelihood:                -150.87\n",
      "converged:                         True   LL-Null:                       -155.19\n",
      "Covariance Type:              nonrobust   LLR p-value:                  0.003292\n",
      "==============================================================================\n",
      "                 coef    std err          z      P>|z|      [0.025      0.975]\n",
      "------------------------------------------------------------------------------\n",
      "Intercept     -2.5040      0.204    -12.276      0.000      -2.904      -2.104\n",
      "experience     0.9316      0.311      2.999      0.003       0.323       1.540\n",
      "==============================================================================\n",
      "BIC: 314.0545104826575\n",
      "likelihood of adaptation when there is no flood experience =  0.07558139534883702\n",
      "likelihood of adaptation when there is flood experience =  0.17187499999999994\n"
     ]
    }
   ],
   "source": [
    "odds, marg_eff = model('family_communication ~ experience', data=df)"
   ]
  },
  {
   "cell_type": "code",
   "execution_count": 119,
   "metadata": {},
   "outputs": [
    {
     "data": {
      "text/html": [
       "<div>\n",
       "<style scoped>\n",
       "    .dataframe tbody tr th:only-of-type {\n",
       "        vertical-align: middle;\n",
       "    }\n",
       "\n",
       "    .dataframe tbody tr th {\n",
       "        vertical-align: top;\n",
       "    }\n",
       "\n",
       "    .dataframe thead th {\n",
       "        text-align: right;\n",
       "    }\n",
       "</style>\n",
       "<table border=\"1\" class=\"dataframe\">\n",
       "  <thead>\n",
       "    <tr style=\"text-align: right;\">\n",
       "      <th></th>\n",
       "      <th>Variable</th>\n",
       "      <th>OR</th>\n",
       "      <th>Lower CI</th>\n",
       "      <th>Upper CI</th>\n",
       "    </tr>\n",
       "  </thead>\n",
       "  <tbody>\n",
       "    <tr>\n",
       "      <th>0</th>\n",
       "      <td>Intercept</td>\n",
       "      <td>0.081761</td>\n",
       "      <td>0.054818</td>\n",
       "      <td>0.121947</td>\n",
       "    </tr>\n",
       "    <tr>\n",
       "      <th>1</th>\n",
       "      <td>experience</td>\n",
       "      <td>2.538462</td>\n",
       "      <td>1.380883</td>\n",
       "      <td>4.666426</td>\n",
       "    </tr>\n",
       "  </tbody>\n",
       "</table>\n",
       "</div>"
      ],
      "text/plain": [
       "     Variable        OR  Lower CI  Upper CI\n",
       "0   Intercept  0.081761  0.054818  0.121947\n",
       "1  experience  2.538462  1.380883  4.666426"
      ]
     },
     "execution_count": 119,
     "metadata": {},
     "output_type": "execute_result"
    }
   ],
   "source": [
    "odds"
   ]
  },
  {
   "cell_type": "code",
   "execution_count": 120,
   "metadata": {},
   "outputs": [
    {
     "data": {
      "text/html": [
       "<table class=\"simpletable\">\n",
       "<caption>Logit Marginal Effects</caption>\n",
       "<tr>\n",
       "  <th>Dep. Variable:</th> <td>family_communication</td>\n",
       "</tr>\n",
       "<tr>\n",
       "  <th>Method:</th>                <td>dydx</td>        \n",
       "</tr>\n",
       "<tr>\n",
       "  <th>At:</th>                   <td>overall</td>      \n",
       "</tr>\n",
       "</table>\n",
       "<table class=\"simpletable\">\n",
       "<tr>\n",
       "       <th></th>         <th>dy/dx</th>    <th>std err</th>      <th>z</th>      <th>P>|z|</th>  <th>[0.025</th>    <th>0.975]</th>  \n",
       "</tr>\n",
       "<tr>\n",
       "  <th>experience</th> <td>    0.0834</td> <td>    0.028</td> <td>    2.942</td> <td> 0.003</td> <td>    0.028</td> <td>    0.139</td>\n",
       "</tr>\n",
       "</table>"
      ],
      "text/latex": [
       "\\begin{center}\n",
       "\\begin{tabular}{lc}\n",
       "\\toprule\n",
       "\\textbf{Dep. Variable:} & family\\_communication  \\\\\n",
       "\\textbf{Method:}        &          dydx          \\\\\n",
       "\\textbf{At:}            &        overall         \\\\\n",
       "\\bottomrule\n",
       "\\end{tabular}\n",
       "\\begin{tabular}{ccccccc}\n",
       "     \\textbf{}      & \\textbf{dy/dx} & \\textbf{std err} & \\textbf{z} & \\textbf{P$> |$z$|$} & \\textbf{[0.025} & \\textbf{0.975]}  \\\\\n",
       "\\midrule\n",
       "\\bottomrule\n",
       "\\end{tabular}\n",
       "\\begin{tabular}{lcccccc}\n",
       "\\textbf{experience} &       0.0834   &        0.028     &     2.942  &         0.003        &        0.028    &        0.139     \\\\\n",
       "\\bottomrule\n",
       "\\end{tabular}\n",
       "%\\caption{Logit Marginal Effects}\n",
       "\\end{center}"
      ],
      "text/plain": [
       "<class 'statsmodels.iolib.summary.Summary'>\n",
       "\"\"\"\n",
       "         Logit Marginal Effects        \n",
       "=======================================\n",
       "Dep. Variable:     family_communication\n",
       "Method:                            dydx\n",
       "At:                             overall\n",
       "==============================================================================\n",
       "                dy/dx    std err          z      P>|z|      [0.025      0.975]\n",
       "------------------------------------------------------------------------------\n",
       "experience     0.0834      0.028      2.942      0.003       0.028       0.139\n",
       "==============================================================================\n",
       "\"\"\""
      ]
     },
     "execution_count": 120,
     "metadata": {},
     "output_type": "execute_result"
    }
   ],
   "source": [
    "marg_eff"
   ]
  }
 ],
 "metadata": {
  "kernelspec": {
   "display_name": "datascience",
   "language": "python",
   "name": "python3"
  },
  "language_info": {
   "codemirror_mode": {
    "name": "ipython",
    "version": 3
   },
   "file_extension": ".py",
   "mimetype": "text/x-python",
   "name": "python",
   "nbconvert_exporter": "python",
   "pygments_lexer": "ipython3",
   "version": "3.11.5"
  }
 },
 "nbformat": 4,
 "nbformat_minor": 2
}
