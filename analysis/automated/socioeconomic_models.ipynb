{
 "cells": [
  {
   "cell_type": "code",
   "execution_count": 1,
   "metadata": {},
   "outputs": [],
   "source": [
    "# analytics\n",
    "import pandas as pd \n",
    "import numpy as np\n",
    "import scipy.stats as stats\n",
    "import statsmodels.formula.api as smf\n",
    "#spatial \n",
    "import osmnx as ox\n",
    "import geopandas as gpd\n",
    "import contextily as cx\n",
    "# plotting \n",
    "import seaborn as sns\n",
    "import matplotlib.pyplot as plt\n",
    "from matplotlib.colors import LinearSegmentedColormap\n",
    "#settings\n",
    "import warnings"
   ]
  },
  {
   "cell_type": "code",
   "execution_count": 2,
   "metadata": {},
   "outputs": [
    {
     "data": {
      "text/plain": [
       "Index(['id', 'state', 'zipcode', 'geographic_division', 'census_region',\n",
       "       'county', 'experience', 'supplies', 'insured', 'involved',\n",
       "       'learned_routes', 'made_plan', 'made_safer', 'planned_neighbors',\n",
       "       'practiced_drills', 'documents', 'rainy_day', 'alerts',\n",
       "       'family_communication', 'none', 'dont_know', 'age', 'sex', 'education',\n",
       "       'race', 'homeownership', 'income', 'rentmortgage', 'rurality',\n",
       "       'hazard_weight', 'geometry', 'zip_count'],\n",
       "      dtype='object')"
      ]
     },
     "execution_count": 2,
     "metadata": {},
     "output_type": "execute_result"
    }
   ],
   "source": [
    "# import data\n",
    "path = '/Users/philip/Documents/ESE/ESE_thesis/flood_experience/data/export/clean_n.csv'\n",
    "df_n = pd.read_csv(path)\n",
    "df_n.columns"
   ]
  },
  {
   "cell_type": "code",
   "execution_count": 3,
   "metadata": {},
   "outputs": [
    {
     "data": {
      "text/plain": [
       "Index(['id', 'state', 'zipcode', 'geographic_division', 'census_region',\n",
       "       'county', 'awareness', 'perception', 'experience', 'floodzone',\n",
       "       'efficacy', 'supplies', 'insured', 'involved', 'learned_routes',\n",
       "       'made_plan', 'made_safer', 'planned_neighbors', 'practiced_drills',\n",
       "       'documents', 'rainy_day', 'alerts', 'family_communication', 'none',\n",
       "       'dont_know', 'age', 'sex', 'education', 'race', 'homeownership',\n",
       "       'income', 'rentmortgage', 'rurality', 'hazard_weight', 'geometry',\n",
       "       'zip_count'],\n",
       "      dtype='object')"
      ]
     },
     "execution_count": 3,
     "metadata": {},
     "output_type": "execute_result"
    }
   ],
   "source": [
    "path = '/Users/philip/Documents/ESE/ESE_thesis/flood_experience/data/export/clean_k.csv'\n",
    "df_k = pd.read_csv(path)\n",
    "df_k.columns"
   ]
  },
  {
   "cell_type": "markdown",
   "metadata": {},
   "source": [
    "#### We will go through these outcome variables one by one\n",
    "\n",
    "structural adaptation: \n",
    "- made_safer\n",
    "\n",
    "non-structural adaptation: \n",
    "- insurance\n",
    "- learned_routes\n",
    "- supplies\n",
    "- involved\n",
    "- made_plan\n",
    "- practiced_drills\n",
    "- alerts\n",
    "- family_communication"
   ]
  },
  {
   "cell_type": "code",
   "execution_count": 4,
   "metadata": {},
   "outputs": [],
   "source": [
    "def probit(functions, data):\n",
    "    results_list = []\n",
    "    for func in functions:\n",
    "        model = smf.probit(formula=func, data=data).fit(disp=0)\n",
    "\n",
    "        df_model = pd.DataFrame({\n",
    "            'effect': model.params,               \n",
    "            'p': model.pvalues,                   \n",
    "            'pseudoR_2': model.prsquared,\n",
    "            'LLPr': model.llr_pvalue,\n",
    "            'BIC': model.bic  \n",
    "        })\n",
    "        df_model.index = pd.MultiIndex.from_product([[func], df_model.index], names=['function', 'beta'])\n",
    "        results_list.append(df_model)\n",
    "    results = pd.concat(results_list)\n",
    "    return results\n"
   ]
  },
  {
   "cell_type": "code",
   "execution_count": 5,
   "metadata": {},
   "outputs": [],
   "source": [
    "#duplicate but with logit\n",
    "def logit(functions, data):\n",
    "    results_list = []\n",
    "    for func in functions:\n",
    "        model = smf.logit(formula=func, data=data).fit(disp=0)\n",
    "        marg_effects = model.get_margeff().summary_frame()\n",
    "\n",
    "        df_model = pd.DataFrame({\n",
    "            'effect': model.params,               \n",
    "            'p': model.pvalues,                   \n",
    "            'marginal_effect': marg_effects['dy/dx'],\n",
    "            'pseudoR_2': model.prsquared,\n",
    "            'LLPr': model.llr_pvalue,\n",
    "            'BIC': model.bic  \n",
    "        })\n",
    "        df_model.index = pd.MultiIndex.from_product([[func], df_model.index], names=['function', 'beta'])\n",
    "        results_list.append(df_model)\n",
    "    results = pd.concat(results_list)\n",
    "    return results"
   ]
  },
  {
   "cell_type": "code",
   "execution_count": 6,
   "metadata": {},
   "outputs": [],
   "source": [
    "\n",
    "functions = [\n",
    "    'made_safer ~ age + income + education + homeownership',\n",
    "    'insured ~ age + income + education + homeownership',\n",
    "    'learned_routes ~ age + income + education + homeownership',\n",
    "    'supplies ~ age + income + education + homeownership',\n",
    "    'involved ~ age + income + education + homeownership',\n",
    "    'made_plan ~ age + income + education + homeownership',\n",
    "    'practiced_drills ~ age + income + education + homeownership',\n",
    "    'alerts ~ age + income + education + homeownership',\n",
    "    'family_communication ~ age + income + education + homeownership'    \n",
    "]"
   ]
  },
  {
   "cell_type": "code",
   "execution_count": 7,
   "metadata": {},
   "outputs": [],
   "source": [
    "results = probit(functions=functions, data=df_n)\n",
    "results.to_excel('probit_socioeconomic.xlsx')"
   ]
  },
  {
   "cell_type": "code",
   "execution_count": 8,
   "metadata": {},
   "outputs": [],
   "source": [
    "results = logit(functions=functions, data=df_n)\n",
    "results.to_excel('logit_socioeconomic.xlsx')"
   ]
  }
 ],
 "metadata": {
  "kernelspec": {
   "display_name": "datascience",
   "language": "python",
   "name": "python3"
  },
  "language_info": {
   "codemirror_mode": {
    "name": "ipython",
    "version": 3
   },
   "file_extension": ".py",
   "mimetype": "text/x-python",
   "name": "python",
   "nbconvert_exporter": "python",
   "pygments_lexer": "ipython3",
   "version": "3.11.5"
  }
 },
 "nbformat": 4,
 "nbformat_minor": 2
}
