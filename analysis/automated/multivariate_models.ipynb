{
 "cells": [
  {
   "cell_type": "code",
   "execution_count": 1,
   "metadata": {},
   "outputs": [],
   "source": [
    "# analytics\n",
    "import pandas as pd \n",
    "import numpy as np\n",
    "import scipy.stats as stats\n",
    "import statsmodels.formula.api as smf\n",
    "#spatial \n",
    "import osmnx as ox\n",
    "import geopandas as gpd\n",
    "import contextily as cx\n",
    "# plotting \n",
    "import seaborn as sns\n",
    "import matplotlib.pyplot as plt\n",
    "from matplotlib.colors import LinearSegmentedColormap\n",
    "#settings\n",
    "import warnings\n",
    "\n",
    "# set dataframe outputs to three digits \n",
    "pd.set_option(\"display.precision\", 3)\n",
    "#suppress warnings\n",
    "warnings.filterwarnings('ignore')"
   ]
  },
  {
   "cell_type": "markdown",
   "metadata": {},
   "source": [
    "## Functions"
   ]
  },
  {
   "cell_type": "code",
   "execution_count": 2,
   "metadata": {},
   "outputs": [
    {
     "data": {
      "text/plain": [
       "Index(['id', 'state', 'zipcode', 'geographic_division', 'census_region',\n",
       "       'county', 'awareness', 'perception', 'experience', 'floodzone',\n",
       "       'efficacy', 'supplies', 'insured', 'involved', 'learned_routes',\n",
       "       'made_plan', 'made_safer', 'planned_neighbors', 'practiced_drills',\n",
       "       'documents', 'rainy_day', 'alerts', 'family_communication', 'none',\n",
       "       'dont_know', 'age', 'sex', 'education', 'race', 'homeownership',\n",
       "       'income', 'rentmortgage', 'rurality', 'hazard_weight', 'geometry',\n",
       "       'zip_count'],\n",
       "      dtype='object')"
      ]
     },
     "execution_count": 2,
     "metadata": {},
     "output_type": "execute_result"
    }
   ],
   "source": [
    "# import data\n",
    "path = '/Users/philip/Documents/ESE/ESE_thesis/flood_experience/data/export/clean_k.csv'\n",
    "df_k = pd.read_csv(path)\n",
    "df_k.columns"
   ]
  },
  {
   "cell_type": "code",
   "execution_count": 3,
   "metadata": {},
   "outputs": [],
   "source": [
    "def r_square(model):\n",
    "    # McKelvay-Zaviona\n",
    "    xb = model.predict(linear=True) #fitted latent value\n",
    "    var_xb = np.var(xb,ddof=1) # variance of xb\n",
    "    r2_mz = var_xb / (var_xb + 1) # McKelvay-Zavoina R_2\n",
    "    # McFaden\n",
    "    r2_mf = model.prsquared\n",
    "    return r2_mz"
   ]
  },
  {
   "cell_type": "code",
   "execution_count": 4,
   "metadata": {},
   "outputs": [],
   "source": [
    "def probit(functions, data):\n",
    "    results_list = []\n",
    "    for func in functions:\n",
    "        model = smf.probit(formula=func, data=data).fit(disp=0)\n",
    "        df_model = pd.DataFrame({\n",
    "            'effect': model.params,               \n",
    "            'p': model.pvalues,    \n",
    "            'pseudoR_2': r_square(model),\n",
    "            'LLPr': model.llr_pvalue,\n",
    "            'BIC': model.bic  \n",
    "        })\n",
    "        df_marginal = model.get_margeff().summary_frame()\n",
    "        df_model = pd.concat([df_model, df_marginal], axis =1)\n",
    "\n",
    "        df_model.index = pd.MultiIndex.from_product([[func], df_model.index], names=['function', 'beta'])\n",
    "        results_list.append(df_model)\n",
    "    results = pd.concat(results_list)\n",
    "    return results"
   ]
  },
  {
   "cell_type": "code",
   "execution_count": 5,
   "metadata": {},
   "outputs": [],
   "source": [
    "#duplicate but with logit\n",
    "def logit(functions, data):\n",
    "    results_list = []\n",
    "    for func in functions:\n",
    "        model = smf.logit(formula=func, data=data).fit(disp=0)\n",
    "        marg_effects = model.get_margeff().summary_frame()\n",
    "\n",
    "        df_model = pd.DataFrame({\n",
    "            'effect': model.params,               \n",
    "            'p': model.pvalues,                   \n",
    "            'marginal_effect': marg_effects['dy/dx'],\n",
    "            'pseudoR_2': model.prsquared,\n",
    "            'LLPr': model.llr_pvalue,\n",
    "            'BIC': model.bic  \n",
    "        })\n",
    "        df_model.index = pd.MultiIndex.from_product([[func], df_model.index], names=['function', 'beta'])\n",
    "        results_list.append(df_model)\n",
    "    results = pd.concat(results_list)\n",
    "    return results"
   ]
  },
  {
   "cell_type": "markdown",
   "metadata": {},
   "source": [
    "## What is the combined effect of experience, awareness, and flood zone on preapredness?"
   ]
  },
  {
   "cell_type": "code",
   "execution_count": 6,
   "metadata": {},
   "outputs": [],
   "source": [
    "functions = [\n",
    "    'made_safer ~ experience + awareness + floodzone',\n",
    "    'documents ~ experience + awareness + floodzone',\n",
    "    'insured ~ experience + awareness + floodzone',\n",
    "    'learned_routes ~ experience + awareness + floodzone',\n",
    "    'supplies ~ experience + awareness + floodzone',\n",
    "    'involved ~ experience + awareness + floodzone',\n",
    "    'made_plan ~ experience + awareness + floodzone',\n",
    "    'practiced_drills ~ experience + awareness + floodzone',\n",
    "    'alerts ~ experience + awareness + floodzone',\n",
    "    'family_communication ~ experience + awareness + floodzone'\n",
    "]"
   ]
  },
  {
   "cell_type": "code",
   "execution_count": 7,
   "metadata": {},
   "outputs": [],
   "source": [
    "results = probit(functions=functions, data=df_k)\n",
    "results = results.round(3) # set to three decimal places \n",
    "results.to_excel('results/Probit_DeterminantsOfRiskPerception.xlsx')"
   ]
  },
  {
   "cell_type": "code",
   "execution_count": 8,
   "metadata": {},
   "outputs": [],
   "source": [
    "results = logit(functions=functions, data=df_k)\n",
    "results = results.round(3) # set to three decimal places \n",
    "results.to_excel('results/Logit_DeterminantsOfRiskPerception.xlsx')"
   ]
  },
  {
   "cell_type": "markdown",
   "metadata": {},
   "source": [
    "## Checking for multicollinearity \n",
    "&\n",
    "## Prediction risk perception "
   ]
  },
  {
   "cell_type": "code",
   "execution_count": null,
   "metadata": {},
   "outputs": [],
   "source": [
    "functions = [\n",
    "    'awareness ~ experience + floodzone',\n",
    "    'experience ~ awareness + floodzone',\n",
    "    'floodzone ~ awareness + experience',\n",
    "    'perception ~ awareness + experience + floodzone'\n",
    "]"
   ]
  },
  {
   "cell_type": "code",
   "execution_count": 10,
   "metadata": {},
   "outputs": [],
   "source": [
    "results = probit(functions=functions, data=df_k)\n",
    "results = results.round(3) # set to three decimal places \n",
    "results.to_excel('results/probit_robustnesscheck.xlsx')"
   ]
  },
  {
   "cell_type": "code",
   "execution_count": 11,
   "metadata": {},
   "outputs": [],
   "source": [
    "results = logit(functions=functions, data=df_k)\n",
    "reults = results.round(3)\n",
    "results.to_excel('results/logit_robustnesscheck.xlsx')"
   ]
  },
  {
   "cell_type": "markdown",
   "metadata": {},
   "source": [
    "## Check if perception predicts awareness?"
   ]
  },
  {
   "cell_type": "code",
   "execution_count": null,
   "metadata": {},
   "outputs": [
    {
     "data": {
      "text/html": [
       "<div>\n",
       "<style scoped>\n",
       "    .dataframe tbody tr th:only-of-type {\n",
       "        vertical-align: middle;\n",
       "    }\n",
       "\n",
       "    .dataframe tbody tr th {\n",
       "        vertical-align: top;\n",
       "    }\n",
       "\n",
       "    .dataframe thead th {\n",
       "        text-align: right;\n",
       "    }\n",
       "</style>\n",
       "<table border=\"1\" class=\"dataframe\">\n",
       "  <thead>\n",
       "    <tr style=\"text-align: right;\">\n",
       "      <th></th>\n",
       "      <th></th>\n",
       "      <th>effect</th>\n",
       "      <th>p</th>\n",
       "      <th>pseudoR_2</th>\n",
       "      <th>LLPr</th>\n",
       "      <th>BIC</th>\n",
       "      <th>dy/dx</th>\n",
       "      <th>Std. Err.</th>\n",
       "      <th>z</th>\n",
       "      <th>Pr(&gt;|z|)</th>\n",
       "      <th>Conf. Int. Low</th>\n",
       "      <th>Cont. Int. Hi.</th>\n",
       "    </tr>\n",
       "    <tr>\n",
       "      <th>function</th>\n",
       "      <th>beta</th>\n",
       "      <th></th>\n",
       "      <th></th>\n",
       "      <th></th>\n",
       "      <th></th>\n",
       "      <th></th>\n",
       "      <th></th>\n",
       "      <th></th>\n",
       "      <th></th>\n",
       "      <th></th>\n",
       "      <th></th>\n",
       "      <th></th>\n",
       "    </tr>\n",
       "  </thead>\n",
       "  <tbody>\n",
       "    <tr>\n",
       "      <th rowspan=\"2\" valign=\"top\">awareness ~ perception</th>\n",
       "      <th>Intercept</th>\n",
       "      <td>-0.447</td>\n",
       "      <td>0.0</td>\n",
       "      <td>0.111</td>\n",
       "      <td>0.0</td>\n",
       "      <td>515.788</td>\n",
       "      <td>NaN</td>\n",
       "      <td>NaN</td>\n",
       "      <td>NaN</td>\n",
       "      <td>NaN</td>\n",
       "      <td>NaN</td>\n",
       "      <td>NaN</td>\n",
       "    </tr>\n",
       "    <tr>\n",
       "      <th>perception</th>\n",
       "      <td>0.710</td>\n",
       "      <td>0.0</td>\n",
       "      <td>0.111</td>\n",
       "      <td>0.0</td>\n",
       "      <td>515.788</td>\n",
       "      <td>0.266</td>\n",
       "      <td>0.043</td>\n",
       "      <td>6.121</td>\n",
       "      <td>0.0</td>\n",
       "      <td>0.181</td>\n",
       "      <td>0.351</td>\n",
       "    </tr>\n",
       "  </tbody>\n",
       "</table>\n",
       "</div>"
      ],
      "text/plain": [
       "                                   effect    p  pseudoR_2  LLPr      BIC  \\\n",
       "function               beta                                                \n",
       "awareness ~ perception Intercept   -0.447  0.0      0.111   0.0  515.788   \n",
       "                       perception   0.710  0.0      0.111   0.0  515.788   \n",
       "\n",
       "                                   dy/dx  Std. Err.      z  Pr(>|z|)  \\\n",
       "function               beta                                            \n",
       "awareness ~ perception Intercept     NaN        NaN    NaN       NaN   \n",
       "                       perception  0.266      0.043  6.121       0.0   \n",
       "\n",
       "                                   Conf. Int. Low  Cont. Int. Hi.  \n",
       "function               beta                                        \n",
       "awareness ~ perception Intercept              NaN             NaN  \n",
       "                       perception           0.181           0.351  "
      ]
     },
     "execution_count": 17,
     "metadata": {},
     "output_type": "execute_result"
    }
   ],
   "source": [
    "probit(functions = ['awareness ~ perception'], data=df_k).round(3)"
   ]
  },
  {
   "cell_type": "code",
   "execution_count": 20,
   "metadata": {},
   "outputs": [
    {
     "data": {
      "text/html": [
       "<div>\n",
       "<style scoped>\n",
       "    .dataframe tbody tr th:only-of-type {\n",
       "        vertical-align: middle;\n",
       "    }\n",
       "\n",
       "    .dataframe tbody tr th {\n",
       "        vertical-align: top;\n",
       "    }\n",
       "\n",
       "    .dataframe thead th {\n",
       "        text-align: right;\n",
       "    }\n",
       "</style>\n",
       "<table border=\"1\" class=\"dataframe\">\n",
       "  <thead>\n",
       "    <tr style=\"text-align: right;\">\n",
       "      <th></th>\n",
       "      <th></th>\n",
       "      <th>effect</th>\n",
       "      <th>p</th>\n",
       "      <th>marginal_effect</th>\n",
       "      <th>pseudoR_2</th>\n",
       "      <th>LLPr</th>\n",
       "      <th>BIC</th>\n",
       "    </tr>\n",
       "    <tr>\n",
       "      <th>function</th>\n",
       "      <th>beta</th>\n",
       "      <th></th>\n",
       "      <th></th>\n",
       "      <th></th>\n",
       "      <th></th>\n",
       "      <th></th>\n",
       "      <th></th>\n",
       "    </tr>\n",
       "  </thead>\n",
       "  <tbody>\n",
       "    <tr>\n",
       "      <th rowspan=\"2\" valign=\"top\">awareness ~ perception</th>\n",
       "      <th>Intercept</th>\n",
       "      <td>-0.720</td>\n",
       "      <td>0.0</td>\n",
       "      <td>NaN</td>\n",
       "      <td>0.055</td>\n",
       "      <td>0.0</td>\n",
       "      <td>515.788</td>\n",
       "    </tr>\n",
       "    <tr>\n",
       "      <th>perception</th>\n",
       "      <td>1.141</td>\n",
       "      <td>0.0</td>\n",
       "      <td>0.263</td>\n",
       "      <td>0.055</td>\n",
       "      <td>0.0</td>\n",
       "      <td>515.788</td>\n",
       "    </tr>\n",
       "  </tbody>\n",
       "</table>\n",
       "</div>"
      ],
      "text/plain": [
       "                                   effect    p  marginal_effect  pseudoR_2  \\\n",
       "function               beta                                                  \n",
       "awareness ~ perception Intercept   -0.720  0.0              NaN      0.055   \n",
       "                       perception   1.141  0.0            0.263      0.055   \n",
       "\n",
       "                                   LLPr      BIC  \n",
       "function               beta                       \n",
       "awareness ~ perception Intercept    0.0  515.788  \n",
       "                       perception   0.0  515.788  "
      ]
     },
     "execution_count": 20,
     "metadata": {},
     "output_type": "execute_result"
    }
   ],
   "source": [
    "logit(functions = ['awareness ~ perception'], data=df_k).round(3)"
   ]
  }
 ],
 "metadata": {
  "kernelspec": {
   "display_name": "datascience",
   "language": "python",
   "name": "python3"
  },
  "language_info": {
   "codemirror_mode": {
    "name": "ipython",
    "version": 3
   },
   "file_extension": ".py",
   "mimetype": "text/x-python",
   "name": "python",
   "nbconvert_exporter": "python",
   "pygments_lexer": "ipython3",
   "version": "3.11.5"
  }
 },
 "nbformat": 4,
 "nbformat_minor": 2
}
