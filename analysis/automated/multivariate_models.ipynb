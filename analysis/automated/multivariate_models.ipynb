{
 "cells": [
  {
   "cell_type": "code",
   "execution_count": 1,
   "metadata": {},
   "outputs": [],
   "source": [
    "# analytics\n",
    "import pandas as pd \n",
    "import numpy as np\n",
    "import scipy.stats as stats\n",
    "import statsmodels.formula.api as smf\n",
    "#spatial \n",
    "import osmnx as ox\n",
    "import geopandas as gpd\n",
    "import contextily as cx\n",
    "# plotting \n",
    "import seaborn as sns\n",
    "import matplotlib.pyplot as plt\n",
    "from matplotlib.colors import LinearSegmentedColormap\n",
    "#settings\n",
    "import warnings\n",
    "\n",
    "# set dataframe outputs to three digits \n",
    "pd.set_option(\"display.precision\", 3)\n",
    "#suppress warnings\n",
    "warnings.filterwarnings('ignore')"
   ]
  },
  {
   "cell_type": "markdown",
   "metadata": {},
   "source": [
    "## Functions"
   ]
  },
  {
   "cell_type": "code",
   "execution_count": 2,
   "metadata": {},
   "outputs": [
    {
     "data": {
      "text/plain": [
       "Index(['id', 'state', 'zipcode', 'geographic_division', 'census_region',\n",
       "       'county', 'awareness', 'perception', 'experience', 'floodzone',\n",
       "       'efficacy', 'supplies', 'insured', 'involved', 'learned_routes',\n",
       "       'made_plan', 'made_safer', 'planned_neighbors', 'practiced_drills',\n",
       "       'documents', 'rainy_day', 'alerts', 'family_communication', 'none',\n",
       "       'dont_know', 'age', 'sex', 'education', 'race', 'homeownership',\n",
       "       'income', 'rentmortgage', 'rurality', 'hazard_weight', 'geometry',\n",
       "       'zip_count'],\n",
       "      dtype='object')"
      ]
     },
     "execution_count": 2,
     "metadata": {},
     "output_type": "execute_result"
    }
   ],
   "source": [
    "# import data\n",
    "path = '/Users/philip/Documents/ESE/ESE_thesis/flood_experience/data/export/clean_k.csv'\n",
    "df_k = pd.read_csv(path)\n",
    "df_k.columns"
   ]
  },
  {
   "cell_type": "code",
   "execution_count": 3,
   "metadata": {},
   "outputs": [],
   "source": [
    "def r_square(model):\n",
    "    # McKelvay-Zaviona\n",
    "    xb = model.predict(linear=True) #fitted latent value\n",
    "    var_xb = np.var(xb,ddof=1) # variance of xb\n",
    "    r2_mz = var_xb / (var_xb + 1) # McKelvay-Zavoina R_2\n",
    "    # McFaden\n",
    "    r2_mf = model.prsquared\n",
    "    return r2_mz"
   ]
  },
  {
   "cell_type": "code",
   "execution_count": 4,
   "metadata": {},
   "outputs": [],
   "source": [
    "def probit(functions, data):\n",
    "    results_list = []\n",
    "    for func in functions:\n",
    "        model = smf.probit(formula=func, data=data).fit(disp=0)\n",
    "        df_model = pd.DataFrame({\n",
    "            'effect': model.params,               \n",
    "            'p': model.pvalues,    \n",
    "            'pseudoR_2': r_square(model),\n",
    "            'LLPr': model.llr_pvalue,\n",
    "            'BIC': model.bic  \n",
    "        })\n",
    "        df_marginal = model.get_margeff().summary_frame()\n",
    "        df_model = pd.concat([df_model, df_marginal], axis =1)\n",
    "\n",
    "        df_model.index = pd.MultiIndex.from_product([[func], df_model.index], names=['function', 'beta'])\n",
    "        results_list.append(df_model)\n",
    "    results = pd.concat(results_list)\n",
    "    return results"
   ]
  },
  {
   "cell_type": "code",
   "execution_count": 5,
   "metadata": {},
   "outputs": [],
   "source": [
    "#duplicate but with logit\n",
    "def logit(functions, data):\n",
    "    results_list = []\n",
    "    for func in functions:\n",
    "        model = smf.logit(formula=func, data=data).fit(disp=0)\n",
    "        marg_effects = model.get_margeff().summary_frame()\n",
    "\n",
    "        df_model = pd.DataFrame({\n",
    "            'effect': model.params,               \n",
    "            'p': model.pvalues,                   \n",
    "            'marginal_effect': marg_effects['dy/dx'],\n",
    "            'pseudoR_2': model.prsquared,\n",
    "            'LLPr': model.llr_pvalue,\n",
    "            'BIC': model.bic  \n",
    "        })\n",
    "        df_model.index = pd.MultiIndex.from_product([[func], df_model.index], names=['function', 'beta'])\n",
    "        results_list.append(df_model)\n",
    "    results = pd.concat(results_list)\n",
    "    return results"
   ]
  },
  {
   "cell_type": "markdown",
   "metadata": {},
   "source": [
    "## What is the combined effect of experience, awareness, and flood zone on preapredness?"
   ]
  },
  {
   "cell_type": "code",
   "execution_count": 9,
   "metadata": {},
   "outputs": [],
   "source": [
    "functions = [\n",
    "    'made_safer ~ experience + awareness + floodzone',\n",
    "    'documents ~ experience + awareness + floodzone',\n",
    "    'insured ~ experience + awareness + floodzone',\n",
    "    'learned_routes ~ experience + awareness + floodzone',\n",
    "    'supplies ~ experience + awareness + floodzone',\n",
    "    'involved ~ experience + awareness + floodzone',\n",
    "    'made_plan ~ experience + awareness + floodzone',\n",
    "    'practiced_drills ~ experience + awareness + floodzone',\n",
    "    'alerts ~ experience + awareness + floodzone',\n",
    "    'family_communication ~ experience + awareness + floodzone'\n",
    "]"
   ]
  },
  {
   "cell_type": "code",
   "execution_count": 7,
   "metadata": {},
   "outputs": [],
   "source": [
    "results = probit(functions=functions, data=df_k)\n",
    "results = results.round(3) # set to three decimal places \n",
    "results.to_excel('results/Probit_DeterminantsOfRiskPerception.xlsx')"
   ]
  },
  {
   "cell_type": "code",
   "execution_count": 8,
   "metadata": {},
   "outputs": [],
   "source": [
    "results = logit(functions=functions, data=df_k)\n",
    "results = results.round(3) # set to three decimal places \n",
    "results.to_excel('results/Logit_DeterminantsOfRiskPerception.xlsx')"
   ]
  },
  {
   "cell_type": "markdown",
   "metadata": {},
   "source": [
    "## Checking for multicollinearity \n",
    "&\n",
    "## Prediction risk perception "
   ]
  },
  {
   "cell_type": "code",
   "execution_count": 20,
   "metadata": {},
   "outputs": [],
   "source": [
    "functions = [\n",
    "    'awareness ~ experience + floodzone',\n",
    "    'experience ~ awareness + floodzone',\n",
    "    'floodzone ~ awareness + experience',\n",
    "    'perception ~ awareness + experience + floodzone'\n",
    "]"
   ]
  },
  {
   "cell_type": "code",
   "execution_count": 24,
   "metadata": {},
   "outputs": [],
   "source": [
    "results = probit(functions=functions, data=df_k)\n",
    "results = results.round(3) # set to three decimal places \n",
    "results.to_excel('results/probit_robustnesscheck.xlsx')"
   ]
  },
  {
   "cell_type": "code",
   "execution_count": 25,
   "metadata": {},
   "outputs": [],
   "source": [
    "results = logit(functions=functions, data=df_k)\n",
    "reults = results.round(3)\n",
    "results.to_excel('results/logit_robustnesscheck.xlsx')"
   ]
  }
 ],
 "metadata": {
  "kernelspec": {
   "display_name": "datascience",
   "language": "python",
   "name": "python3"
  },
  "language_info": {
   "codemirror_mode": {
    "name": "ipython",
    "version": 3
   },
   "file_extension": ".py",
   "mimetype": "text/x-python",
   "name": "python",
   "nbconvert_exporter": "python",
   "pygments_lexer": "ipython3",
   "version": "3.11.5"
  }
 },
 "nbformat": 4,
 "nbformat_minor": 2
}
