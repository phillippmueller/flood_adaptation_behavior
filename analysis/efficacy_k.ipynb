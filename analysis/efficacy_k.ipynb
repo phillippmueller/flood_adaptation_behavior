{
 "cells": [
  {
   "cell_type": "markdown",
   "metadata": {},
   "source": [
    "## Hypothesis: Perceived efficacy has a positive effect on preparedness"
   ]
  },
  {
   "cell_type": "code",
   "execution_count": 1,
   "metadata": {},
   "outputs": [],
   "source": [
    "# analytics\n",
    "import pandas as pd \n",
    "import numpy as np\n",
    "import scipy.stats as stats\n",
    "import statsmodels.formula.api as smf\n",
    "#spatial \n",
    "import osmnx as ox\n",
    "import geopandas as gpd\n",
    "import contextily as cx\n",
    "# plotting \n",
    "import seaborn as sns\n",
    "import matplotlib.pyplot as plt\n",
    "from matplotlib.colors import LinearSegmentedColormap\n",
    "#settings\n",
    "import warnings"
   ]
  },
  {
   "cell_type": "code",
   "execution_count": 2,
   "metadata": {},
   "outputs": [
    {
     "data": {
      "text/html": [
       "<div>\n",
       "<style scoped>\n",
       "    .dataframe tbody tr th:only-of-type {\n",
       "        vertical-align: middle;\n",
       "    }\n",
       "\n",
       "    .dataframe tbody tr th {\n",
       "        vertical-align: top;\n",
       "    }\n",
       "\n",
       "    .dataframe thead th {\n",
       "        text-align: right;\n",
       "    }\n",
       "</style>\n",
       "<table border=\"1\" class=\"dataframe\">\n",
       "  <thead>\n",
       "    <tr style=\"text-align: right;\">\n",
       "      <th></th>\n",
       "      <th>id</th>\n",
       "      <th>state</th>\n",
       "      <th>zipcode</th>\n",
       "      <th>geographic_division</th>\n",
       "      <th>census_region</th>\n",
       "      <th>county</th>\n",
       "      <th>awareness</th>\n",
       "      <th>perception</th>\n",
       "      <th>experience</th>\n",
       "      <th>floodzone</th>\n",
       "      <th>...</th>\n",
       "      <th>sex</th>\n",
       "      <th>education</th>\n",
       "      <th>race</th>\n",
       "      <th>homeownership</th>\n",
       "      <th>income</th>\n",
       "      <th>rentmortgage</th>\n",
       "      <th>rurality</th>\n",
       "      <th>hazard_weight</th>\n",
       "      <th>geometry</th>\n",
       "      <th>zip_count</th>\n",
       "    </tr>\n",
       "  </thead>\n",
       "  <tbody>\n",
       "    <tr>\n",
       "      <th>0</th>\n",
       "      <td>1</td>\n",
       "      <td>Washington</td>\n",
       "      <td>98033</td>\n",
       "      <td>Pacific</td>\n",
       "      <td>West</td>\n",
       "      <td>King</td>\n",
       "      <td>0.0</td>\n",
       "      <td>1.0</td>\n",
       "      <td>0.0</td>\n",
       "      <td>0.0</td>\n",
       "      <td>...</td>\n",
       "      <td>0.0</td>\n",
       "      <td>4</td>\n",
       "      <td>White</td>\n",
       "      <td>1</td>\n",
       "      <td>87500</td>\n",
       "      <td>1250.0</td>\n",
       "      <td>1</td>\n",
       "      <td>0.255097</td>\n",
       "      <td>POLYGON ((-13608075.601186747 6055357.24645823...</td>\n",
       "      <td>1</td>\n",
       "    </tr>\n",
       "    <tr>\n",
       "      <th>1</th>\n",
       "      <td>2</td>\n",
       "      <td>Florida</td>\n",
       "      <td>33950</td>\n",
       "      <td>South Atlantic</td>\n",
       "      <td>South</td>\n",
       "      <td>Charlotte</td>\n",
       "      <td>1.0</td>\n",
       "      <td>1.0</td>\n",
       "      <td>1.0</td>\n",
       "      <td>1.0</td>\n",
       "      <td>...</td>\n",
       "      <td>1.0</td>\n",
       "      <td>5</td>\n",
       "      <td>White</td>\n",
       "      <td>1</td>\n",
       "      <td>175000</td>\n",
       "      <td>3000.0</td>\n",
       "      <td>1</td>\n",
       "      <td>2.836145</td>\n",
       "      <td>POLYGON ((-9139287.781401768 3112400.961508024...</td>\n",
       "      <td>1</td>\n",
       "    </tr>\n",
       "    <tr>\n",
       "      <th>2</th>\n",
       "      <td>3</td>\n",
       "      <td>New Jersey</td>\n",
       "      <td>7031</td>\n",
       "      <td>Middle Atlantic</td>\n",
       "      <td>Northeast</td>\n",
       "      <td>Bergen</td>\n",
       "      <td>0.0</td>\n",
       "      <td>1.0</td>\n",
       "      <td>1.0</td>\n",
       "      <td>0.0</td>\n",
       "      <td>...</td>\n",
       "      <td>1.0</td>\n",
       "      <td>1</td>\n",
       "      <td>White</td>\n",
       "      <td>0</td>\n",
       "      <td>47500</td>\n",
       "      <td>1250.0</td>\n",
       "      <td>1</td>\n",
       "      <td>1.165971</td>\n",
       "      <td>POLYGON ((-8254065.171859486 4980899.960122439...</td>\n",
       "      <td>1</td>\n",
       "    </tr>\n",
       "    <tr>\n",
       "      <th>3</th>\n",
       "      <td>5</td>\n",
       "      <td>Pennsylvania</td>\n",
       "      <td>19148</td>\n",
       "      <td>Middle Atlantic</td>\n",
       "      <td>Northeast</td>\n",
       "      <td>Philadelphia</td>\n",
       "      <td>0.0</td>\n",
       "      <td>1.0</td>\n",
       "      <td>1.0</td>\n",
       "      <td>0.0</td>\n",
       "      <td>...</td>\n",
       "      <td>0.0</td>\n",
       "      <td>4</td>\n",
       "      <td>White</td>\n",
       "      <td>1</td>\n",
       "      <td>125000</td>\n",
       "      <td>1250.0</td>\n",
       "      <td>1</td>\n",
       "      <td>0.624890</td>\n",
       "      <td>POLYGON ((-8368433.592186097 4851218.465580212...</td>\n",
       "      <td>1</td>\n",
       "    </tr>\n",
       "    <tr>\n",
       "      <th>4</th>\n",
       "      <td>8</td>\n",
       "      <td>New York</td>\n",
       "      <td>11691</td>\n",
       "      <td>Middle Atlantic</td>\n",
       "      <td>Northeast</td>\n",
       "      <td>Queens</td>\n",
       "      <td>1.0</td>\n",
       "      <td>1.0</td>\n",
       "      <td>1.0</td>\n",
       "      <td>1.0</td>\n",
       "      <td>...</td>\n",
       "      <td>0.0</td>\n",
       "      <td>3</td>\n",
       "      <td>Black or African American</td>\n",
       "      <td>1</td>\n",
       "      <td>62500</td>\n",
       "      <td>1750.0</td>\n",
       "      <td>1</td>\n",
       "      <td>0.853837</td>\n",
       "      <td>POLYGON ((-8214183.071851451 4953007.332301349...</td>\n",
       "      <td>2</td>\n",
       "    </tr>\n",
       "  </tbody>\n",
       "</table>\n",
       "<p>5 rows × 36 columns</p>\n",
       "</div>"
      ],
      "text/plain": [
       "   id         state  zipcode geographic_division census_region        county  \\\n",
       "0   1    Washington    98033             Pacific          West          King   \n",
       "1   2       Florida    33950      South Atlantic         South     Charlotte   \n",
       "2   3    New Jersey     7031     Middle Atlantic     Northeast        Bergen   \n",
       "3   5  Pennsylvania    19148     Middle Atlantic     Northeast  Philadelphia   \n",
       "4   8      New York    11691     Middle Atlantic     Northeast        Queens   \n",
       "\n",
       "   awareness  perception  experience  floodzone  ...  sex  education  \\\n",
       "0        0.0         1.0         0.0        0.0  ...  0.0          4   \n",
       "1        1.0         1.0         1.0        1.0  ...  1.0          5   \n",
       "2        0.0         1.0         1.0        0.0  ...  1.0          1   \n",
       "3        0.0         1.0         1.0        0.0  ...  0.0          4   \n",
       "4        1.0         1.0         1.0        1.0  ...  0.0          3   \n",
       "\n",
       "                        race  homeownership  income  rentmortgage  rurality  \\\n",
       "0                      White              1   87500        1250.0         1   \n",
       "1                      White              1  175000        3000.0         1   \n",
       "2                      White              0   47500        1250.0         1   \n",
       "3                      White              1  125000        1250.0         1   \n",
       "4  Black or African American              1   62500        1750.0         1   \n",
       "\n",
       "   hazard_weight                                           geometry  zip_count  \n",
       "0       0.255097  POLYGON ((-13608075.601186747 6055357.24645823...          1  \n",
       "1       2.836145  POLYGON ((-9139287.781401768 3112400.961508024...          1  \n",
       "2       1.165971  POLYGON ((-8254065.171859486 4980899.960122439...          1  \n",
       "3       0.624890  POLYGON ((-8368433.592186097 4851218.465580212...          1  \n",
       "4       0.853837  POLYGON ((-8214183.071851451 4953007.332301349...          2  \n",
       "\n",
       "[5 rows x 36 columns]"
      ]
     },
     "execution_count": 2,
     "metadata": {},
     "output_type": "execute_result"
    }
   ],
   "source": [
    "# import data\n",
    "path = '/Users/philip/Documents/ESE/ESE_thesis/flood_experience/data/export/clean_k.csv'\n",
    "df = pd.read_csv(path)\n",
    "df.head()"
   ]
  },
  {
   "cell_type": "code",
   "execution_count": 3,
   "metadata": {},
   "outputs": [
    {
     "data": {
      "text/plain": [
       "Index(['id', 'state', 'zipcode', 'geographic_division', 'census_region',\n",
       "       'county', 'awareness', 'perception', 'experience', 'floodzone',\n",
       "       'efficacy', 'supplies', 'insured', 'involved', 'learned_routes',\n",
       "       'made_plan', 'made_safer', 'planned_neighbors', 'practiced_drills',\n",
       "       'documents', 'rainy_day', 'alerts', 'family_communication', 'none',\n",
       "       'dont_know', 'age', 'sex', 'education', 'race', 'homeownership',\n",
       "       'income', 'rentmortgage', 'rurality', 'hazard_weight', 'geometry',\n",
       "       'zip_count'],\n",
       "      dtype='object')"
      ]
     },
     "execution_count": 3,
     "metadata": {},
     "output_type": "execute_result"
    }
   ],
   "source": [
    "df.columns"
   ]
  },
  {
   "cell_type": "markdown",
   "metadata": {},
   "source": [
    "#### We will go through these outcome variables one by one\n",
    "\n",
    "structural adaptation: \n",
    "- made_safer\n",
    "\n",
    "non-structural adaptation: \n",
    "- insurance\n",
    "- learned_rountes\n",
    "- supplies\n",
    "- involved\n",
    "- made_plan\n",
    "- practiced_drills\n",
    "- alerts\n",
    "- family_communication\n"
   ]
  },
  {
   "cell_type": "code",
   "execution_count": 4,
   "metadata": {},
   "outputs": [],
   "source": [
    "# define the regression model \n",
    "def model (function, data):\n",
    "    model = smf.logit(function, data=data).fit()\n",
    "    print(model.summary()) # print model summary\n",
    "    print('BIC:', model.bic) # print BIC additionally to defaults model fit parameters\n",
    "    # print odds ratios for output = 0 and output = 1\n",
    "    print('likelihood of adaptation when there is low perceived efficacy = ', 1 / (1 + np.exp(-model.params['Intercept'])))\n",
    "    print('likelihood of adaptation when there is high perceived effifacy = ', 1 / (1 + np.exp(-(model.params['Intercept']+model.params['efficacy']))))\n",
    "\n",
    "    # compute odds ratio\n",
    "    params = model.params\n",
    "    conf = model.conf_int()\n",
    "    odds_ratios = pd.DataFrame({\n",
    "        \"OR\": np.exp(params),\n",
    "        \"Lower CI\": np.exp(conf[0]),\n",
    "        \"Upper CI\": np.exp(conf[1])\n",
    "        })\n",
    "    odds_ratios.index.name = 'Variable'\n",
    "    odds_ratios.reset_index(inplace=True)\n",
    "    # compute marginal effects\n",
    "    marginal_effects = model.get_margeff().summary()\n",
    "\n",
    "    return odds_ratios, marginal_effects \n",
    "    "
   ]
  },
  {
   "cell_type": "code",
   "execution_count": 5,
   "metadata": {},
   "outputs": [
    {
     "name": "stdout",
     "output_type": "stream",
     "text": [
      "Optimization terminated successfully.\n",
      "         Current function value: 0.467192\n",
      "         Iterations 6\n",
      "                           Logit Regression Results                           \n",
      "==============================================================================\n",
      "Dep. Variable:             made_safer   No. Observations:                  385\n",
      "Model:                          Logit   Df Residuals:                      383\n",
      "Method:                           MLE   Df Model:                            1\n",
      "Date:                Mon, 07 Apr 2025   Pseudo R-squ.:                 0.04540\n",
      "Time:                        17:20:36   Log-Likelihood:                -179.87\n",
      "converged:                       True   LL-Null:                       -188.42\n",
      "Covariance Type:            nonrobust   LLR p-value:                 3.533e-05\n",
      "==============================================================================\n",
      "                 coef    std err          z      P>|z|      [0.025      0.975]\n",
      "------------------------------------------------------------------------------\n",
      "Intercept     -1.9363      0.195     -9.915      0.000      -2.319      -1.554\n",
      "efficacy       1.0858      0.266      4.087      0.000       0.565       1.606\n",
      "==============================================================================\n",
      "BIC: 371.64396443355633\n",
      "likelihood of adaptation when there is low perceived efficacy =  0.12605042016806706\n",
      "likelihood of adaptation when there is high perceived effifacy =  0.29931972789115646\n"
     ]
    }
   ],
   "source": [
    "odds, marg_eff = model('made_safer ~ efficacy', data=df)"
   ]
  },
  {
   "cell_type": "code",
   "execution_count": 6,
   "metadata": {},
   "outputs": [
    {
     "data": {
      "text/html": [
       "<div>\n",
       "<style scoped>\n",
       "    .dataframe tbody tr th:only-of-type {\n",
       "        vertical-align: middle;\n",
       "    }\n",
       "\n",
       "    .dataframe tbody tr th {\n",
       "        vertical-align: top;\n",
       "    }\n",
       "\n",
       "    .dataframe thead th {\n",
       "        text-align: right;\n",
       "    }\n",
       "</style>\n",
       "<table border=\"1\" class=\"dataframe\">\n",
       "  <thead>\n",
       "    <tr style=\"text-align: right;\">\n",
       "      <th></th>\n",
       "      <th>Variable</th>\n",
       "      <th>OR</th>\n",
       "      <th>Lower CI</th>\n",
       "      <th>Upper CI</th>\n",
       "    </tr>\n",
       "  </thead>\n",
       "  <tbody>\n",
       "    <tr>\n",
       "      <th>0</th>\n",
       "      <td>Intercept</td>\n",
       "      <td>0.144231</td>\n",
       "      <td>0.098360</td>\n",
       "      <td>0.211493</td>\n",
       "    </tr>\n",
       "    <tr>\n",
       "      <th>1</th>\n",
       "      <td>efficacy</td>\n",
       "      <td>2.961812</td>\n",
       "      <td>1.759643</td>\n",
       "      <td>4.985292</td>\n",
       "    </tr>\n",
       "  </tbody>\n",
       "</table>\n",
       "</div>"
      ],
      "text/plain": [
       "    Variable        OR  Lower CI  Upper CI\n",
       "0  Intercept  0.144231  0.098360  0.211493\n",
       "1   efficacy  2.961812  1.759643  4.985292"
      ]
     },
     "execution_count": 6,
     "metadata": {},
     "output_type": "execute_result"
    }
   ],
   "source": [
    "odds"
   ]
  },
  {
   "cell_type": "code",
   "execution_count": 7,
   "metadata": {},
   "outputs": [
    {
     "data": {
      "text/html": [
       "<table class=\"simpletable\">\n",
       "<caption>Logit Marginal Effects</caption>\n",
       "<tr>\n",
       "  <th>Dep. Variable:</th> <td>made_safer</td>\n",
       "</tr>\n",
       "<tr>\n",
       "  <th>Method:</th>           <td>dydx</td>   \n",
       "</tr>\n",
       "<tr>\n",
       "  <th>At:</th>              <td>overall</td> \n",
       "</tr>\n",
       "</table>\n",
       "<table class=\"simpletable\">\n",
       "<tr>\n",
       "      <th></th>        <th>dy/dx</th>    <th>std err</th>      <th>z</th>      <th>P>|z|</th>  <th>[0.025</th>    <th>0.975]</th>  \n",
       "</tr>\n",
       "<tr>\n",
       "  <th>efficacy</th> <td>    0.1609</td> <td>    0.038</td> <td>    4.275</td> <td> 0.000</td> <td>    0.087</td> <td>    0.235</td>\n",
       "</tr>\n",
       "</table>"
      ],
      "text/latex": [
       "\\begin{center}\n",
       "\\begin{tabular}{lc}\n",
       "\\toprule\n",
       "\\textbf{Dep. Variable:} &  made\\_safer    \\\\\n",
       "\\textbf{Method:}        &      dydx       \\\\\n",
       "\\textbf{At:}            &    overall      \\\\\n",
       "\\bottomrule\n",
       "\\end{tabular}\n",
       "\\begin{tabular}{ccccccc}\n",
       "    \\textbf{}     & \\textbf{dy/dx} & \\textbf{std err} & \\textbf{z} & \\textbf{P$> |$z$|$} & \\textbf{[0.025} & \\textbf{0.975]}  \\\\\n",
       "\\midrule\n",
       "\\bottomrule\n",
       "\\end{tabular}\n",
       "\\begin{tabular}{lcccccc}\n",
       "\\textbf{efficacy} &       0.1609   &        0.038     &     4.275  &         0.000        &        0.087    &        0.235     \\\\\n",
       "\\bottomrule\n",
       "\\end{tabular}\n",
       "%\\caption{Logit Marginal Effects}\n",
       "\\end{center}"
      ],
      "text/plain": [
       "<class 'statsmodels.iolib.summary.Summary'>\n",
       "\"\"\"\n",
       "        Logit Marginal Effects       \n",
       "=====================================\n",
       "Dep. Variable:             made_safer\n",
       "Method:                          dydx\n",
       "At:                           overall\n",
       "==============================================================================\n",
       "                dy/dx    std err          z      P>|z|      [0.025      0.975]\n",
       "------------------------------------------------------------------------------\n",
       "efficacy       0.1609      0.038      4.275      0.000       0.087       0.235\n",
       "==============================================================================\n",
       "\"\"\""
      ]
     },
     "execution_count": 7,
     "metadata": {},
     "output_type": "execute_result"
    }
   ],
   "source": [
    "marg_eff"
   ]
  },
  {
   "cell_type": "code",
   "execution_count": 8,
   "metadata": {},
   "outputs": [
    {
     "name": "stdout",
     "output_type": "stream",
     "text": [
      "Optimization terminated successfully.\n",
      "         Current function value: 0.485370\n",
      "         Iterations 6\n",
      "                           Logit Regression Results                           \n",
      "==============================================================================\n",
      "Dep. Variable:                insured   No. Observations:                  385\n",
      "Model:                          Logit   Df Residuals:                      383\n",
      "Method:                           MLE   Df Model:                            1\n",
      "Date:                Mon, 07 Apr 2025   Pseudo R-squ.:                  0.1173\n",
      "Time:                        17:20:36   Log-Likelihood:                -186.87\n",
      "converged:                       True   LL-Null:                       -211.70\n",
      "Covariance Type:            nonrobust   LLR p-value:                 1.817e-12\n",
      "==============================================================================\n",
      "                 coef    std err          z      P>|z|      [0.025      0.975]\n",
      "------------------------------------------------------------------------------\n",
      "Intercept     -2.0149      0.201    -10.015      0.000      -2.409      -1.621\n",
      "efficacy       1.7549      0.261      6.723      0.000       1.243       2.267\n",
      "==============================================================================\n",
      "BIC: 385.6413168137244\n",
      "likelihood of adaptation when there is low perceived efficacy =  0.11764705882352941\n",
      "likelihood of adaptation when there is high perceived effifacy =  0.43537414965986376\n"
     ]
    }
   ],
   "source": [
    "odds, marg_eff = model('insured ~ efficacy', data=df)"
   ]
  },
  {
   "cell_type": "code",
   "execution_count": 9,
   "metadata": {},
   "outputs": [
    {
     "data": {
      "text/html": [
       "<div>\n",
       "<style scoped>\n",
       "    .dataframe tbody tr th:only-of-type {\n",
       "        vertical-align: middle;\n",
       "    }\n",
       "\n",
       "    .dataframe tbody tr th {\n",
       "        vertical-align: top;\n",
       "    }\n",
       "\n",
       "    .dataframe thead th {\n",
       "        text-align: right;\n",
       "    }\n",
       "</style>\n",
       "<table border=\"1\" class=\"dataframe\">\n",
       "  <thead>\n",
       "    <tr style=\"text-align: right;\">\n",
       "      <th></th>\n",
       "      <th>Variable</th>\n",
       "      <th>OR</th>\n",
       "      <th>Lower CI</th>\n",
       "      <th>Upper CI</th>\n",
       "    </tr>\n",
       "  </thead>\n",
       "  <tbody>\n",
       "    <tr>\n",
       "      <th>0</th>\n",
       "      <td>Intercept</td>\n",
       "      <td>0.133333</td>\n",
       "      <td>0.089885</td>\n",
       "      <td>0.197783</td>\n",
       "    </tr>\n",
       "    <tr>\n",
       "      <th>1</th>\n",
       "      <td>efficacy</td>\n",
       "      <td>5.783133</td>\n",
       "      <td>3.466995</td>\n",
       "      <td>9.646572</td>\n",
       "    </tr>\n",
       "  </tbody>\n",
       "</table>\n",
       "</div>"
      ],
      "text/plain": [
       "    Variable        OR  Lower CI  Upper CI\n",
       "0  Intercept  0.133333  0.089885  0.197783\n",
       "1   efficacy  5.783133  3.466995  9.646572"
      ]
     },
     "execution_count": 9,
     "metadata": {},
     "output_type": "execute_result"
    }
   ],
   "source": [
    "odds"
   ]
  },
  {
   "cell_type": "code",
   "execution_count": 10,
   "metadata": {},
   "outputs": [
    {
     "data": {
      "text/html": [
       "<table class=\"simpletable\">\n",
       "<caption>Logit Marginal Effects</caption>\n",
       "<tr>\n",
       "  <th>Dep. Variable:</th> <td>insured</td>\n",
       "</tr>\n",
       "<tr>\n",
       "  <th>Method:</th>         <td>dydx</td>  \n",
       "</tr>\n",
       "<tr>\n",
       "  <th>At:</th>            <td>overall</td>\n",
       "</tr>\n",
       "</table>\n",
       "<table class=\"simpletable\">\n",
       "<tr>\n",
       "      <th></th>        <th>dy/dx</th>    <th>std err</th>      <th>z</th>      <th>P>|z|</th>  <th>[0.025</th>    <th>0.975]</th>  \n",
       "</tr>\n",
       "<tr>\n",
       "  <th>efficacy</th> <td>    0.2773</td> <td>    0.033</td> <td>    8.365</td> <td> 0.000</td> <td>    0.212</td> <td>    0.342</td>\n",
       "</tr>\n",
       "</table>"
      ],
      "text/latex": [
       "\\begin{center}\n",
       "\\begin{tabular}{lc}\n",
       "\\toprule\n",
       "\\textbf{Dep. Variable:} &    insured      \\\\\n",
       "\\textbf{Method:}        &      dydx       \\\\\n",
       "\\textbf{At:}            &    overall      \\\\\n",
       "\\bottomrule\n",
       "\\end{tabular}\n",
       "\\begin{tabular}{ccccccc}\n",
       "    \\textbf{}     & \\textbf{dy/dx} & \\textbf{std err} & \\textbf{z} & \\textbf{P$> |$z$|$} & \\textbf{[0.025} & \\textbf{0.975]}  \\\\\n",
       "\\midrule\n",
       "\\bottomrule\n",
       "\\end{tabular}\n",
       "\\begin{tabular}{lcccccc}\n",
       "\\textbf{efficacy} &       0.2773   &        0.033     &     8.365  &         0.000        &        0.212    &        0.342     \\\\\n",
       "\\bottomrule\n",
       "\\end{tabular}\n",
       "%\\caption{Logit Marginal Effects}\n",
       "\\end{center}"
      ],
      "text/plain": [
       "<class 'statsmodels.iolib.summary.Summary'>\n",
       "\"\"\"\n",
       "        Logit Marginal Effects       \n",
       "=====================================\n",
       "Dep. Variable:                insured\n",
       "Method:                          dydx\n",
       "At:                           overall\n",
       "==============================================================================\n",
       "                dy/dx    std err          z      P>|z|      [0.025      0.975]\n",
       "------------------------------------------------------------------------------\n",
       "efficacy       0.2773      0.033      8.365      0.000       0.212       0.342\n",
       "==============================================================================\n",
       "\"\"\""
      ]
     },
     "execution_count": 10,
     "metadata": {},
     "output_type": "execute_result"
    }
   ],
   "source": [
    "marg_eff"
   ]
  },
  {
   "cell_type": "code",
   "execution_count": 11,
   "metadata": {},
   "outputs": [
    {
     "name": "stdout",
     "output_type": "stream",
     "text": [
      "Optimization terminated successfully.\n",
      "         Current function value: 0.510286\n",
      "         Iterations 6\n",
      "                           Logit Regression Results                           \n",
      "==============================================================================\n",
      "Dep. Variable:         learned_routes   No. Observations:                  385\n",
      "Model:                          Logit   Df Residuals:                      383\n",
      "Method:                           MLE   Df Model:                            1\n",
      "Date:                Mon, 07 Apr 2025   Pseudo R-squ.:                 0.09598\n",
      "Time:                        17:20:36   Log-Likelihood:                -196.46\n",
      "converged:                       True   LL-Null:                       -217.32\n",
      "Covariance Type:            nonrobust   LLR p-value:                 1.054e-10\n",
      "==============================================================================\n",
      "                 coef    std err          z      P>|z|      [0.025      0.975]\n",
      "------------------------------------------------------------------------------\n",
      "Intercept     -1.8265      0.188     -9.738      0.000      -2.194      -1.459\n",
      "efficacy       1.5665      0.251      6.248      0.000       1.075       2.058\n",
      "==============================================================================\n",
      "BIC: 404.82634178133765\n",
      "likelihood of adaptation when there is low perceived efficacy =  0.1386554621848738\n",
      "likelihood of adaptation when there is high perceived effifacy =  0.43537414965986393\n"
     ]
    }
   ],
   "source": [
    "odds, marg_eff = model('learned_routes ~ efficacy', data=df)"
   ]
  },
  {
   "cell_type": "code",
   "execution_count": 12,
   "metadata": {},
   "outputs": [
    {
     "data": {
      "text/html": [
       "<div>\n",
       "<style scoped>\n",
       "    .dataframe tbody tr th:only-of-type {\n",
       "        vertical-align: middle;\n",
       "    }\n",
       "\n",
       "    .dataframe tbody tr th {\n",
       "        vertical-align: top;\n",
       "    }\n",
       "\n",
       "    .dataframe thead th {\n",
       "        text-align: right;\n",
       "    }\n",
       "</style>\n",
       "<table border=\"1\" class=\"dataframe\">\n",
       "  <thead>\n",
       "    <tr style=\"text-align: right;\">\n",
       "      <th></th>\n",
       "      <th>Variable</th>\n",
       "      <th>OR</th>\n",
       "      <th>Lower CI</th>\n",
       "      <th>Upper CI</th>\n",
       "    </tr>\n",
       "  </thead>\n",
       "  <tbody>\n",
       "    <tr>\n",
       "      <th>0</th>\n",
       "      <td>Intercept</td>\n",
       "      <td>0.160976</td>\n",
       "      <td>0.111456</td>\n",
       "      <td>0.232497</td>\n",
       "    </tr>\n",
       "    <tr>\n",
       "      <th>1</th>\n",
       "      <td>efficacy</td>\n",
       "      <td>4.790069</td>\n",
       "      <td>2.930483</td>\n",
       "      <td>7.829688</td>\n",
       "    </tr>\n",
       "  </tbody>\n",
       "</table>\n",
       "</div>"
      ],
      "text/plain": [
       "    Variable        OR  Lower CI  Upper CI\n",
       "0  Intercept  0.160976  0.111456  0.232497\n",
       "1   efficacy  4.790069  2.930483  7.829688"
      ]
     },
     "execution_count": 12,
     "metadata": {},
     "output_type": "execute_result"
    }
   ],
   "source": [
    "odds"
   ]
  },
  {
   "cell_type": "code",
   "execution_count": 13,
   "metadata": {},
   "outputs": [
    {
     "data": {
      "text/html": [
       "<table class=\"simpletable\">\n",
       "<caption>Logit Marginal Effects</caption>\n",
       "<tr>\n",
       "  <th>Dep. Variable:</th> <td>learned_routes</td>\n",
       "</tr>\n",
       "<tr>\n",
       "  <th>Method:</th>             <td>dydx</td>     \n",
       "</tr>\n",
       "<tr>\n",
       "  <th>At:</th>                <td>overall</td>   \n",
       "</tr>\n",
       "</table>\n",
       "<table class=\"simpletable\">\n",
       "<tr>\n",
       "      <th></th>        <th>dy/dx</th>    <th>std err</th>      <th>z</th>      <th>P>|z|</th>  <th>[0.025</th>    <th>0.975]</th>  \n",
       "</tr>\n",
       "<tr>\n",
       "  <th>efficacy</th> <td>    0.2627</td> <td>    0.035</td> <td>    7.541</td> <td> 0.000</td> <td>    0.194</td> <td>    0.331</td>\n",
       "</tr>\n",
       "</table>"
      ],
      "text/latex": [
       "\\begin{center}\n",
       "\\begin{tabular}{lc}\n",
       "\\toprule\n",
       "\\textbf{Dep. Variable:} & learned\\_routes  \\\\\n",
       "\\textbf{Method:}        &       dydx       \\\\\n",
       "\\textbf{At:}            &     overall      \\\\\n",
       "\\bottomrule\n",
       "\\end{tabular}\n",
       "\\begin{tabular}{ccccccc}\n",
       "    \\textbf{}     & \\textbf{dy/dx} & \\textbf{std err} & \\textbf{z} & \\textbf{P$> |$z$|$} & \\textbf{[0.025} & \\textbf{0.975]}  \\\\\n",
       "\\midrule\n",
       "\\bottomrule\n",
       "\\end{tabular}\n",
       "\\begin{tabular}{lcccccc}\n",
       "\\textbf{efficacy} &       0.2627   &        0.035     &     7.541  &         0.000        &        0.194    &        0.331     \\\\\n",
       "\\bottomrule\n",
       "\\end{tabular}\n",
       "%\\caption{Logit Marginal Effects}\n",
       "\\end{center}"
      ],
      "text/plain": [
       "<class 'statsmodels.iolib.summary.Summary'>\n",
       "\"\"\"\n",
       "        Logit Marginal Effects       \n",
       "=====================================\n",
       "Dep. Variable:         learned_routes\n",
       "Method:                          dydx\n",
       "At:                           overall\n",
       "==============================================================================\n",
       "                dy/dx    std err          z      P>|z|      [0.025      0.975]\n",
       "------------------------------------------------------------------------------\n",
       "efficacy       0.2627      0.035      7.541      0.000       0.194       0.331\n",
       "==============================================================================\n",
       "\"\"\""
      ]
     },
     "execution_count": 13,
     "metadata": {},
     "output_type": "execute_result"
    }
   ],
   "source": [
    "marg_eff"
   ]
  },
  {
   "cell_type": "code",
   "execution_count": 14,
   "metadata": {},
   "outputs": [
    {
     "name": "stdout",
     "output_type": "stream",
     "text": [
      "Optimization terminated successfully.\n",
      "         Current function value: 0.484659\n",
      "         Iterations 6\n",
      "                           Logit Regression Results                           \n",
      "==============================================================================\n",
      "Dep. Variable:               supplies   No. Observations:                  385\n",
      "Model:                          Logit   Df Residuals:                      383\n",
      "Method:                           MLE   Df Model:                            1\n",
      "Date:                Mon, 07 Apr 2025   Pseudo R-squ.:                  0.1137\n",
      "Time:                        17:20:36   Log-Likelihood:                -186.59\n",
      "converged:                       True   LL-Null:                       -210.54\n",
      "Covariance Type:            nonrobust   LLR p-value:                 4.511e-12\n",
      "==============================================================================\n",
      "                 coef    std err          z      P>|z|      [0.025      0.975]\n",
      "------------------------------------------------------------------------------\n",
      "Intercept     -2.0149      0.201    -10.015      0.000      -2.409      -1.621\n",
      "efficacy       1.7272      0.261      6.611      0.000       1.215       2.239\n",
      "==============================================================================\n",
      "BIC: 385.09369464698796\n",
      "likelihood of adaptation when there is low perceived efficacy =  0.11764705882352937\n",
      "likelihood of adaptation when there is high perceived effifacy =  0.4285714285714286\n"
     ]
    }
   ],
   "source": [
    "odds, marg_eff = model('supplies ~ efficacy', data=df)"
   ]
  },
  {
   "cell_type": "code",
   "execution_count": 15,
   "metadata": {},
   "outputs": [
    {
     "data": {
      "text/html": [
       "<div>\n",
       "<style scoped>\n",
       "    .dataframe tbody tr th:only-of-type {\n",
       "        vertical-align: middle;\n",
       "    }\n",
       "\n",
       "    .dataframe tbody tr th {\n",
       "        vertical-align: top;\n",
       "    }\n",
       "\n",
       "    .dataframe thead th {\n",
       "        text-align: right;\n",
       "    }\n",
       "</style>\n",
       "<table border=\"1\" class=\"dataframe\">\n",
       "  <thead>\n",
       "    <tr style=\"text-align: right;\">\n",
       "      <th></th>\n",
       "      <th>Variable</th>\n",
       "      <th>OR</th>\n",
       "      <th>Lower CI</th>\n",
       "      <th>Upper CI</th>\n",
       "    </tr>\n",
       "  </thead>\n",
       "  <tbody>\n",
       "    <tr>\n",
       "      <th>0</th>\n",
       "      <td>Intercept</td>\n",
       "      <td>0.133333</td>\n",
       "      <td>0.089885</td>\n",
       "      <td>0.197783</td>\n",
       "    </tr>\n",
       "    <tr>\n",
       "      <th>1</th>\n",
       "      <td>efficacy</td>\n",
       "      <td>5.625000</td>\n",
       "      <td>3.370872</td>\n",
       "      <td>9.386482</td>\n",
       "    </tr>\n",
       "  </tbody>\n",
       "</table>\n",
       "</div>"
      ],
      "text/plain": [
       "    Variable        OR  Lower CI  Upper CI\n",
       "0  Intercept  0.133333  0.089885  0.197783\n",
       "1   efficacy  5.625000  3.370872  9.386482"
      ]
     },
     "execution_count": 15,
     "metadata": {},
     "output_type": "execute_result"
    }
   ],
   "source": [
    "odds"
   ]
  },
  {
   "cell_type": "code",
   "execution_count": 16,
   "metadata": {},
   "outputs": [
    {
     "data": {
      "text/html": [
       "<table class=\"simpletable\">\n",
       "<caption>Logit Marginal Effects</caption>\n",
       "<tr>\n",
       "  <th>Dep. Variable:</th> <td>supplies</td>\n",
       "</tr>\n",
       "<tr>\n",
       "  <th>Method:</th>          <td>dydx</td>  \n",
       "</tr>\n",
       "<tr>\n",
       "  <th>At:</th>             <td>overall</td>\n",
       "</tr>\n",
       "</table>\n",
       "<table class=\"simpletable\">\n",
       "<tr>\n",
       "      <th></th>        <th>dy/dx</th>    <th>std err</th>      <th>z</th>      <th>P>|z|</th>  <th>[0.025</th>    <th>0.975]</th>  \n",
       "</tr>\n",
       "<tr>\n",
       "  <th>efficacy</th> <td>    0.2723</td> <td>    0.034</td> <td>    8.128</td> <td> 0.000</td> <td>    0.207</td> <td>    0.338</td>\n",
       "</tr>\n",
       "</table>"
      ],
      "text/latex": [
       "\\begin{center}\n",
       "\\begin{tabular}{lc}\n",
       "\\toprule\n",
       "\\textbf{Dep. Variable:} &    supplies     \\\\\n",
       "\\textbf{Method:}        &      dydx       \\\\\n",
       "\\textbf{At:}            &    overall      \\\\\n",
       "\\bottomrule\n",
       "\\end{tabular}\n",
       "\\begin{tabular}{ccccccc}\n",
       "    \\textbf{}     & \\textbf{dy/dx} & \\textbf{std err} & \\textbf{z} & \\textbf{P$> |$z$|$} & \\textbf{[0.025} & \\textbf{0.975]}  \\\\\n",
       "\\midrule\n",
       "\\bottomrule\n",
       "\\end{tabular}\n",
       "\\begin{tabular}{lcccccc}\n",
       "\\textbf{efficacy} &       0.2723   &        0.034     &     8.128  &         0.000        &        0.207    &        0.338     \\\\\n",
       "\\bottomrule\n",
       "\\end{tabular}\n",
       "%\\caption{Logit Marginal Effects}\n",
       "\\end{center}"
      ],
      "text/plain": [
       "<class 'statsmodels.iolib.summary.Summary'>\n",
       "\"\"\"\n",
       "        Logit Marginal Effects       \n",
       "=====================================\n",
       "Dep. Variable:               supplies\n",
       "Method:                          dydx\n",
       "At:                           overall\n",
       "==============================================================================\n",
       "                dy/dx    std err          z      P>|z|      [0.025      0.975]\n",
       "------------------------------------------------------------------------------\n",
       "efficacy       0.2723      0.034      8.128      0.000       0.207       0.338\n",
       "==============================================================================\n",
       "\"\"\""
      ]
     },
     "execution_count": 16,
     "metadata": {},
     "output_type": "execute_result"
    }
   ],
   "source": [
    "marg_eff"
   ]
  },
  {
   "cell_type": "code",
   "execution_count": 17,
   "metadata": {},
   "outputs": [
    {
     "name": "stdout",
     "output_type": "stream",
     "text": [
      "Optimization terminated successfully.\n",
      "         Current function value: 0.297364\n",
      "         Iterations 7\n",
      "                           Logit Regression Results                           \n",
      "==============================================================================\n",
      "Dep. Variable:               involved   No. Observations:                  385\n",
      "Model:                          Logit   Df Residuals:                      383\n",
      "Method:                           MLE   Df Model:                            1\n",
      "Date:                Mon, 07 Apr 2025   Pseudo R-squ.:                 0.09320\n",
      "Time:                        17:20:36   Log-Likelihood:                -114.48\n",
      "converged:                       True   LL-Null:                       -126.25\n",
      "Covariance Type:            nonrobust   LLR p-value:                 1.227e-06\n",
      "==============================================================================\n",
      "                 coef    std err          z      P>|z|      [0.025      0.975]\n",
      "------------------------------------------------------------------------------\n",
      "Intercept     -3.1268      0.323     -9.678      0.000      -3.760      -2.494\n",
      "efficacy       1.7234      0.384      4.490      0.000       0.971       2.476\n",
      "==============================================================================\n",
      "BIC: 240.87646967292773\n",
      "likelihood of adaptation when there is low perceived efficacy =  0.04201680672268904\n",
      "likelihood of adaptation when there is high perceived effifacy =  0.19727891156462582\n"
     ]
    }
   ],
   "source": [
    "odds, marg_eff = model('involved ~ efficacy', data=df)"
   ]
  },
  {
   "cell_type": "code",
   "execution_count": 18,
   "metadata": {},
   "outputs": [
    {
     "data": {
      "text/html": [
       "<div>\n",
       "<style scoped>\n",
       "    .dataframe tbody tr th:only-of-type {\n",
       "        vertical-align: middle;\n",
       "    }\n",
       "\n",
       "    .dataframe tbody tr th {\n",
       "        vertical-align: top;\n",
       "    }\n",
       "\n",
       "    .dataframe thead th {\n",
       "        text-align: right;\n",
       "    }\n",
       "</style>\n",
       "<table border=\"1\" class=\"dataframe\">\n",
       "  <thead>\n",
       "    <tr style=\"text-align: right;\">\n",
       "      <th></th>\n",
       "      <th>Variable</th>\n",
       "      <th>OR</th>\n",
       "      <th>Lower CI</th>\n",
       "      <th>Upper CI</th>\n",
       "    </tr>\n",
       "  </thead>\n",
       "  <tbody>\n",
       "    <tr>\n",
       "      <th>0</th>\n",
       "      <td>Intercept</td>\n",
       "      <td>0.04386</td>\n",
       "      <td>0.023284</td>\n",
       "      <td>0.082619</td>\n",
       "    </tr>\n",
       "    <tr>\n",
       "      <th>1</th>\n",
       "      <td>efficacy</td>\n",
       "      <td>5.60339</td>\n",
       "      <td>2.640672</td>\n",
       "      <td>11.890149</td>\n",
       "    </tr>\n",
       "  </tbody>\n",
       "</table>\n",
       "</div>"
      ],
      "text/plain": [
       "    Variable       OR  Lower CI   Upper CI\n",
       "0  Intercept  0.04386  0.023284   0.082619\n",
       "1   efficacy  5.60339  2.640672  11.890149"
      ]
     },
     "execution_count": 18,
     "metadata": {},
     "output_type": "execute_result"
    }
   ],
   "source": [
    "odds"
   ]
  },
  {
   "cell_type": "code",
   "execution_count": 19,
   "metadata": {},
   "outputs": [
    {
     "data": {
      "text/html": [
       "<table class=\"simpletable\">\n",
       "<caption>Logit Marginal Effects</caption>\n",
       "<tr>\n",
       "  <th>Dep. Variable:</th> <td>involved</td>\n",
       "</tr>\n",
       "<tr>\n",
       "  <th>Method:</th>          <td>dydx</td>  \n",
       "</tr>\n",
       "<tr>\n",
       "  <th>At:</th>             <td>overall</td>\n",
       "</tr>\n",
       "</table>\n",
       "<table class=\"simpletable\">\n",
       "<tr>\n",
       "      <th></th>        <th>dy/dx</th>    <th>std err</th>      <th>z</th>      <th>P>|z|</th>  <th>[0.025</th>    <th>0.975]</th>  \n",
       "</tr>\n",
       "<tr>\n",
       "  <th>efficacy</th> <td>    0.1471</td> <td>    0.034</td> <td>    4.304</td> <td> 0.000</td> <td>    0.080</td> <td>    0.214</td>\n",
       "</tr>\n",
       "</table>"
      ],
      "text/latex": [
       "\\begin{center}\n",
       "\\begin{tabular}{lc}\n",
       "\\toprule\n",
       "\\textbf{Dep. Variable:} &    involved     \\\\\n",
       "\\textbf{Method:}        &      dydx       \\\\\n",
       "\\textbf{At:}            &    overall      \\\\\n",
       "\\bottomrule\n",
       "\\end{tabular}\n",
       "\\begin{tabular}{ccccccc}\n",
       "    \\textbf{}     & \\textbf{dy/dx} & \\textbf{std err} & \\textbf{z} & \\textbf{P$> |$z$|$} & \\textbf{[0.025} & \\textbf{0.975]}  \\\\\n",
       "\\midrule\n",
       "\\bottomrule\n",
       "\\end{tabular}\n",
       "\\begin{tabular}{lcccccc}\n",
       "\\textbf{efficacy} &       0.1471   &        0.034     &     4.304  &         0.000        &        0.080    &        0.214     \\\\\n",
       "\\bottomrule\n",
       "\\end{tabular}\n",
       "%\\caption{Logit Marginal Effects}\n",
       "\\end{center}"
      ],
      "text/plain": [
       "<class 'statsmodels.iolib.summary.Summary'>\n",
       "\"\"\"\n",
       "        Logit Marginal Effects       \n",
       "=====================================\n",
       "Dep. Variable:               involved\n",
       "Method:                          dydx\n",
       "At:                           overall\n",
       "==============================================================================\n",
       "                dy/dx    std err          z      P>|z|      [0.025      0.975]\n",
       "------------------------------------------------------------------------------\n",
       "efficacy       0.1471      0.034      4.304      0.000       0.080       0.214\n",
       "==============================================================================\n",
       "\"\"\""
      ]
     },
     "execution_count": 19,
     "metadata": {},
     "output_type": "execute_result"
    }
   ],
   "source": [
    "marg_eff"
   ]
  },
  {
   "cell_type": "code",
   "execution_count": 21,
   "metadata": {},
   "outputs": [
    {
     "name": "stdout",
     "output_type": "stream",
     "text": [
      "Optimization terminated successfully.\n",
      "         Current function value: 0.484659\n",
      "         Iterations 6\n",
      "                           Logit Regression Results                           \n",
      "==============================================================================\n",
      "Dep. Variable:              made_plan   No. Observations:                  385\n",
      "Model:                          Logit   Df Residuals:                      383\n",
      "Method:                           MLE   Df Model:                            1\n",
      "Date:                Mon, 07 Apr 2025   Pseudo R-squ.:                  0.1137\n",
      "Time:                        17:20:44   Log-Likelihood:                -186.59\n",
      "converged:                       True   LL-Null:                       -210.54\n",
      "Covariance Type:            nonrobust   LLR p-value:                 4.511e-12\n",
      "==============================================================================\n",
      "                 coef    std err          z      P>|z|      [0.025      0.975]\n",
      "------------------------------------------------------------------------------\n",
      "Intercept     -2.0149      0.201    -10.015      0.000      -2.409      -1.621\n",
      "efficacy       1.7272      0.261      6.611      0.000       1.215       2.239\n",
      "==============================================================================\n",
      "BIC: 385.09369464698796\n",
      "likelihood of adaptation when there is low perceived efficacy =  0.11764705882352937\n",
      "likelihood of adaptation when there is high perceived effifacy =  0.42857142857142855\n"
     ]
    }
   ],
   "source": [
    "odds, marg_eff = model('made_plan ~ efficacy', data=df)"
   ]
  },
  {
   "cell_type": "code",
   "execution_count": 22,
   "metadata": {},
   "outputs": [
    {
     "data": {
      "text/html": [
       "<div>\n",
       "<style scoped>\n",
       "    .dataframe tbody tr th:only-of-type {\n",
       "        vertical-align: middle;\n",
       "    }\n",
       "\n",
       "    .dataframe tbody tr th {\n",
       "        vertical-align: top;\n",
       "    }\n",
       "\n",
       "    .dataframe thead th {\n",
       "        text-align: right;\n",
       "    }\n",
       "</style>\n",
       "<table border=\"1\" class=\"dataframe\">\n",
       "  <thead>\n",
       "    <tr style=\"text-align: right;\">\n",
       "      <th></th>\n",
       "      <th>Variable</th>\n",
       "      <th>OR</th>\n",
       "      <th>Lower CI</th>\n",
       "      <th>Upper CI</th>\n",
       "    </tr>\n",
       "  </thead>\n",
       "  <tbody>\n",
       "    <tr>\n",
       "      <th>0</th>\n",
       "      <td>Intercept</td>\n",
       "      <td>0.133333</td>\n",
       "      <td>0.089885</td>\n",
       "      <td>0.197783</td>\n",
       "    </tr>\n",
       "    <tr>\n",
       "      <th>1</th>\n",
       "      <td>efficacy</td>\n",
       "      <td>5.625000</td>\n",
       "      <td>3.370872</td>\n",
       "      <td>9.386482</td>\n",
       "    </tr>\n",
       "  </tbody>\n",
       "</table>\n",
       "</div>"
      ],
      "text/plain": [
       "    Variable        OR  Lower CI  Upper CI\n",
       "0  Intercept  0.133333  0.089885  0.197783\n",
       "1   efficacy  5.625000  3.370872  9.386482"
      ]
     },
     "execution_count": 22,
     "metadata": {},
     "output_type": "execute_result"
    }
   ],
   "source": [
    "odds"
   ]
  },
  {
   "cell_type": "code",
   "execution_count": 23,
   "metadata": {},
   "outputs": [
    {
     "data": {
      "text/html": [
       "<table class=\"simpletable\">\n",
       "<caption>Logit Marginal Effects</caption>\n",
       "<tr>\n",
       "  <th>Dep. Variable:</th> <td>made_plan</td>\n",
       "</tr>\n",
       "<tr>\n",
       "  <th>Method:</th>          <td>dydx</td>   \n",
       "</tr>\n",
       "<tr>\n",
       "  <th>At:</th>             <td>overall</td> \n",
       "</tr>\n",
       "</table>\n",
       "<table class=\"simpletable\">\n",
       "<tr>\n",
       "      <th></th>        <th>dy/dx</th>    <th>std err</th>      <th>z</th>      <th>P>|z|</th>  <th>[0.025</th>    <th>0.975]</th>  \n",
       "</tr>\n",
       "<tr>\n",
       "  <th>efficacy</th> <td>    0.2723</td> <td>    0.034</td> <td>    8.128</td> <td> 0.000</td> <td>    0.207</td> <td>    0.338</td>\n",
       "</tr>\n",
       "</table>"
      ],
      "text/latex": [
       "\\begin{center}\n",
       "\\begin{tabular}{lc}\n",
       "\\toprule\n",
       "\\textbf{Dep. Variable:} &   made\\_plan    \\\\\n",
       "\\textbf{Method:}        &      dydx       \\\\\n",
       "\\textbf{At:}            &    overall      \\\\\n",
       "\\bottomrule\n",
       "\\end{tabular}\n",
       "\\begin{tabular}{ccccccc}\n",
       "    \\textbf{}     & \\textbf{dy/dx} & \\textbf{std err} & \\textbf{z} & \\textbf{P$> |$z$|$} & \\textbf{[0.025} & \\textbf{0.975]}  \\\\\n",
       "\\midrule\n",
       "\\bottomrule\n",
       "\\end{tabular}\n",
       "\\begin{tabular}{lcccccc}\n",
       "\\textbf{efficacy} &       0.2723   &        0.034     &     8.128  &         0.000        &        0.207    &        0.338     \\\\\n",
       "\\bottomrule\n",
       "\\end{tabular}\n",
       "%\\caption{Logit Marginal Effects}\n",
       "\\end{center}"
      ],
      "text/plain": [
       "<class 'statsmodels.iolib.summary.Summary'>\n",
       "\"\"\"\n",
       "        Logit Marginal Effects       \n",
       "=====================================\n",
       "Dep. Variable:              made_plan\n",
       "Method:                          dydx\n",
       "At:                           overall\n",
       "==============================================================================\n",
       "                dy/dx    std err          z      P>|z|      [0.025      0.975]\n",
       "------------------------------------------------------------------------------\n",
       "efficacy       0.2723      0.034      8.128      0.000       0.207       0.338\n",
       "==============================================================================\n",
       "\"\"\""
      ]
     },
     "execution_count": 23,
     "metadata": {},
     "output_type": "execute_result"
    }
   ],
   "source": [
    "marg_eff"
   ]
  },
  {
   "cell_type": "code",
   "execution_count": 24,
   "metadata": {},
   "outputs": [
    {
     "name": "stdout",
     "output_type": "stream",
     "text": [
      "Optimization terminated successfully.\n",
      "         Current function value: 0.265033\n",
      "         Iterations 7\n",
      "                           Logit Regression Results                           \n",
      "==============================================================================\n",
      "Dep. Variable:       practiced_drills   No. Observations:                  385\n",
      "Model:                          Logit   Df Residuals:                      383\n",
      "Method:                           MLE   Df Model:                            1\n",
      "Date:                Mon, 07 Apr 2025   Pseudo R-squ.:                 0.09393\n",
      "Time:                        17:20:45   Log-Likelihood:                -102.04\n",
      "converged:                       True   LL-Null:                       -112.62\n",
      "Covariance Type:            nonrobust   LLR p-value:                 4.234e-06\n",
      "==============================================================================\n",
      "                 coef    std err          z      P>|z|      [0.025      0.975]\n",
      "------------------------------------------------------------------------------\n",
      "Intercept     -3.3586      0.360     -9.339      0.000      -4.064      -2.654\n",
      "efficacy       1.7735      0.421      4.209      0.000       0.948       2.599\n",
      "==============================================================================\n",
      "BIC: 215.98203491927413\n",
      "likelihood of adaptation when there is low perceived efficacy =  0.033613445378151294\n",
      "likelihood of adaptation when there is high perceived effifacy =  0.17006802721088432\n"
     ]
    }
   ],
   "source": [
    "odds, marg_eff = model('practiced_drills ~ efficacy', data=df)"
   ]
  },
  {
   "cell_type": "code",
   "execution_count": 25,
   "metadata": {},
   "outputs": [
    {
     "data": {
      "text/html": [
       "<div>\n",
       "<style scoped>\n",
       "    .dataframe tbody tr th:only-of-type {\n",
       "        vertical-align: middle;\n",
       "    }\n",
       "\n",
       "    .dataframe tbody tr th {\n",
       "        vertical-align: top;\n",
       "    }\n",
       "\n",
       "    .dataframe thead th {\n",
       "        text-align: right;\n",
       "    }\n",
       "</style>\n",
       "<table border=\"1\" class=\"dataframe\">\n",
       "  <thead>\n",
       "    <tr style=\"text-align: right;\">\n",
       "      <th></th>\n",
       "      <th>Variable</th>\n",
       "      <th>OR</th>\n",
       "      <th>Lower CI</th>\n",
       "      <th>Upper CI</th>\n",
       "    </tr>\n",
       "  </thead>\n",
       "  <tbody>\n",
       "    <tr>\n",
       "      <th>0</th>\n",
       "      <td>Intercept</td>\n",
       "      <td>0.034783</td>\n",
       "      <td>0.017188</td>\n",
       "      <td>0.070388</td>\n",
       "    </tr>\n",
       "    <tr>\n",
       "      <th>1</th>\n",
       "      <td>efficacy</td>\n",
       "      <td>5.891393</td>\n",
       "      <td>2.579618</td>\n",
       "      <td>13.454904</td>\n",
       "    </tr>\n",
       "  </tbody>\n",
       "</table>\n",
       "</div>"
      ],
      "text/plain": [
       "    Variable        OR  Lower CI   Upper CI\n",
       "0  Intercept  0.034783  0.017188   0.070388\n",
       "1   efficacy  5.891393  2.579618  13.454904"
      ]
     },
     "execution_count": 25,
     "metadata": {},
     "output_type": "execute_result"
    }
   ],
   "source": [
    "odds"
   ]
  },
  {
   "cell_type": "code",
   "execution_count": 26,
   "metadata": {},
   "outputs": [
    {
     "data": {
      "text/html": [
       "<table class=\"simpletable\">\n",
       "<caption>Logit Marginal Effects</caption>\n",
       "<tr>\n",
       "  <th>Dep. Variable:</th> <td>practiced_drills</td>\n",
       "</tr>\n",
       "<tr>\n",
       "  <th>Method:</th>              <td>dydx</td>      \n",
       "</tr>\n",
       "<tr>\n",
       "  <th>At:</th>                 <td>overall</td>    \n",
       "</tr>\n",
       "</table>\n",
       "<table class=\"simpletable\">\n",
       "<tr>\n",
       "      <th></th>        <th>dy/dx</th>    <th>std err</th>      <th>z</th>      <th>P>|z|</th>  <th>[0.025</th>    <th>0.975]</th>  \n",
       "</tr>\n",
       "<tr>\n",
       "  <th>efficacy</th> <td>    0.1312</td> <td>    0.033</td> <td>    3.920</td> <td> 0.000</td> <td>    0.066</td> <td>    0.197</td>\n",
       "</tr>\n",
       "</table>"
      ],
      "text/latex": [
       "\\begin{center}\n",
       "\\begin{tabular}{lc}\n",
       "\\toprule\n",
       "\\textbf{Dep. Variable:} & practiced\\_drills  \\\\\n",
       "\\textbf{Method:}        &        dydx        \\\\\n",
       "\\textbf{At:}            &      overall       \\\\\n",
       "\\bottomrule\n",
       "\\end{tabular}\n",
       "\\begin{tabular}{ccccccc}\n",
       "    \\textbf{}     & \\textbf{dy/dx} & \\textbf{std err} & \\textbf{z} & \\textbf{P$> |$z$|$} & \\textbf{[0.025} & \\textbf{0.975]}  \\\\\n",
       "\\midrule\n",
       "\\bottomrule\n",
       "\\end{tabular}\n",
       "\\begin{tabular}{lcccccc}\n",
       "\\textbf{efficacy} &       0.1312   &        0.033     &     3.920  &         0.000        &        0.066    &        0.197     \\\\\n",
       "\\bottomrule\n",
       "\\end{tabular}\n",
       "%\\caption{Logit Marginal Effects}\n",
       "\\end{center}"
      ],
      "text/plain": [
       "<class 'statsmodels.iolib.summary.Summary'>\n",
       "\"\"\"\n",
       "        Logit Marginal Effects       \n",
       "=====================================\n",
       "Dep. Variable:       practiced_drills\n",
       "Method:                          dydx\n",
       "At:                           overall\n",
       "==============================================================================\n",
       "                dy/dx    std err          z      P>|z|      [0.025      0.975]\n",
       "------------------------------------------------------------------------------\n",
       "efficacy       0.1312      0.033      3.920      0.000       0.066       0.197\n",
       "==============================================================================\n",
       "\"\"\""
      ]
     },
     "execution_count": 26,
     "metadata": {},
     "output_type": "execute_result"
    }
   ],
   "source": [
    "marg_eff"
   ]
  },
  {
   "cell_type": "code",
   "execution_count": 27,
   "metadata": {},
   "outputs": [
    {
     "name": "stdout",
     "output_type": "stream",
     "text": [
      "Optimization terminated successfully.\n",
      "         Current function value: 0.470286\n",
      "         Iterations 6\n",
      "                           Logit Regression Results                           \n",
      "==============================================================================\n",
      "Dep. Variable:                 alerts   No. Observations:                  385\n",
      "Model:                          Logit   Df Residuals:                      383\n",
      "Method:                           MLE   Df Model:                            1\n",
      "Date:                Mon, 07 Apr 2025   Pseudo R-squ.:                 0.06018\n",
      "Time:                        17:20:46   Log-Likelihood:                -181.06\n",
      "converged:                       True   LL-Null:                       -192.65\n",
      "Covariance Type:            nonrobust   LLR p-value:                 1.468e-06\n",
      "==============================================================================\n",
      "                 coef    std err          z      P>|z|      [0.025      0.975]\n",
      "------------------------------------------------------------------------------\n",
      "Intercept     -1.9750      0.198     -9.967      0.000      -2.363      -1.587\n",
      "efficacy       1.2511      0.265      4.722      0.000       0.732       1.770\n",
      "==============================================================================\n",
      "BIC: 374.0266050148332\n",
      "likelihood of adaptation when there is low perceived efficacy =  0.12184873949579833\n",
      "likelihood of adaptation when there is high perceived effifacy =  0.32653061224489793\n"
     ]
    }
   ],
   "source": [
    "odds, marg_eff = model('alerts ~ efficacy', data = df)"
   ]
  },
  {
   "cell_type": "code",
   "execution_count": 28,
   "metadata": {},
   "outputs": [
    {
     "data": {
      "text/html": [
       "<div>\n",
       "<style scoped>\n",
       "    .dataframe tbody tr th:only-of-type {\n",
       "        vertical-align: middle;\n",
       "    }\n",
       "\n",
       "    .dataframe tbody tr th {\n",
       "        vertical-align: top;\n",
       "    }\n",
       "\n",
       "    .dataframe thead th {\n",
       "        text-align: right;\n",
       "    }\n",
       "</style>\n",
       "<table border=\"1\" class=\"dataframe\">\n",
       "  <thead>\n",
       "    <tr style=\"text-align: right;\">\n",
       "      <th></th>\n",
       "      <th>Variable</th>\n",
       "      <th>OR</th>\n",
       "      <th>Lower CI</th>\n",
       "      <th>Upper CI</th>\n",
       "    </tr>\n",
       "  </thead>\n",
       "  <tbody>\n",
       "    <tr>\n",
       "      <th>0</th>\n",
       "      <td>Intercept</td>\n",
       "      <td>0.138756</td>\n",
       "      <td>0.094097</td>\n",
       "      <td>0.204610</td>\n",
       "    </tr>\n",
       "    <tr>\n",
       "      <th>1</th>\n",
       "      <td>efficacy</td>\n",
       "      <td>3.494253</td>\n",
       "      <td>2.078850</td>\n",
       "      <td>5.873344</td>\n",
       "    </tr>\n",
       "  </tbody>\n",
       "</table>\n",
       "</div>"
      ],
      "text/plain": [
       "    Variable        OR  Lower CI  Upper CI\n",
       "0  Intercept  0.138756  0.094097  0.204610\n",
       "1   efficacy  3.494253  2.078850  5.873344"
      ]
     },
     "execution_count": 28,
     "metadata": {},
     "output_type": "execute_result"
    }
   ],
   "source": [
    "odds"
   ]
  },
  {
   "cell_type": "code",
   "execution_count": 29,
   "metadata": {},
   "outputs": [
    {
     "data": {
      "text/html": [
       "<table class=\"simpletable\">\n",
       "<caption>Logit Marginal Effects</caption>\n",
       "<tr>\n",
       "  <th>Dep. Variable:</th> <td>alerts</td> \n",
       "</tr>\n",
       "<tr>\n",
       "  <th>Method:</th>         <td>dydx</td>  \n",
       "</tr>\n",
       "<tr>\n",
       "  <th>At:</th>            <td>overall</td>\n",
       "</tr>\n",
       "</table>\n",
       "<table class=\"simpletable\">\n",
       "<tr>\n",
       "      <th></th>        <th>dy/dx</th>    <th>std err</th>      <th>z</th>      <th>P>|z|</th>  <th>[0.025</th>    <th>0.975]</th>  \n",
       "</tr>\n",
       "<tr>\n",
       "  <th>efficacy</th> <td>    0.1878</td> <td>    0.037</td> <td>    5.060</td> <td> 0.000</td> <td>    0.115</td> <td>    0.261</td>\n",
       "</tr>\n",
       "</table>"
      ],
      "text/latex": [
       "\\begin{center}\n",
       "\\begin{tabular}{lc}\n",
       "\\toprule\n",
       "\\textbf{Dep. Variable:} &     alerts      \\\\\n",
       "\\textbf{Method:}        &      dydx       \\\\\n",
       "\\textbf{At:}            &    overall      \\\\\n",
       "\\bottomrule\n",
       "\\end{tabular}\n",
       "\\begin{tabular}{ccccccc}\n",
       "    \\textbf{}     & \\textbf{dy/dx} & \\textbf{std err} & \\textbf{z} & \\textbf{P$> |$z$|$} & \\textbf{[0.025} & \\textbf{0.975]}  \\\\\n",
       "\\midrule\n",
       "\\bottomrule\n",
       "\\end{tabular}\n",
       "\\begin{tabular}{lcccccc}\n",
       "\\textbf{efficacy} &       0.1878   &        0.037     &     5.060  &         0.000        &        0.115    &        0.261     \\\\\n",
       "\\bottomrule\n",
       "\\end{tabular}\n",
       "%\\caption{Logit Marginal Effects}\n",
       "\\end{center}"
      ],
      "text/plain": [
       "<class 'statsmodels.iolib.summary.Summary'>\n",
       "\"\"\"\n",
       "        Logit Marginal Effects       \n",
       "=====================================\n",
       "Dep. Variable:                 alerts\n",
       "Method:                          dydx\n",
       "At:                           overall\n",
       "==============================================================================\n",
       "                dy/dx    std err          z      P>|z|      [0.025      0.975]\n",
       "------------------------------------------------------------------------------\n",
       "efficacy       0.1878      0.037      5.060      0.000       0.115       0.261\n",
       "==============================================================================\n",
       "\"\"\""
      ]
     },
     "execution_count": 29,
     "metadata": {},
     "output_type": "execute_result"
    }
   ],
   "source": [
    "marg_eff"
   ]
  },
  {
   "cell_type": "code",
   "execution_count": 30,
   "metadata": {},
   "outputs": [
    {
     "name": "stdout",
     "output_type": "stream",
     "text": [
      "Optimization terminated successfully.\n",
      "         Current function value: 0.320610\n",
      "         Iterations 7\n",
      "                            Logit Regression Results                            \n",
      "================================================================================\n",
      "Dep. Variable:     family_communication   No. Observations:                  385\n",
      "Model:                            Logit   Df Residuals:                      383\n",
      "Method:                             MLE   Df Model:                            1\n",
      "Date:                  Mon, 07 Apr 2025   Pseudo R-squ.:                 0.06965\n",
      "Time:                          17:20:46   Log-Likelihood:                -123.43\n",
      "converged:                         True   LL-Null:                       -132.68\n",
      "Covariance Type:              nonrobust   LLR p-value:                 1.716e-05\n",
      "==============================================================================\n",
      "                 coef    std err          z      P>|z|      [0.025      0.975]\n",
      "------------------------------------------------------------------------------\n",
      "Intercept     -2.8512      0.285     -9.995      0.000      -3.410      -2.292\n",
      "efficacy       1.4478      0.353      4.106      0.000       0.757       2.139\n",
      "==============================================================================\n",
      "BIC: 258.77591405004466\n",
      "likelihood of adaptation when there is low perceived efficacy =  0.05462184873949589\n",
      "likelihood of adaptation when there is high perceived effifacy =  0.19727891156462582\n"
     ]
    }
   ],
   "source": [
    "odds, marg_eff = model('family_communication ~ efficacy', data=df)"
   ]
  },
  {
   "cell_type": "code",
   "execution_count": 31,
   "metadata": {},
   "outputs": [
    {
     "data": {
      "text/html": [
       "<div>\n",
       "<style scoped>\n",
       "    .dataframe tbody tr th:only-of-type {\n",
       "        vertical-align: middle;\n",
       "    }\n",
       "\n",
       "    .dataframe tbody tr th {\n",
       "        vertical-align: top;\n",
       "    }\n",
       "\n",
       "    .dataframe thead th {\n",
       "        text-align: right;\n",
       "    }\n",
       "</style>\n",
       "<table border=\"1\" class=\"dataframe\">\n",
       "  <thead>\n",
       "    <tr style=\"text-align: right;\">\n",
       "      <th></th>\n",
       "      <th>Variable</th>\n",
       "      <th>OR</th>\n",
       "      <th>Lower CI</th>\n",
       "      <th>Upper CI</th>\n",
       "    </tr>\n",
       "  </thead>\n",
       "  <tbody>\n",
       "    <tr>\n",
       "      <th>0</th>\n",
       "      <td>Intercept</td>\n",
       "      <td>0.057778</td>\n",
       "      <td>0.033034</td>\n",
       "      <td>0.101057</td>\n",
       "    </tr>\n",
       "    <tr>\n",
       "      <th>1</th>\n",
       "      <td>efficacy</td>\n",
       "      <td>4.253585</td>\n",
       "      <td>2.131198</td>\n",
       "      <td>8.489586</td>\n",
       "    </tr>\n",
       "  </tbody>\n",
       "</table>\n",
       "</div>"
      ],
      "text/plain": [
       "    Variable        OR  Lower CI  Upper CI\n",
       "0  Intercept  0.057778  0.033034  0.101057\n",
       "1   efficacy  4.253585  2.131198  8.489586"
      ]
     },
     "execution_count": 31,
     "metadata": {},
     "output_type": "execute_result"
    }
   ],
   "source": [
    "odds"
   ]
  },
  {
   "cell_type": "code",
   "execution_count": 32,
   "metadata": {},
   "outputs": [
    {
     "data": {
      "text/html": [
       "<table class=\"simpletable\">\n",
       "<caption>Logit Marginal Effects</caption>\n",
       "<tr>\n",
       "  <th>Dep. Variable:</th> <td>family_communication</td>\n",
       "</tr>\n",
       "<tr>\n",
       "  <th>Method:</th>                <td>dydx</td>        \n",
       "</tr>\n",
       "<tr>\n",
       "  <th>At:</th>                   <td>overall</td>      \n",
       "</tr>\n",
       "</table>\n",
       "<table class=\"simpletable\">\n",
       "<tr>\n",
       "      <th></th>        <th>dy/dx</th>    <th>std err</th>      <th>z</th>      <th>P>|z|</th>  <th>[0.025</th>    <th>0.975]</th>  \n",
       "</tr>\n",
       "<tr>\n",
       "  <th>efficacy</th> <td>    0.1338</td> <td>    0.033</td> <td>    3.994</td> <td> 0.000</td> <td>    0.068</td> <td>    0.199</td>\n",
       "</tr>\n",
       "</table>"
      ],
      "text/latex": [
       "\\begin{center}\n",
       "\\begin{tabular}{lc}\n",
       "\\toprule\n",
       "\\textbf{Dep. Variable:} & family\\_communication  \\\\\n",
       "\\textbf{Method:}        &          dydx          \\\\\n",
       "\\textbf{At:}            &        overall         \\\\\n",
       "\\bottomrule\n",
       "\\end{tabular}\n",
       "\\begin{tabular}{ccccccc}\n",
       "    \\textbf{}     & \\textbf{dy/dx} & \\textbf{std err} & \\textbf{z} & \\textbf{P$> |$z$|$} & \\textbf{[0.025} & \\textbf{0.975]}  \\\\\n",
       "\\midrule\n",
       "\\bottomrule\n",
       "\\end{tabular}\n",
       "\\begin{tabular}{lcccccc}\n",
       "\\textbf{efficacy} &       0.1338   &        0.033     &     3.994  &         0.000        &        0.068    &        0.199     \\\\\n",
       "\\bottomrule\n",
       "\\end{tabular}\n",
       "%\\caption{Logit Marginal Effects}\n",
       "\\end{center}"
      ],
      "text/plain": [
       "<class 'statsmodels.iolib.summary.Summary'>\n",
       "\"\"\"\n",
       "         Logit Marginal Effects        \n",
       "=======================================\n",
       "Dep. Variable:     family_communication\n",
       "Method:                            dydx\n",
       "At:                             overall\n",
       "==============================================================================\n",
       "                dy/dx    std err          z      P>|z|      [0.025      0.975]\n",
       "------------------------------------------------------------------------------\n",
       "efficacy       0.1338      0.033      3.994      0.000       0.068       0.199\n",
       "==============================================================================\n",
       "\"\"\""
      ]
     },
     "execution_count": 32,
     "metadata": {},
     "output_type": "execute_result"
    }
   ],
   "source": [
    "marg_eff"
   ]
  }
 ],
 "metadata": {
  "kernelspec": {
   "display_name": "datascience",
   "language": "python",
   "name": "python3"
  },
  "language_info": {
   "codemirror_mode": {
    "name": "ipython",
    "version": 3
   },
   "file_extension": ".py",
   "mimetype": "text/x-python",
   "name": "python",
   "nbconvert_exporter": "python",
   "pygments_lexer": "ipython3",
   "version": "3.11.5"
  }
 },
 "nbformat": 4,
 "nbformat_minor": 2
}
